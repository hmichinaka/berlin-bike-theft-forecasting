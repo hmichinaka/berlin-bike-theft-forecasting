{
 "cells": [
  {
   "cell_type": "markdown",
   "id": "21f16503",
   "metadata": {},
   "source": [
    "# Greenlane API"
   ]
  },
  {
   "cell_type": "code",
   "execution_count": 1,
   "id": "6d1407ea",
   "metadata": {},
   "outputs": [],
   "source": [
    "#loading all relevant packages\n",
    "import requests\n",
    "import pandas as pd\n",
    "from pathlib import Path \n",
    "import re\n",
    "import folium\n",
    "import shapely.wkt\n",
    "import json\n",
    "import pickle \n",
    "import geopandas as gpd\n",
    "import numpy as np\n",
    "import matplotlib.pyplot as plt\n",
    "\n",
    "\n",
    "import math\n",
    "from folium.plugins import HeatMap\n",
    "import config\n",
    "import logging\n",
    "import requests\n",
    "import datetime\n",
    "import glob\n",
    "import geopandas as gpd\n",
    "from pyproj import Proj, transform\n",
    "from shapely.geometry import Point, Polygon\n",
    "\n",
    "import json\n",
    "import shapely.wkt"
   ]
  },
  {
   "cell_type": "code",
   "execution_count": 2,
   "id": "187097da",
   "metadata": {},
   "outputs": [],
   "source": [
    "#all API addresses that need to be extracted\n",
    "url1 = 'https://www.infravelo.de/api/v1/projects/'\n",
    "url2 = 'https://www.infravelo.de/api/v1/projects/50/50/'\n",
    "url3 = 'https://www.infravelo.de/api/v1/projects/100/50/'\n",
    "url4 = 'https://www.infravelo.de/api/v1/projects/150/50/'\n",
    "url5 = 'https://www.infravelo.de/api/v1/projects/200/50/'\n",
    "url6 = 'https://www.infravelo.de/api/v1/projects/250/50/'"
   ]
  },
  {
   "cell_type": "code",
   "execution_count": 3,
   "id": "76fb9edd",
   "metadata": {},
   "outputs": [],
   "source": [
    "#extract all json files as dicts\n",
    "response1 = requests.get(url1).json()\n",
    "response2 = requests.get(url2).json()\n",
    "response3 = requests.get(url3).json()\n",
    "response4 = requests.get(url4).json()\n",
    "response5 = requests.get(url5).json()\n",
    "response6 = requests.get(url6).json()"
   ]
  },
  {
   "cell_type": "code",
   "execution_count": 4,
   "id": "5d2f51b4",
   "metadata": {},
   "outputs": [
    {
     "name": "stderr",
     "output_type": "stream",
     "text": [
      "/tmp/ipykernel_4148/1489167939.py:5: FutureWarning: The frame.append method is deprecated and will be removed from pandas in a future version. Use pandas.concat instead.\n",
      "  df1 = df1.append(response1['results'][i], ignore_index = True)\n",
      "/tmp/ipykernel_4148/1489167939.py:5: FutureWarning: The frame.append method is deprecated and will be removed from pandas in a future version. Use pandas.concat instead.\n",
      "  df1 = df1.append(response1['results'][i], ignore_index = True)\n",
      "/tmp/ipykernel_4148/1489167939.py:5: FutureWarning: The frame.append method is deprecated and will be removed from pandas in a future version. Use pandas.concat instead.\n",
      "  df1 = df1.append(response1['results'][i], ignore_index = True)\n",
      "/tmp/ipykernel_4148/1489167939.py:5: FutureWarning: The frame.append method is deprecated and will be removed from pandas in a future version. Use pandas.concat instead.\n",
      "  df1 = df1.append(response1['results'][i], ignore_index = True)\n",
      "/tmp/ipykernel_4148/1489167939.py:5: FutureWarning: The frame.append method is deprecated and will be removed from pandas in a future version. Use pandas.concat instead.\n",
      "  df1 = df1.append(response1['results'][i], ignore_index = True)\n",
      "/tmp/ipykernel_4148/1489167939.py:5: FutureWarning: The frame.append method is deprecated and will be removed from pandas in a future version. Use pandas.concat instead.\n",
      "  df1 = df1.append(response1['results'][i], ignore_index = True)\n",
      "/tmp/ipykernel_4148/1489167939.py:5: FutureWarning: The frame.append method is deprecated and will be removed from pandas in a future version. Use pandas.concat instead.\n",
      "  df1 = df1.append(response1['results'][i], ignore_index = True)\n",
      "/tmp/ipykernel_4148/1489167939.py:5: FutureWarning: The frame.append method is deprecated and will be removed from pandas in a future version. Use pandas.concat instead.\n",
      "  df1 = df1.append(response1['results'][i], ignore_index = True)\n",
      "/tmp/ipykernel_4148/1489167939.py:5: FutureWarning: The frame.append method is deprecated and will be removed from pandas in a future version. Use pandas.concat instead.\n",
      "  df1 = df1.append(response1['results'][i], ignore_index = True)\n",
      "/tmp/ipykernel_4148/1489167939.py:5: FutureWarning: The frame.append method is deprecated and will be removed from pandas in a future version. Use pandas.concat instead.\n",
      "  df1 = df1.append(response1['results'][i], ignore_index = True)\n",
      "/tmp/ipykernel_4148/1489167939.py:5: FutureWarning: The frame.append method is deprecated and will be removed from pandas in a future version. Use pandas.concat instead.\n",
      "  df1 = df1.append(response1['results'][i], ignore_index = True)\n",
      "/tmp/ipykernel_4148/1489167939.py:5: FutureWarning: The frame.append method is deprecated and will be removed from pandas in a future version. Use pandas.concat instead.\n",
      "  df1 = df1.append(response1['results'][i], ignore_index = True)\n",
      "/tmp/ipykernel_4148/1489167939.py:5: FutureWarning: The frame.append method is deprecated and will be removed from pandas in a future version. Use pandas.concat instead.\n",
      "  df1 = df1.append(response1['results'][i], ignore_index = True)\n",
      "/tmp/ipykernel_4148/1489167939.py:5: FutureWarning: The frame.append method is deprecated and will be removed from pandas in a future version. Use pandas.concat instead.\n",
      "  df1 = df1.append(response1['results'][i], ignore_index = True)\n",
      "/tmp/ipykernel_4148/1489167939.py:5: FutureWarning: The frame.append method is deprecated and will be removed from pandas in a future version. Use pandas.concat instead.\n",
      "  df1 = df1.append(response1['results'][i], ignore_index = True)\n",
      "/tmp/ipykernel_4148/1489167939.py:5: FutureWarning: The frame.append method is deprecated and will be removed from pandas in a future version. Use pandas.concat instead.\n",
      "  df1 = df1.append(response1['results'][i], ignore_index = True)\n",
      "/tmp/ipykernel_4148/1489167939.py:5: FutureWarning: The frame.append method is deprecated and will be removed from pandas in a future version. Use pandas.concat instead.\n",
      "  df1 = df1.append(response1['results'][i], ignore_index = True)\n",
      "/tmp/ipykernel_4148/1489167939.py:5: FutureWarning: The frame.append method is deprecated and will be removed from pandas in a future version. Use pandas.concat instead.\n",
      "  df1 = df1.append(response1['results'][i], ignore_index = True)\n",
      "/tmp/ipykernel_4148/1489167939.py:5: FutureWarning: The frame.append method is deprecated and will be removed from pandas in a future version. Use pandas.concat instead.\n",
      "  df1 = df1.append(response1['results'][i], ignore_index = True)\n",
      "/tmp/ipykernel_4148/1489167939.py:5: FutureWarning: The frame.append method is deprecated and will be removed from pandas in a future version. Use pandas.concat instead.\n",
      "  df1 = df1.append(response1['results'][i], ignore_index = True)\n",
      "/tmp/ipykernel_4148/1489167939.py:5: FutureWarning: The frame.append method is deprecated and will be removed from pandas in a future version. Use pandas.concat instead.\n",
      "  df1 = df1.append(response1['results'][i], ignore_index = True)\n",
      "/tmp/ipykernel_4148/1489167939.py:5: FutureWarning: The frame.append method is deprecated and will be removed from pandas in a future version. Use pandas.concat instead.\n",
      "  df1 = df1.append(response1['results'][i], ignore_index = True)\n",
      "/tmp/ipykernel_4148/1489167939.py:5: FutureWarning: The frame.append method is deprecated and will be removed from pandas in a future version. Use pandas.concat instead.\n",
      "  df1 = df1.append(response1['results'][i], ignore_index = True)\n",
      "/tmp/ipykernel_4148/1489167939.py:5: FutureWarning: The frame.append method is deprecated and will be removed from pandas in a future version. Use pandas.concat instead.\n",
      "  df1 = df1.append(response1['results'][i], ignore_index = True)\n",
      "/tmp/ipykernel_4148/1489167939.py:5: FutureWarning: The frame.append method is deprecated and will be removed from pandas in a future version. Use pandas.concat instead.\n",
      "  df1 = df1.append(response1['results'][i], ignore_index = True)\n",
      "/tmp/ipykernel_4148/1489167939.py:5: FutureWarning: The frame.append method is deprecated and will be removed from pandas in a future version. Use pandas.concat instead.\n",
      "  df1 = df1.append(response1['results'][i], ignore_index = True)\n",
      "/tmp/ipykernel_4148/1489167939.py:5: FutureWarning: The frame.append method is deprecated and will be removed from pandas in a future version. Use pandas.concat instead.\n",
      "  df1 = df1.append(response1['results'][i], ignore_index = True)\n",
      "/tmp/ipykernel_4148/1489167939.py:5: FutureWarning: The frame.append method is deprecated and will be removed from pandas in a future version. Use pandas.concat instead.\n",
      "  df1 = df1.append(response1['results'][i], ignore_index = True)\n",
      "/tmp/ipykernel_4148/1489167939.py:5: FutureWarning: The frame.append method is deprecated and will be removed from pandas in a future version. Use pandas.concat instead.\n",
      "  df1 = df1.append(response1['results'][i], ignore_index = True)\n",
      "/tmp/ipykernel_4148/1489167939.py:5: FutureWarning: The frame.append method is deprecated and will be removed from pandas in a future version. Use pandas.concat instead.\n",
      "  df1 = df1.append(response1['results'][i], ignore_index = True)\n",
      "/tmp/ipykernel_4148/1489167939.py:5: FutureWarning: The frame.append method is deprecated and will be removed from pandas in a future version. Use pandas.concat instead.\n",
      "  df1 = df1.append(response1['results'][i], ignore_index = True)\n",
      "/tmp/ipykernel_4148/1489167939.py:5: FutureWarning: The frame.append method is deprecated and will be removed from pandas in a future version. Use pandas.concat instead.\n",
      "  df1 = df1.append(response1['results'][i], ignore_index = True)\n",
      "/tmp/ipykernel_4148/1489167939.py:5: FutureWarning: The frame.append method is deprecated and will be removed from pandas in a future version. Use pandas.concat instead.\n",
      "  df1 = df1.append(response1['results'][i], ignore_index = True)\n",
      "/tmp/ipykernel_4148/1489167939.py:5: FutureWarning: The frame.append method is deprecated and will be removed from pandas in a future version. Use pandas.concat instead.\n",
      "  df1 = df1.append(response1['results'][i], ignore_index = True)\n",
      "/tmp/ipykernel_4148/1489167939.py:5: FutureWarning: The frame.append method is deprecated and will be removed from pandas in a future version. Use pandas.concat instead.\n",
      "  df1 = df1.append(response1['results'][i], ignore_index = True)\n",
      "/tmp/ipykernel_4148/1489167939.py:5: FutureWarning: The frame.append method is deprecated and will be removed from pandas in a future version. Use pandas.concat instead.\n",
      "  df1 = df1.append(response1['results'][i], ignore_index = True)\n",
      "/tmp/ipykernel_4148/1489167939.py:5: FutureWarning: The frame.append method is deprecated and will be removed from pandas in a future version. Use pandas.concat instead.\n",
      "  df1 = df1.append(response1['results'][i], ignore_index = True)\n",
      "/tmp/ipykernel_4148/1489167939.py:5: FutureWarning: The frame.append method is deprecated and will be removed from pandas in a future version. Use pandas.concat instead.\n",
      "  df1 = df1.append(response1['results'][i], ignore_index = True)\n",
      "/tmp/ipykernel_4148/1489167939.py:5: FutureWarning: The frame.append method is deprecated and will be removed from pandas in a future version. Use pandas.concat instead.\n",
      "  df1 = df1.append(response1['results'][i], ignore_index = True)\n",
      "/tmp/ipykernel_4148/1489167939.py:5: FutureWarning: The frame.append method is deprecated and will be removed from pandas in a future version. Use pandas.concat instead.\n",
      "  df1 = df1.append(response1['results'][i], ignore_index = True)\n"
     ]
    },
    {
     "name": "stderr",
     "output_type": "stream",
     "text": [
      "/tmp/ipykernel_4148/1489167939.py:5: FutureWarning: The frame.append method is deprecated and will be removed from pandas in a future version. Use pandas.concat instead.\n",
      "  df1 = df1.append(response1['results'][i], ignore_index = True)\n",
      "/tmp/ipykernel_4148/1489167939.py:5: FutureWarning: The frame.append method is deprecated and will be removed from pandas in a future version. Use pandas.concat instead.\n",
      "  df1 = df1.append(response1['results'][i], ignore_index = True)\n",
      "/tmp/ipykernel_4148/1489167939.py:5: FutureWarning: The frame.append method is deprecated and will be removed from pandas in a future version. Use pandas.concat instead.\n",
      "  df1 = df1.append(response1['results'][i], ignore_index = True)\n",
      "/tmp/ipykernel_4148/1489167939.py:5: FutureWarning: The frame.append method is deprecated and will be removed from pandas in a future version. Use pandas.concat instead.\n",
      "  df1 = df1.append(response1['results'][i], ignore_index = True)\n",
      "/tmp/ipykernel_4148/1489167939.py:5: FutureWarning: The frame.append method is deprecated and will be removed from pandas in a future version. Use pandas.concat instead.\n",
      "  df1 = df1.append(response1['results'][i], ignore_index = True)\n",
      "/tmp/ipykernel_4148/1489167939.py:5: FutureWarning: The frame.append method is deprecated and will be removed from pandas in a future version. Use pandas.concat instead.\n",
      "  df1 = df1.append(response1['results'][i], ignore_index = True)\n",
      "/tmp/ipykernel_4148/1489167939.py:5: FutureWarning: The frame.append method is deprecated and will be removed from pandas in a future version. Use pandas.concat instead.\n",
      "  df1 = df1.append(response1['results'][i], ignore_index = True)\n",
      "/tmp/ipykernel_4148/1489167939.py:5: FutureWarning: The frame.append method is deprecated and will be removed from pandas in a future version. Use pandas.concat instead.\n",
      "  df1 = df1.append(response1['results'][i], ignore_index = True)\n",
      "/tmp/ipykernel_4148/1489167939.py:5: FutureWarning: The frame.append method is deprecated and will be removed from pandas in a future version. Use pandas.concat instead.\n",
      "  df1 = df1.append(response1['results'][i], ignore_index = True)\n",
      "/tmp/ipykernel_4148/1489167939.py:5: FutureWarning: The frame.append method is deprecated and will be removed from pandas in a future version. Use pandas.concat instead.\n",
      "  df1 = df1.append(response1['results'][i], ignore_index = True)\n"
     ]
    }
   ],
   "source": [
    "#create DataFrame out of all provieded info from API (url1)\n",
    "keys = response1['results'][0].keys()\n",
    "df1 = pd.DataFrame(columns = keys)\n",
    "for i in range(len(response1['results'])):\n",
    "    df1 = df1.append(response1['results'][i], ignore_index = True)"
   ]
  },
  {
   "cell_type": "code",
   "execution_count": 5,
   "id": "57c8a3dc",
   "metadata": {},
   "outputs": [
    {
     "name": "stderr",
     "output_type": "stream",
     "text": [
      "/tmp/ipykernel_4148/757572590.py:5: FutureWarning: The frame.append method is deprecated and will be removed from pandas in a future version. Use pandas.concat instead.\n",
      "  df2 = df2.append(response2['results'][i], ignore_index = True)\n",
      "/tmp/ipykernel_4148/757572590.py:5: FutureWarning: The frame.append method is deprecated and will be removed from pandas in a future version. Use pandas.concat instead.\n",
      "  df2 = df2.append(response2['results'][i], ignore_index = True)\n",
      "/tmp/ipykernel_4148/757572590.py:5: FutureWarning: The frame.append method is deprecated and will be removed from pandas in a future version. Use pandas.concat instead.\n",
      "  df2 = df2.append(response2['results'][i], ignore_index = True)\n",
      "/tmp/ipykernel_4148/757572590.py:5: FutureWarning: The frame.append method is deprecated and will be removed from pandas in a future version. Use pandas.concat instead.\n",
      "  df2 = df2.append(response2['results'][i], ignore_index = True)\n",
      "/tmp/ipykernel_4148/757572590.py:5: FutureWarning: The frame.append method is deprecated and will be removed from pandas in a future version. Use pandas.concat instead.\n",
      "  df2 = df2.append(response2['results'][i], ignore_index = True)\n",
      "/tmp/ipykernel_4148/757572590.py:5: FutureWarning: The frame.append method is deprecated and will be removed from pandas in a future version. Use pandas.concat instead.\n",
      "  df2 = df2.append(response2['results'][i], ignore_index = True)\n",
      "/tmp/ipykernel_4148/757572590.py:5: FutureWarning: The frame.append method is deprecated and will be removed from pandas in a future version. Use pandas.concat instead.\n",
      "  df2 = df2.append(response2['results'][i], ignore_index = True)\n",
      "/tmp/ipykernel_4148/757572590.py:5: FutureWarning: The frame.append method is deprecated and will be removed from pandas in a future version. Use pandas.concat instead.\n",
      "  df2 = df2.append(response2['results'][i], ignore_index = True)\n",
      "/tmp/ipykernel_4148/757572590.py:5: FutureWarning: The frame.append method is deprecated and will be removed from pandas in a future version. Use pandas.concat instead.\n",
      "  df2 = df2.append(response2['results'][i], ignore_index = True)\n",
      "/tmp/ipykernel_4148/757572590.py:5: FutureWarning: The frame.append method is deprecated and will be removed from pandas in a future version. Use pandas.concat instead.\n",
      "  df2 = df2.append(response2['results'][i], ignore_index = True)\n",
      "/tmp/ipykernel_4148/757572590.py:5: FutureWarning: The frame.append method is deprecated and will be removed from pandas in a future version. Use pandas.concat instead.\n",
      "  df2 = df2.append(response2['results'][i], ignore_index = True)\n",
      "/tmp/ipykernel_4148/757572590.py:5: FutureWarning: The frame.append method is deprecated and will be removed from pandas in a future version. Use pandas.concat instead.\n",
      "  df2 = df2.append(response2['results'][i], ignore_index = True)\n",
      "/tmp/ipykernel_4148/757572590.py:5: FutureWarning: The frame.append method is deprecated and will be removed from pandas in a future version. Use pandas.concat instead.\n",
      "  df2 = df2.append(response2['results'][i], ignore_index = True)\n",
      "/tmp/ipykernel_4148/757572590.py:5: FutureWarning: The frame.append method is deprecated and will be removed from pandas in a future version. Use pandas.concat instead.\n",
      "  df2 = df2.append(response2['results'][i], ignore_index = True)\n",
      "/tmp/ipykernel_4148/757572590.py:5: FutureWarning: The frame.append method is deprecated and will be removed from pandas in a future version. Use pandas.concat instead.\n",
      "  df2 = df2.append(response2['results'][i], ignore_index = True)\n",
      "/tmp/ipykernel_4148/757572590.py:5: FutureWarning: The frame.append method is deprecated and will be removed from pandas in a future version. Use pandas.concat instead.\n",
      "  df2 = df2.append(response2['results'][i], ignore_index = True)\n",
      "/tmp/ipykernel_4148/757572590.py:5: FutureWarning: The frame.append method is deprecated and will be removed from pandas in a future version. Use pandas.concat instead.\n",
      "  df2 = df2.append(response2['results'][i], ignore_index = True)\n",
      "/tmp/ipykernel_4148/757572590.py:5: FutureWarning: The frame.append method is deprecated and will be removed from pandas in a future version. Use pandas.concat instead.\n",
      "  df2 = df2.append(response2['results'][i], ignore_index = True)\n",
      "/tmp/ipykernel_4148/757572590.py:5: FutureWarning: The frame.append method is deprecated and will be removed from pandas in a future version. Use pandas.concat instead.\n",
      "  df2 = df2.append(response2['results'][i], ignore_index = True)\n",
      "/tmp/ipykernel_4148/757572590.py:5: FutureWarning: The frame.append method is deprecated and will be removed from pandas in a future version. Use pandas.concat instead.\n",
      "  df2 = df2.append(response2['results'][i], ignore_index = True)\n",
      "/tmp/ipykernel_4148/757572590.py:5: FutureWarning: The frame.append method is deprecated and will be removed from pandas in a future version. Use pandas.concat instead.\n",
      "  df2 = df2.append(response2['results'][i], ignore_index = True)\n",
      "/tmp/ipykernel_4148/757572590.py:5: FutureWarning: The frame.append method is deprecated and will be removed from pandas in a future version. Use pandas.concat instead.\n",
      "  df2 = df2.append(response2['results'][i], ignore_index = True)\n",
      "/tmp/ipykernel_4148/757572590.py:5: FutureWarning: The frame.append method is deprecated and will be removed from pandas in a future version. Use pandas.concat instead.\n",
      "  df2 = df2.append(response2['results'][i], ignore_index = True)\n",
      "/tmp/ipykernel_4148/757572590.py:5: FutureWarning: The frame.append method is deprecated and will be removed from pandas in a future version. Use pandas.concat instead.\n",
      "  df2 = df2.append(response2['results'][i], ignore_index = True)\n",
      "/tmp/ipykernel_4148/757572590.py:5: FutureWarning: The frame.append method is deprecated and will be removed from pandas in a future version. Use pandas.concat instead.\n",
      "  df2 = df2.append(response2['results'][i], ignore_index = True)\n",
      "/tmp/ipykernel_4148/757572590.py:5: FutureWarning: The frame.append method is deprecated and will be removed from pandas in a future version. Use pandas.concat instead.\n",
      "  df2 = df2.append(response2['results'][i], ignore_index = True)\n",
      "/tmp/ipykernel_4148/757572590.py:5: FutureWarning: The frame.append method is deprecated and will be removed from pandas in a future version. Use pandas.concat instead.\n",
      "  df2 = df2.append(response2['results'][i], ignore_index = True)\n",
      "/tmp/ipykernel_4148/757572590.py:5: FutureWarning: The frame.append method is deprecated and will be removed from pandas in a future version. Use pandas.concat instead.\n",
      "  df2 = df2.append(response2['results'][i], ignore_index = True)\n",
      "/tmp/ipykernel_4148/757572590.py:5: FutureWarning: The frame.append method is deprecated and will be removed from pandas in a future version. Use pandas.concat instead.\n",
      "  df2 = df2.append(response2['results'][i], ignore_index = True)\n",
      "/tmp/ipykernel_4148/757572590.py:5: FutureWarning: The frame.append method is deprecated and will be removed from pandas in a future version. Use pandas.concat instead.\n",
      "  df2 = df2.append(response2['results'][i], ignore_index = True)\n",
      "/tmp/ipykernel_4148/757572590.py:5: FutureWarning: The frame.append method is deprecated and will be removed from pandas in a future version. Use pandas.concat instead.\n",
      "  df2 = df2.append(response2['results'][i], ignore_index = True)\n",
      "/tmp/ipykernel_4148/757572590.py:5: FutureWarning: The frame.append method is deprecated and will be removed from pandas in a future version. Use pandas.concat instead.\n",
      "  df2 = df2.append(response2['results'][i], ignore_index = True)\n",
      "/tmp/ipykernel_4148/757572590.py:5: FutureWarning: The frame.append method is deprecated and will be removed from pandas in a future version. Use pandas.concat instead.\n",
      "  df2 = df2.append(response2['results'][i], ignore_index = True)\n",
      "/tmp/ipykernel_4148/757572590.py:5: FutureWarning: The frame.append method is deprecated and will be removed from pandas in a future version. Use pandas.concat instead.\n",
      "  df2 = df2.append(response2['results'][i], ignore_index = True)\n",
      "/tmp/ipykernel_4148/757572590.py:5: FutureWarning: The frame.append method is deprecated and will be removed from pandas in a future version. Use pandas.concat instead.\n",
      "  df2 = df2.append(response2['results'][i], ignore_index = True)\n",
      "/tmp/ipykernel_4148/757572590.py:5: FutureWarning: The frame.append method is deprecated and will be removed from pandas in a future version. Use pandas.concat instead.\n",
      "  df2 = df2.append(response2['results'][i], ignore_index = True)\n",
      "/tmp/ipykernel_4148/757572590.py:5: FutureWarning: The frame.append method is deprecated and will be removed from pandas in a future version. Use pandas.concat instead.\n",
      "  df2 = df2.append(response2['results'][i], ignore_index = True)\n",
      "/tmp/ipykernel_4148/757572590.py:5: FutureWarning: The frame.append method is deprecated and will be removed from pandas in a future version. Use pandas.concat instead.\n",
      "  df2 = df2.append(response2['results'][i], ignore_index = True)\n",
      "/tmp/ipykernel_4148/757572590.py:5: FutureWarning: The frame.append method is deprecated and will be removed from pandas in a future version. Use pandas.concat instead.\n",
      "  df2 = df2.append(response2['results'][i], ignore_index = True)\n",
      "/tmp/ipykernel_4148/757572590.py:5: FutureWarning: The frame.append method is deprecated and will be removed from pandas in a future version. Use pandas.concat instead.\n",
      "  df2 = df2.append(response2['results'][i], ignore_index = True)\n"
     ]
    },
    {
     "name": "stderr",
     "output_type": "stream",
     "text": [
      "/tmp/ipykernel_4148/757572590.py:5: FutureWarning: The frame.append method is deprecated and will be removed from pandas in a future version. Use pandas.concat instead.\n",
      "  df2 = df2.append(response2['results'][i], ignore_index = True)\n",
      "/tmp/ipykernel_4148/757572590.py:5: FutureWarning: The frame.append method is deprecated and will be removed from pandas in a future version. Use pandas.concat instead.\n",
      "  df2 = df2.append(response2['results'][i], ignore_index = True)\n",
      "/tmp/ipykernel_4148/757572590.py:5: FutureWarning: The frame.append method is deprecated and will be removed from pandas in a future version. Use pandas.concat instead.\n",
      "  df2 = df2.append(response2['results'][i], ignore_index = True)\n",
      "/tmp/ipykernel_4148/757572590.py:5: FutureWarning: The frame.append method is deprecated and will be removed from pandas in a future version. Use pandas.concat instead.\n",
      "  df2 = df2.append(response2['results'][i], ignore_index = True)\n",
      "/tmp/ipykernel_4148/757572590.py:5: FutureWarning: The frame.append method is deprecated and will be removed from pandas in a future version. Use pandas.concat instead.\n",
      "  df2 = df2.append(response2['results'][i], ignore_index = True)\n",
      "/tmp/ipykernel_4148/757572590.py:5: FutureWarning: The frame.append method is deprecated and will be removed from pandas in a future version. Use pandas.concat instead.\n",
      "  df2 = df2.append(response2['results'][i], ignore_index = True)\n",
      "/tmp/ipykernel_4148/757572590.py:5: FutureWarning: The frame.append method is deprecated and will be removed from pandas in a future version. Use pandas.concat instead.\n",
      "  df2 = df2.append(response2['results'][i], ignore_index = True)\n",
      "/tmp/ipykernel_4148/757572590.py:5: FutureWarning: The frame.append method is deprecated and will be removed from pandas in a future version. Use pandas.concat instead.\n",
      "  df2 = df2.append(response2['results'][i], ignore_index = True)\n",
      "/tmp/ipykernel_4148/757572590.py:5: FutureWarning: The frame.append method is deprecated and will be removed from pandas in a future version. Use pandas.concat instead.\n",
      "  df2 = df2.append(response2['results'][i], ignore_index = True)\n",
      "/tmp/ipykernel_4148/757572590.py:5: FutureWarning: The frame.append method is deprecated and will be removed from pandas in a future version. Use pandas.concat instead.\n",
      "  df2 = df2.append(response2['results'][i], ignore_index = True)\n"
     ]
    }
   ],
   "source": [
    "#create DataFrame out of all provieded info from API (url2)\n",
    "keys = response2['results'][0].keys()\n",
    "df2 = pd.DataFrame(columns = keys)\n",
    "for i in range(len(response2['results'])):\n",
    "    df2 = df2.append(response2['results'][i], ignore_index = True)"
   ]
  },
  {
   "cell_type": "code",
   "execution_count": 6,
   "id": "e5faa5c4",
   "metadata": {},
   "outputs": [
    {
     "name": "stderr",
     "output_type": "stream",
     "text": [
      "/tmp/ipykernel_4148/3595551254.py:5: FutureWarning: The frame.append method is deprecated and will be removed from pandas in a future version. Use pandas.concat instead.\n",
      "  df3 = df3.append(response3['results'][i], ignore_index = True)\n",
      "/tmp/ipykernel_4148/3595551254.py:5: FutureWarning: The frame.append method is deprecated and will be removed from pandas in a future version. Use pandas.concat instead.\n",
      "  df3 = df3.append(response3['results'][i], ignore_index = True)\n",
      "/tmp/ipykernel_4148/3595551254.py:5: FutureWarning: The frame.append method is deprecated and will be removed from pandas in a future version. Use pandas.concat instead.\n",
      "  df3 = df3.append(response3['results'][i], ignore_index = True)\n",
      "/tmp/ipykernel_4148/3595551254.py:5: FutureWarning: The frame.append method is deprecated and will be removed from pandas in a future version. Use pandas.concat instead.\n",
      "  df3 = df3.append(response3['results'][i], ignore_index = True)\n",
      "/tmp/ipykernel_4148/3595551254.py:5: FutureWarning: The frame.append method is deprecated and will be removed from pandas in a future version. Use pandas.concat instead.\n",
      "  df3 = df3.append(response3['results'][i], ignore_index = True)\n",
      "/tmp/ipykernel_4148/3595551254.py:5: FutureWarning: The frame.append method is deprecated and will be removed from pandas in a future version. Use pandas.concat instead.\n",
      "  df3 = df3.append(response3['results'][i], ignore_index = True)\n",
      "/tmp/ipykernel_4148/3595551254.py:5: FutureWarning: The frame.append method is deprecated and will be removed from pandas in a future version. Use pandas.concat instead.\n",
      "  df3 = df3.append(response3['results'][i], ignore_index = True)\n",
      "/tmp/ipykernel_4148/3595551254.py:5: FutureWarning: The frame.append method is deprecated and will be removed from pandas in a future version. Use pandas.concat instead.\n",
      "  df3 = df3.append(response3['results'][i], ignore_index = True)\n",
      "/tmp/ipykernel_4148/3595551254.py:5: FutureWarning: The frame.append method is deprecated and will be removed from pandas in a future version. Use pandas.concat instead.\n",
      "  df3 = df3.append(response3['results'][i], ignore_index = True)\n",
      "/tmp/ipykernel_4148/3595551254.py:5: FutureWarning: The frame.append method is deprecated and will be removed from pandas in a future version. Use pandas.concat instead.\n",
      "  df3 = df3.append(response3['results'][i], ignore_index = True)\n",
      "/tmp/ipykernel_4148/3595551254.py:5: FutureWarning: The frame.append method is deprecated and will be removed from pandas in a future version. Use pandas.concat instead.\n",
      "  df3 = df3.append(response3['results'][i], ignore_index = True)\n",
      "/tmp/ipykernel_4148/3595551254.py:5: FutureWarning: The frame.append method is deprecated and will be removed from pandas in a future version. Use pandas.concat instead.\n",
      "  df3 = df3.append(response3['results'][i], ignore_index = True)\n",
      "/tmp/ipykernel_4148/3595551254.py:5: FutureWarning: The frame.append method is deprecated and will be removed from pandas in a future version. Use pandas.concat instead.\n",
      "  df3 = df3.append(response3['results'][i], ignore_index = True)\n",
      "/tmp/ipykernel_4148/3595551254.py:5: FutureWarning: The frame.append method is deprecated and will be removed from pandas in a future version. Use pandas.concat instead.\n",
      "  df3 = df3.append(response3['results'][i], ignore_index = True)\n",
      "/tmp/ipykernel_4148/3595551254.py:5: FutureWarning: The frame.append method is deprecated and will be removed from pandas in a future version. Use pandas.concat instead.\n",
      "  df3 = df3.append(response3['results'][i], ignore_index = True)\n",
      "/tmp/ipykernel_4148/3595551254.py:5: FutureWarning: The frame.append method is deprecated and will be removed from pandas in a future version. Use pandas.concat instead.\n",
      "  df3 = df3.append(response3['results'][i], ignore_index = True)\n",
      "/tmp/ipykernel_4148/3595551254.py:5: FutureWarning: The frame.append method is deprecated and will be removed from pandas in a future version. Use pandas.concat instead.\n",
      "  df3 = df3.append(response3['results'][i], ignore_index = True)\n",
      "/tmp/ipykernel_4148/3595551254.py:5: FutureWarning: The frame.append method is deprecated and will be removed from pandas in a future version. Use pandas.concat instead.\n",
      "  df3 = df3.append(response3['results'][i], ignore_index = True)\n",
      "/tmp/ipykernel_4148/3595551254.py:5: FutureWarning: The frame.append method is deprecated and will be removed from pandas in a future version. Use pandas.concat instead.\n",
      "  df3 = df3.append(response3['results'][i], ignore_index = True)\n",
      "/tmp/ipykernel_4148/3595551254.py:5: FutureWarning: The frame.append method is deprecated and will be removed from pandas in a future version. Use pandas.concat instead.\n",
      "  df3 = df3.append(response3['results'][i], ignore_index = True)\n",
      "/tmp/ipykernel_4148/3595551254.py:5: FutureWarning: The frame.append method is deprecated and will be removed from pandas in a future version. Use pandas.concat instead.\n",
      "  df3 = df3.append(response3['results'][i], ignore_index = True)\n",
      "/tmp/ipykernel_4148/3595551254.py:5: FutureWarning: The frame.append method is deprecated and will be removed from pandas in a future version. Use pandas.concat instead.\n",
      "  df3 = df3.append(response3['results'][i], ignore_index = True)\n",
      "/tmp/ipykernel_4148/3595551254.py:5: FutureWarning: The frame.append method is deprecated and will be removed from pandas in a future version. Use pandas.concat instead.\n",
      "  df3 = df3.append(response3['results'][i], ignore_index = True)\n",
      "/tmp/ipykernel_4148/3595551254.py:5: FutureWarning: The frame.append method is deprecated and will be removed from pandas in a future version. Use pandas.concat instead.\n",
      "  df3 = df3.append(response3['results'][i], ignore_index = True)\n",
      "/tmp/ipykernel_4148/3595551254.py:5: FutureWarning: The frame.append method is deprecated and will be removed from pandas in a future version. Use pandas.concat instead.\n",
      "  df3 = df3.append(response3['results'][i], ignore_index = True)\n",
      "/tmp/ipykernel_4148/3595551254.py:5: FutureWarning: The frame.append method is deprecated and will be removed from pandas in a future version. Use pandas.concat instead.\n",
      "  df3 = df3.append(response3['results'][i], ignore_index = True)\n",
      "/tmp/ipykernel_4148/3595551254.py:5: FutureWarning: The frame.append method is deprecated and will be removed from pandas in a future version. Use pandas.concat instead.\n",
      "  df3 = df3.append(response3['results'][i], ignore_index = True)\n",
      "/tmp/ipykernel_4148/3595551254.py:5: FutureWarning: The frame.append method is deprecated and will be removed from pandas in a future version. Use pandas.concat instead.\n",
      "  df3 = df3.append(response3['results'][i], ignore_index = True)\n",
      "/tmp/ipykernel_4148/3595551254.py:5: FutureWarning: The frame.append method is deprecated and will be removed from pandas in a future version. Use pandas.concat instead.\n",
      "  df3 = df3.append(response3['results'][i], ignore_index = True)\n",
      "/tmp/ipykernel_4148/3595551254.py:5: FutureWarning: The frame.append method is deprecated and will be removed from pandas in a future version. Use pandas.concat instead.\n",
      "  df3 = df3.append(response3['results'][i], ignore_index = True)\n",
      "/tmp/ipykernel_4148/3595551254.py:5: FutureWarning: The frame.append method is deprecated and will be removed from pandas in a future version. Use pandas.concat instead.\n",
      "  df3 = df3.append(response3['results'][i], ignore_index = True)\n",
      "/tmp/ipykernel_4148/3595551254.py:5: FutureWarning: The frame.append method is deprecated and will be removed from pandas in a future version. Use pandas.concat instead.\n",
      "  df3 = df3.append(response3['results'][i], ignore_index = True)\n",
      "/tmp/ipykernel_4148/3595551254.py:5: FutureWarning: The frame.append method is deprecated and will be removed from pandas in a future version. Use pandas.concat instead.\n",
      "  df3 = df3.append(response3['results'][i], ignore_index = True)\n",
      "/tmp/ipykernel_4148/3595551254.py:5: FutureWarning: The frame.append method is deprecated and will be removed from pandas in a future version. Use pandas.concat instead.\n",
      "  df3 = df3.append(response3['results'][i], ignore_index = True)\n",
      "/tmp/ipykernel_4148/3595551254.py:5: FutureWarning: The frame.append method is deprecated and will be removed from pandas in a future version. Use pandas.concat instead.\n",
      "  df3 = df3.append(response3['results'][i], ignore_index = True)\n",
      "/tmp/ipykernel_4148/3595551254.py:5: FutureWarning: The frame.append method is deprecated and will be removed from pandas in a future version. Use pandas.concat instead.\n",
      "  df3 = df3.append(response3['results'][i], ignore_index = True)\n",
      "/tmp/ipykernel_4148/3595551254.py:5: FutureWarning: The frame.append method is deprecated and will be removed from pandas in a future version. Use pandas.concat instead.\n",
      "  df3 = df3.append(response3['results'][i], ignore_index = True)\n",
      "/tmp/ipykernel_4148/3595551254.py:5: FutureWarning: The frame.append method is deprecated and will be removed from pandas in a future version. Use pandas.concat instead.\n",
      "  df3 = df3.append(response3['results'][i], ignore_index = True)\n",
      "/tmp/ipykernel_4148/3595551254.py:5: FutureWarning: The frame.append method is deprecated and will be removed from pandas in a future version. Use pandas.concat instead.\n",
      "  df3 = df3.append(response3['results'][i], ignore_index = True)\n",
      "/tmp/ipykernel_4148/3595551254.py:5: FutureWarning: The frame.append method is deprecated and will be removed from pandas in a future version. Use pandas.concat instead.\n",
      "  df3 = df3.append(response3['results'][i], ignore_index = True)\n",
      "/tmp/ipykernel_4148/3595551254.py:5: FutureWarning: The frame.append method is deprecated and will be removed from pandas in a future version. Use pandas.concat instead.\n",
      "  df3 = df3.append(response3['results'][i], ignore_index = True)\n",
      "/tmp/ipykernel_4148/3595551254.py:5: FutureWarning: The frame.append method is deprecated and will be removed from pandas in a future version. Use pandas.concat instead.\n",
      "  df3 = df3.append(response3['results'][i], ignore_index = True)\n",
      "/tmp/ipykernel_4148/3595551254.py:5: FutureWarning: The frame.append method is deprecated and will be removed from pandas in a future version. Use pandas.concat instead.\n",
      "  df3 = df3.append(response3['results'][i], ignore_index = True)\n",
      "/tmp/ipykernel_4148/3595551254.py:5: FutureWarning: The frame.append method is deprecated and will be removed from pandas in a future version. Use pandas.concat instead.\n",
      "  df3 = df3.append(response3['results'][i], ignore_index = True)\n",
      "/tmp/ipykernel_4148/3595551254.py:5: FutureWarning: The frame.append method is deprecated and will be removed from pandas in a future version. Use pandas.concat instead.\n",
      "  df3 = df3.append(response3['results'][i], ignore_index = True)\n",
      "/tmp/ipykernel_4148/3595551254.py:5: FutureWarning: The frame.append method is deprecated and will be removed from pandas in a future version. Use pandas.concat instead.\n",
      "  df3 = df3.append(response3['results'][i], ignore_index = True)\n",
      "/tmp/ipykernel_4148/3595551254.py:5: FutureWarning: The frame.append method is deprecated and will be removed from pandas in a future version. Use pandas.concat instead.\n",
      "  df3 = df3.append(response3['results'][i], ignore_index = True)\n",
      "/tmp/ipykernel_4148/3595551254.py:5: FutureWarning: The frame.append method is deprecated and will be removed from pandas in a future version. Use pandas.concat instead.\n",
      "  df3 = df3.append(response3['results'][i], ignore_index = True)\n",
      "/tmp/ipykernel_4148/3595551254.py:5: FutureWarning: The frame.append method is deprecated and will be removed from pandas in a future version. Use pandas.concat instead.\n",
      "  df3 = df3.append(response3['results'][i], ignore_index = True)\n",
      "/tmp/ipykernel_4148/3595551254.py:5: FutureWarning: The frame.append method is deprecated and will be removed from pandas in a future version. Use pandas.concat instead.\n",
      "  df3 = df3.append(response3['results'][i], ignore_index = True)\n"
     ]
    }
   ],
   "source": [
    "#create DataFrame out of all provieded info from API (url3)\n",
    "keys = response3['results'][0].keys()\n",
    "df3 = pd.DataFrame(columns = keys)\n",
    "for i in range(len(response3['results'])):\n",
    "    df3 = df3.append(response3['results'][i], ignore_index = True)"
   ]
  },
  {
   "cell_type": "code",
   "execution_count": 7,
   "id": "9288c6e9",
   "metadata": {},
   "outputs": [
    {
     "name": "stderr",
     "output_type": "stream",
     "text": [
      "/tmp/ipykernel_4148/2215584440.py:5: FutureWarning: The frame.append method is deprecated and will be removed from pandas in a future version. Use pandas.concat instead.\n",
      "  df4 = df4.append(response4['results'][i], ignore_index = True)\n",
      "/tmp/ipykernel_4148/2215584440.py:5: FutureWarning: The frame.append method is deprecated and will be removed from pandas in a future version. Use pandas.concat instead.\n",
      "  df4 = df4.append(response4['results'][i], ignore_index = True)\n",
      "/tmp/ipykernel_4148/2215584440.py:5: FutureWarning: The frame.append method is deprecated and will be removed from pandas in a future version. Use pandas.concat instead.\n",
      "  df4 = df4.append(response4['results'][i], ignore_index = True)\n",
      "/tmp/ipykernel_4148/2215584440.py:5: FutureWarning: The frame.append method is deprecated and will be removed from pandas in a future version. Use pandas.concat instead.\n",
      "  df4 = df4.append(response4['results'][i], ignore_index = True)\n",
      "/tmp/ipykernel_4148/2215584440.py:5: FutureWarning: The frame.append method is deprecated and will be removed from pandas in a future version. Use pandas.concat instead.\n",
      "  df4 = df4.append(response4['results'][i], ignore_index = True)\n",
      "/tmp/ipykernel_4148/2215584440.py:5: FutureWarning: The frame.append method is deprecated and will be removed from pandas in a future version. Use pandas.concat instead.\n",
      "  df4 = df4.append(response4['results'][i], ignore_index = True)\n",
      "/tmp/ipykernel_4148/2215584440.py:5: FutureWarning: The frame.append method is deprecated and will be removed from pandas in a future version. Use pandas.concat instead.\n",
      "  df4 = df4.append(response4['results'][i], ignore_index = True)\n",
      "/tmp/ipykernel_4148/2215584440.py:5: FutureWarning: The frame.append method is deprecated and will be removed from pandas in a future version. Use pandas.concat instead.\n",
      "  df4 = df4.append(response4['results'][i], ignore_index = True)\n",
      "/tmp/ipykernel_4148/2215584440.py:5: FutureWarning: The frame.append method is deprecated and will be removed from pandas in a future version. Use pandas.concat instead.\n",
      "  df4 = df4.append(response4['results'][i], ignore_index = True)\n",
      "/tmp/ipykernel_4148/2215584440.py:5: FutureWarning: The frame.append method is deprecated and will be removed from pandas in a future version. Use pandas.concat instead.\n",
      "  df4 = df4.append(response4['results'][i], ignore_index = True)\n",
      "/tmp/ipykernel_4148/2215584440.py:5: FutureWarning: The frame.append method is deprecated and will be removed from pandas in a future version. Use pandas.concat instead.\n",
      "  df4 = df4.append(response4['results'][i], ignore_index = True)\n",
      "/tmp/ipykernel_4148/2215584440.py:5: FutureWarning: The frame.append method is deprecated and will be removed from pandas in a future version. Use pandas.concat instead.\n",
      "  df4 = df4.append(response4['results'][i], ignore_index = True)\n",
      "/tmp/ipykernel_4148/2215584440.py:5: FutureWarning: The frame.append method is deprecated and will be removed from pandas in a future version. Use pandas.concat instead.\n",
      "  df4 = df4.append(response4['results'][i], ignore_index = True)\n",
      "/tmp/ipykernel_4148/2215584440.py:5: FutureWarning: The frame.append method is deprecated and will be removed from pandas in a future version. Use pandas.concat instead.\n",
      "  df4 = df4.append(response4['results'][i], ignore_index = True)\n",
      "/tmp/ipykernel_4148/2215584440.py:5: FutureWarning: The frame.append method is deprecated and will be removed from pandas in a future version. Use pandas.concat instead.\n",
      "  df4 = df4.append(response4['results'][i], ignore_index = True)\n",
      "/tmp/ipykernel_4148/2215584440.py:5: FutureWarning: The frame.append method is deprecated and will be removed from pandas in a future version. Use pandas.concat instead.\n",
      "  df4 = df4.append(response4['results'][i], ignore_index = True)\n",
      "/tmp/ipykernel_4148/2215584440.py:5: FutureWarning: The frame.append method is deprecated and will be removed from pandas in a future version. Use pandas.concat instead.\n",
      "  df4 = df4.append(response4['results'][i], ignore_index = True)\n",
      "/tmp/ipykernel_4148/2215584440.py:5: FutureWarning: The frame.append method is deprecated and will be removed from pandas in a future version. Use pandas.concat instead.\n",
      "  df4 = df4.append(response4['results'][i], ignore_index = True)\n",
      "/tmp/ipykernel_4148/2215584440.py:5: FutureWarning: The frame.append method is deprecated and will be removed from pandas in a future version. Use pandas.concat instead.\n",
      "  df4 = df4.append(response4['results'][i], ignore_index = True)\n",
      "/tmp/ipykernel_4148/2215584440.py:5: FutureWarning: The frame.append method is deprecated and will be removed from pandas in a future version. Use pandas.concat instead.\n",
      "  df4 = df4.append(response4['results'][i], ignore_index = True)\n",
      "/tmp/ipykernel_4148/2215584440.py:5: FutureWarning: The frame.append method is deprecated and will be removed from pandas in a future version. Use pandas.concat instead.\n",
      "  df4 = df4.append(response4['results'][i], ignore_index = True)\n",
      "/tmp/ipykernel_4148/2215584440.py:5: FutureWarning: The frame.append method is deprecated and will be removed from pandas in a future version. Use pandas.concat instead.\n",
      "  df4 = df4.append(response4['results'][i], ignore_index = True)\n",
      "/tmp/ipykernel_4148/2215584440.py:5: FutureWarning: The frame.append method is deprecated and will be removed from pandas in a future version. Use pandas.concat instead.\n",
      "  df4 = df4.append(response4['results'][i], ignore_index = True)\n",
      "/tmp/ipykernel_4148/2215584440.py:5: FutureWarning: The frame.append method is deprecated and will be removed from pandas in a future version. Use pandas.concat instead.\n",
      "  df4 = df4.append(response4['results'][i], ignore_index = True)\n",
      "/tmp/ipykernel_4148/2215584440.py:5: FutureWarning: The frame.append method is deprecated and will be removed from pandas in a future version. Use pandas.concat instead.\n",
      "  df4 = df4.append(response4['results'][i], ignore_index = True)\n",
      "/tmp/ipykernel_4148/2215584440.py:5: FutureWarning: The frame.append method is deprecated and will be removed from pandas in a future version. Use pandas.concat instead.\n",
      "  df4 = df4.append(response4['results'][i], ignore_index = True)\n",
      "/tmp/ipykernel_4148/2215584440.py:5: FutureWarning: The frame.append method is deprecated and will be removed from pandas in a future version. Use pandas.concat instead.\n",
      "  df4 = df4.append(response4['results'][i], ignore_index = True)\n",
      "/tmp/ipykernel_4148/2215584440.py:5: FutureWarning: The frame.append method is deprecated and will be removed from pandas in a future version. Use pandas.concat instead.\n",
      "  df4 = df4.append(response4['results'][i], ignore_index = True)\n",
      "/tmp/ipykernel_4148/2215584440.py:5: FutureWarning: The frame.append method is deprecated and will be removed from pandas in a future version. Use pandas.concat instead.\n",
      "  df4 = df4.append(response4['results'][i], ignore_index = True)\n",
      "/tmp/ipykernel_4148/2215584440.py:5: FutureWarning: The frame.append method is deprecated and will be removed from pandas in a future version. Use pandas.concat instead.\n",
      "  df4 = df4.append(response4['results'][i], ignore_index = True)\n",
      "/tmp/ipykernel_4148/2215584440.py:5: FutureWarning: The frame.append method is deprecated and will be removed from pandas in a future version. Use pandas.concat instead.\n",
      "  df4 = df4.append(response4['results'][i], ignore_index = True)\n",
      "/tmp/ipykernel_4148/2215584440.py:5: FutureWarning: The frame.append method is deprecated and will be removed from pandas in a future version. Use pandas.concat instead.\n",
      "  df4 = df4.append(response4['results'][i], ignore_index = True)\n",
      "/tmp/ipykernel_4148/2215584440.py:5: FutureWarning: The frame.append method is deprecated and will be removed from pandas in a future version. Use pandas.concat instead.\n",
      "  df4 = df4.append(response4['results'][i], ignore_index = True)\n",
      "/tmp/ipykernel_4148/2215584440.py:5: FutureWarning: The frame.append method is deprecated and will be removed from pandas in a future version. Use pandas.concat instead.\n",
      "  df4 = df4.append(response4['results'][i], ignore_index = True)\n",
      "/tmp/ipykernel_4148/2215584440.py:5: FutureWarning: The frame.append method is deprecated and will be removed from pandas in a future version. Use pandas.concat instead.\n",
      "  df4 = df4.append(response4['results'][i], ignore_index = True)\n",
      "/tmp/ipykernel_4148/2215584440.py:5: FutureWarning: The frame.append method is deprecated and will be removed from pandas in a future version. Use pandas.concat instead.\n",
      "  df4 = df4.append(response4['results'][i], ignore_index = True)\n",
      "/tmp/ipykernel_4148/2215584440.py:5: FutureWarning: The frame.append method is deprecated and will be removed from pandas in a future version. Use pandas.concat instead.\n",
      "  df4 = df4.append(response4['results'][i], ignore_index = True)\n",
      "/tmp/ipykernel_4148/2215584440.py:5: FutureWarning: The frame.append method is deprecated and will be removed from pandas in a future version. Use pandas.concat instead.\n",
      "  df4 = df4.append(response4['results'][i], ignore_index = True)\n",
      "/tmp/ipykernel_4148/2215584440.py:5: FutureWarning: The frame.append method is deprecated and will be removed from pandas in a future version. Use pandas.concat instead.\n",
      "  df4 = df4.append(response4['results'][i], ignore_index = True)\n",
      "/tmp/ipykernel_4148/2215584440.py:5: FutureWarning: The frame.append method is deprecated and will be removed from pandas in a future version. Use pandas.concat instead.\n",
      "  df4 = df4.append(response4['results'][i], ignore_index = True)\n",
      "/tmp/ipykernel_4148/2215584440.py:5: FutureWarning: The frame.append method is deprecated and will be removed from pandas in a future version. Use pandas.concat instead.\n",
      "  df4 = df4.append(response4['results'][i], ignore_index = True)\n"
     ]
    },
    {
     "name": "stderr",
     "output_type": "stream",
     "text": [
      "/tmp/ipykernel_4148/2215584440.py:5: FutureWarning: The frame.append method is deprecated and will be removed from pandas in a future version. Use pandas.concat instead.\n",
      "  df4 = df4.append(response4['results'][i], ignore_index = True)\n",
      "/tmp/ipykernel_4148/2215584440.py:5: FutureWarning: The frame.append method is deprecated and will be removed from pandas in a future version. Use pandas.concat instead.\n",
      "  df4 = df4.append(response4['results'][i], ignore_index = True)\n",
      "/tmp/ipykernel_4148/2215584440.py:5: FutureWarning: The frame.append method is deprecated and will be removed from pandas in a future version. Use pandas.concat instead.\n",
      "  df4 = df4.append(response4['results'][i], ignore_index = True)\n",
      "/tmp/ipykernel_4148/2215584440.py:5: FutureWarning: The frame.append method is deprecated and will be removed from pandas in a future version. Use pandas.concat instead.\n",
      "  df4 = df4.append(response4['results'][i], ignore_index = True)\n",
      "/tmp/ipykernel_4148/2215584440.py:5: FutureWarning: The frame.append method is deprecated and will be removed from pandas in a future version. Use pandas.concat instead.\n",
      "  df4 = df4.append(response4['results'][i], ignore_index = True)\n",
      "/tmp/ipykernel_4148/2215584440.py:5: FutureWarning: The frame.append method is deprecated and will be removed from pandas in a future version. Use pandas.concat instead.\n",
      "  df4 = df4.append(response4['results'][i], ignore_index = True)\n",
      "/tmp/ipykernel_4148/2215584440.py:5: FutureWarning: The frame.append method is deprecated and will be removed from pandas in a future version. Use pandas.concat instead.\n",
      "  df4 = df4.append(response4['results'][i], ignore_index = True)\n",
      "/tmp/ipykernel_4148/2215584440.py:5: FutureWarning: The frame.append method is deprecated and will be removed from pandas in a future version. Use pandas.concat instead.\n",
      "  df4 = df4.append(response4['results'][i], ignore_index = True)\n",
      "/tmp/ipykernel_4148/2215584440.py:5: FutureWarning: The frame.append method is deprecated and will be removed from pandas in a future version. Use pandas.concat instead.\n",
      "  df4 = df4.append(response4['results'][i], ignore_index = True)\n"
     ]
    }
   ],
   "source": [
    "#create DataFrame out of all provieded info from API (url4)\n",
    "keys = response4['results'][0].keys()\n",
    "df4 = pd.DataFrame(columns = keys)\n",
    "for i in range(len(response4['results'])):\n",
    "    df4 = df4.append(response4['results'][i], ignore_index = True)"
   ]
  },
  {
   "cell_type": "code",
   "execution_count": 8,
   "id": "58ae32db",
   "metadata": {},
   "outputs": [
    {
     "name": "stderr",
     "output_type": "stream",
     "text": [
      "/tmp/ipykernel_4148/4217619793.py:5: FutureWarning: The frame.append method is deprecated and will be removed from pandas in a future version. Use pandas.concat instead.\n",
      "  df5 = df5.append(response5['results'][i], ignore_index = True)\n",
      "/tmp/ipykernel_4148/4217619793.py:5: FutureWarning: The frame.append method is deprecated and will be removed from pandas in a future version. Use pandas.concat instead.\n",
      "  df5 = df5.append(response5['results'][i], ignore_index = True)\n",
      "/tmp/ipykernel_4148/4217619793.py:5: FutureWarning: The frame.append method is deprecated and will be removed from pandas in a future version. Use pandas.concat instead.\n",
      "  df5 = df5.append(response5['results'][i], ignore_index = True)\n",
      "/tmp/ipykernel_4148/4217619793.py:5: FutureWarning: The frame.append method is deprecated and will be removed from pandas in a future version. Use pandas.concat instead.\n",
      "  df5 = df5.append(response5['results'][i], ignore_index = True)\n",
      "/tmp/ipykernel_4148/4217619793.py:5: FutureWarning: The frame.append method is deprecated and will be removed from pandas in a future version. Use pandas.concat instead.\n",
      "  df5 = df5.append(response5['results'][i], ignore_index = True)\n",
      "/tmp/ipykernel_4148/4217619793.py:5: FutureWarning: The frame.append method is deprecated and will be removed from pandas in a future version. Use pandas.concat instead.\n",
      "  df5 = df5.append(response5['results'][i], ignore_index = True)\n",
      "/tmp/ipykernel_4148/4217619793.py:5: FutureWarning: The frame.append method is deprecated and will be removed from pandas in a future version. Use pandas.concat instead.\n",
      "  df5 = df5.append(response5['results'][i], ignore_index = True)\n",
      "/tmp/ipykernel_4148/4217619793.py:5: FutureWarning: The frame.append method is deprecated and will be removed from pandas in a future version. Use pandas.concat instead.\n",
      "  df5 = df5.append(response5['results'][i], ignore_index = True)\n",
      "/tmp/ipykernel_4148/4217619793.py:5: FutureWarning: The frame.append method is deprecated and will be removed from pandas in a future version. Use pandas.concat instead.\n",
      "  df5 = df5.append(response5['results'][i], ignore_index = True)\n",
      "/tmp/ipykernel_4148/4217619793.py:5: FutureWarning: The frame.append method is deprecated and will be removed from pandas in a future version. Use pandas.concat instead.\n",
      "  df5 = df5.append(response5['results'][i], ignore_index = True)\n",
      "/tmp/ipykernel_4148/4217619793.py:5: FutureWarning: The frame.append method is deprecated and will be removed from pandas in a future version. Use pandas.concat instead.\n",
      "  df5 = df5.append(response5['results'][i], ignore_index = True)\n",
      "/tmp/ipykernel_4148/4217619793.py:5: FutureWarning: The frame.append method is deprecated and will be removed from pandas in a future version. Use pandas.concat instead.\n",
      "  df5 = df5.append(response5['results'][i], ignore_index = True)\n",
      "/tmp/ipykernel_4148/4217619793.py:5: FutureWarning: The frame.append method is deprecated and will be removed from pandas in a future version. Use pandas.concat instead.\n",
      "  df5 = df5.append(response5['results'][i], ignore_index = True)\n",
      "/tmp/ipykernel_4148/4217619793.py:5: FutureWarning: The frame.append method is deprecated and will be removed from pandas in a future version. Use pandas.concat instead.\n",
      "  df5 = df5.append(response5['results'][i], ignore_index = True)\n",
      "/tmp/ipykernel_4148/4217619793.py:5: FutureWarning: The frame.append method is deprecated and will be removed from pandas in a future version. Use pandas.concat instead.\n",
      "  df5 = df5.append(response5['results'][i], ignore_index = True)\n",
      "/tmp/ipykernel_4148/4217619793.py:5: FutureWarning: The frame.append method is deprecated and will be removed from pandas in a future version. Use pandas.concat instead.\n",
      "  df5 = df5.append(response5['results'][i], ignore_index = True)\n",
      "/tmp/ipykernel_4148/4217619793.py:5: FutureWarning: The frame.append method is deprecated and will be removed from pandas in a future version. Use pandas.concat instead.\n",
      "  df5 = df5.append(response5['results'][i], ignore_index = True)\n",
      "/tmp/ipykernel_4148/4217619793.py:5: FutureWarning: The frame.append method is deprecated and will be removed from pandas in a future version. Use pandas.concat instead.\n",
      "  df5 = df5.append(response5['results'][i], ignore_index = True)\n",
      "/tmp/ipykernel_4148/4217619793.py:5: FutureWarning: The frame.append method is deprecated and will be removed from pandas in a future version. Use pandas.concat instead.\n",
      "  df5 = df5.append(response5['results'][i], ignore_index = True)\n",
      "/tmp/ipykernel_4148/4217619793.py:5: FutureWarning: The frame.append method is deprecated and will be removed from pandas in a future version. Use pandas.concat instead.\n",
      "  df5 = df5.append(response5['results'][i], ignore_index = True)\n",
      "/tmp/ipykernel_4148/4217619793.py:5: FutureWarning: The frame.append method is deprecated and will be removed from pandas in a future version. Use pandas.concat instead.\n",
      "  df5 = df5.append(response5['results'][i], ignore_index = True)\n",
      "/tmp/ipykernel_4148/4217619793.py:5: FutureWarning: The frame.append method is deprecated and will be removed from pandas in a future version. Use pandas.concat instead.\n",
      "  df5 = df5.append(response5['results'][i], ignore_index = True)\n",
      "/tmp/ipykernel_4148/4217619793.py:5: FutureWarning: The frame.append method is deprecated and will be removed from pandas in a future version. Use pandas.concat instead.\n",
      "  df5 = df5.append(response5['results'][i], ignore_index = True)\n",
      "/tmp/ipykernel_4148/4217619793.py:5: FutureWarning: The frame.append method is deprecated and will be removed from pandas in a future version. Use pandas.concat instead.\n",
      "  df5 = df5.append(response5['results'][i], ignore_index = True)\n",
      "/tmp/ipykernel_4148/4217619793.py:5: FutureWarning: The frame.append method is deprecated and will be removed from pandas in a future version. Use pandas.concat instead.\n",
      "  df5 = df5.append(response5['results'][i], ignore_index = True)\n",
      "/tmp/ipykernel_4148/4217619793.py:5: FutureWarning: The frame.append method is deprecated and will be removed from pandas in a future version. Use pandas.concat instead.\n",
      "  df5 = df5.append(response5['results'][i], ignore_index = True)\n",
      "/tmp/ipykernel_4148/4217619793.py:5: FutureWarning: The frame.append method is deprecated and will be removed from pandas in a future version. Use pandas.concat instead.\n",
      "  df5 = df5.append(response5['results'][i], ignore_index = True)\n",
      "/tmp/ipykernel_4148/4217619793.py:5: FutureWarning: The frame.append method is deprecated and will be removed from pandas in a future version. Use pandas.concat instead.\n",
      "  df5 = df5.append(response5['results'][i], ignore_index = True)\n",
      "/tmp/ipykernel_4148/4217619793.py:5: FutureWarning: The frame.append method is deprecated and will be removed from pandas in a future version. Use pandas.concat instead.\n",
      "  df5 = df5.append(response5['results'][i], ignore_index = True)\n",
      "/tmp/ipykernel_4148/4217619793.py:5: FutureWarning: The frame.append method is deprecated and will be removed from pandas in a future version. Use pandas.concat instead.\n",
      "  df5 = df5.append(response5['results'][i], ignore_index = True)\n",
      "/tmp/ipykernel_4148/4217619793.py:5: FutureWarning: The frame.append method is deprecated and will be removed from pandas in a future version. Use pandas.concat instead.\n",
      "  df5 = df5.append(response5['results'][i], ignore_index = True)\n",
      "/tmp/ipykernel_4148/4217619793.py:5: FutureWarning: The frame.append method is deprecated and will be removed from pandas in a future version. Use pandas.concat instead.\n",
      "  df5 = df5.append(response5['results'][i], ignore_index = True)\n",
      "/tmp/ipykernel_4148/4217619793.py:5: FutureWarning: The frame.append method is deprecated and will be removed from pandas in a future version. Use pandas.concat instead.\n",
      "  df5 = df5.append(response5['results'][i], ignore_index = True)\n",
      "/tmp/ipykernel_4148/4217619793.py:5: FutureWarning: The frame.append method is deprecated and will be removed from pandas in a future version. Use pandas.concat instead.\n",
      "  df5 = df5.append(response5['results'][i], ignore_index = True)\n",
      "/tmp/ipykernel_4148/4217619793.py:5: FutureWarning: The frame.append method is deprecated and will be removed from pandas in a future version. Use pandas.concat instead.\n",
      "  df5 = df5.append(response5['results'][i], ignore_index = True)\n",
      "/tmp/ipykernel_4148/4217619793.py:5: FutureWarning: The frame.append method is deprecated and will be removed from pandas in a future version. Use pandas.concat instead.\n",
      "  df5 = df5.append(response5['results'][i], ignore_index = True)\n",
      "/tmp/ipykernel_4148/4217619793.py:5: FutureWarning: The frame.append method is deprecated and will be removed from pandas in a future version. Use pandas.concat instead.\n",
      "  df5 = df5.append(response5['results'][i], ignore_index = True)\n",
      "/tmp/ipykernel_4148/4217619793.py:5: FutureWarning: The frame.append method is deprecated and will be removed from pandas in a future version. Use pandas.concat instead.\n",
      "  df5 = df5.append(response5['results'][i], ignore_index = True)\n",
      "/tmp/ipykernel_4148/4217619793.py:5: FutureWarning: The frame.append method is deprecated and will be removed from pandas in a future version. Use pandas.concat instead.\n",
      "  df5 = df5.append(response5['results'][i], ignore_index = True)\n",
      "/tmp/ipykernel_4148/4217619793.py:5: FutureWarning: The frame.append method is deprecated and will be removed from pandas in a future version. Use pandas.concat instead.\n",
      "  df5 = df5.append(response5['results'][i], ignore_index = True)\n",
      "/tmp/ipykernel_4148/4217619793.py:5: FutureWarning: The frame.append method is deprecated and will be removed from pandas in a future version. Use pandas.concat instead.\n",
      "  df5 = df5.append(response5['results'][i], ignore_index = True)\n"
     ]
    },
    {
     "name": "stderr",
     "output_type": "stream",
     "text": [
      "/tmp/ipykernel_4148/4217619793.py:5: FutureWarning: The frame.append method is deprecated and will be removed from pandas in a future version. Use pandas.concat instead.\n",
      "  df5 = df5.append(response5['results'][i], ignore_index = True)\n",
      "/tmp/ipykernel_4148/4217619793.py:5: FutureWarning: The frame.append method is deprecated and will be removed from pandas in a future version. Use pandas.concat instead.\n",
      "  df5 = df5.append(response5['results'][i], ignore_index = True)\n",
      "/tmp/ipykernel_4148/4217619793.py:5: FutureWarning: The frame.append method is deprecated and will be removed from pandas in a future version. Use pandas.concat instead.\n",
      "  df5 = df5.append(response5['results'][i], ignore_index = True)\n",
      "/tmp/ipykernel_4148/4217619793.py:5: FutureWarning: The frame.append method is deprecated and will be removed from pandas in a future version. Use pandas.concat instead.\n",
      "  df5 = df5.append(response5['results'][i], ignore_index = True)\n",
      "/tmp/ipykernel_4148/4217619793.py:5: FutureWarning: The frame.append method is deprecated and will be removed from pandas in a future version. Use pandas.concat instead.\n",
      "  df5 = df5.append(response5['results'][i], ignore_index = True)\n",
      "/tmp/ipykernel_4148/4217619793.py:5: FutureWarning: The frame.append method is deprecated and will be removed from pandas in a future version. Use pandas.concat instead.\n",
      "  df5 = df5.append(response5['results'][i], ignore_index = True)\n",
      "/tmp/ipykernel_4148/4217619793.py:5: FutureWarning: The frame.append method is deprecated and will be removed from pandas in a future version. Use pandas.concat instead.\n",
      "  df5 = df5.append(response5['results'][i], ignore_index = True)\n",
      "/tmp/ipykernel_4148/4217619793.py:5: FutureWarning: The frame.append method is deprecated and will be removed from pandas in a future version. Use pandas.concat instead.\n",
      "  df5 = df5.append(response5['results'][i], ignore_index = True)\n",
      "/tmp/ipykernel_4148/4217619793.py:5: FutureWarning: The frame.append method is deprecated and will be removed from pandas in a future version. Use pandas.concat instead.\n",
      "  df5 = df5.append(response5['results'][i], ignore_index = True)\n"
     ]
    }
   ],
   "source": [
    "#create DataFrame out of all provieded info from API (url5)\n",
    "keys = response5['results'][0].keys()\n",
    "df5 = pd.DataFrame(columns = keys)\n",
    "for i in range(len(response5['results'])):\n",
    "    df5 = df5.append(response5['results'][i], ignore_index = True)"
   ]
  },
  {
   "cell_type": "code",
   "execution_count": 9,
   "id": "e60d2eac",
   "metadata": {},
   "outputs": [
    {
     "name": "stderr",
     "output_type": "stream",
     "text": [
      "/tmp/ipykernel_4148/498900861.py:5: FutureWarning: The frame.append method is deprecated and will be removed from pandas in a future version. Use pandas.concat instead.\n",
      "  df6 = df6.append(response6['results'][i], ignore_index = True)\n",
      "/tmp/ipykernel_4148/498900861.py:5: FutureWarning: The frame.append method is deprecated and will be removed from pandas in a future version. Use pandas.concat instead.\n",
      "  df6 = df6.append(response6['results'][i], ignore_index = True)\n",
      "/tmp/ipykernel_4148/498900861.py:5: FutureWarning: The frame.append method is deprecated and will be removed from pandas in a future version. Use pandas.concat instead.\n",
      "  df6 = df6.append(response6['results'][i], ignore_index = True)\n",
      "/tmp/ipykernel_4148/498900861.py:5: FutureWarning: The frame.append method is deprecated and will be removed from pandas in a future version. Use pandas.concat instead.\n",
      "  df6 = df6.append(response6['results'][i], ignore_index = True)\n",
      "/tmp/ipykernel_4148/498900861.py:5: FutureWarning: The frame.append method is deprecated and will be removed from pandas in a future version. Use pandas.concat instead.\n",
      "  df6 = df6.append(response6['results'][i], ignore_index = True)\n",
      "/tmp/ipykernel_4148/498900861.py:5: FutureWarning: The frame.append method is deprecated and will be removed from pandas in a future version. Use pandas.concat instead.\n",
      "  df6 = df6.append(response6['results'][i], ignore_index = True)\n",
      "/tmp/ipykernel_4148/498900861.py:5: FutureWarning: The frame.append method is deprecated and will be removed from pandas in a future version. Use pandas.concat instead.\n",
      "  df6 = df6.append(response6['results'][i], ignore_index = True)\n",
      "/tmp/ipykernel_4148/498900861.py:5: FutureWarning: The frame.append method is deprecated and will be removed from pandas in a future version. Use pandas.concat instead.\n",
      "  df6 = df6.append(response6['results'][i], ignore_index = True)\n",
      "/tmp/ipykernel_4148/498900861.py:5: FutureWarning: The frame.append method is deprecated and will be removed from pandas in a future version. Use pandas.concat instead.\n",
      "  df6 = df6.append(response6['results'][i], ignore_index = True)\n",
      "/tmp/ipykernel_4148/498900861.py:5: FutureWarning: The frame.append method is deprecated and will be removed from pandas in a future version. Use pandas.concat instead.\n",
      "  df6 = df6.append(response6['results'][i], ignore_index = True)\n",
      "/tmp/ipykernel_4148/498900861.py:5: FutureWarning: The frame.append method is deprecated and will be removed from pandas in a future version. Use pandas.concat instead.\n",
      "  df6 = df6.append(response6['results'][i], ignore_index = True)\n",
      "/tmp/ipykernel_4148/498900861.py:5: FutureWarning: The frame.append method is deprecated and will be removed from pandas in a future version. Use pandas.concat instead.\n",
      "  df6 = df6.append(response6['results'][i], ignore_index = True)\n",
      "/tmp/ipykernel_4148/498900861.py:5: FutureWarning: The frame.append method is deprecated and will be removed from pandas in a future version. Use pandas.concat instead.\n",
      "  df6 = df6.append(response6['results'][i], ignore_index = True)\n",
      "/tmp/ipykernel_4148/498900861.py:5: FutureWarning: The frame.append method is deprecated and will be removed from pandas in a future version. Use pandas.concat instead.\n",
      "  df6 = df6.append(response6['results'][i], ignore_index = True)\n",
      "/tmp/ipykernel_4148/498900861.py:5: FutureWarning: The frame.append method is deprecated and will be removed from pandas in a future version. Use pandas.concat instead.\n",
      "  df6 = df6.append(response6['results'][i], ignore_index = True)\n",
      "/tmp/ipykernel_4148/498900861.py:5: FutureWarning: The frame.append method is deprecated and will be removed from pandas in a future version. Use pandas.concat instead.\n",
      "  df6 = df6.append(response6['results'][i], ignore_index = True)\n",
      "/tmp/ipykernel_4148/498900861.py:5: FutureWarning: The frame.append method is deprecated and will be removed from pandas in a future version. Use pandas.concat instead.\n",
      "  df6 = df6.append(response6['results'][i], ignore_index = True)\n",
      "/tmp/ipykernel_4148/498900861.py:5: FutureWarning: The frame.append method is deprecated and will be removed from pandas in a future version. Use pandas.concat instead.\n",
      "  df6 = df6.append(response6['results'][i], ignore_index = True)\n",
      "/tmp/ipykernel_4148/498900861.py:5: FutureWarning: The frame.append method is deprecated and will be removed from pandas in a future version. Use pandas.concat instead.\n",
      "  df6 = df6.append(response6['results'][i], ignore_index = True)\n",
      "/tmp/ipykernel_4148/498900861.py:5: FutureWarning: The frame.append method is deprecated and will be removed from pandas in a future version. Use pandas.concat instead.\n",
      "  df6 = df6.append(response6['results'][i], ignore_index = True)\n",
      "/tmp/ipykernel_4148/498900861.py:5: FutureWarning: The frame.append method is deprecated and will be removed from pandas in a future version. Use pandas.concat instead.\n",
      "  df6 = df6.append(response6['results'][i], ignore_index = True)\n",
      "/tmp/ipykernel_4148/498900861.py:5: FutureWarning: The frame.append method is deprecated and will be removed from pandas in a future version. Use pandas.concat instead.\n",
      "  df6 = df6.append(response6['results'][i], ignore_index = True)\n",
      "/tmp/ipykernel_4148/498900861.py:5: FutureWarning: The frame.append method is deprecated and will be removed from pandas in a future version. Use pandas.concat instead.\n",
      "  df6 = df6.append(response6['results'][i], ignore_index = True)\n",
      "/tmp/ipykernel_4148/498900861.py:5: FutureWarning: The frame.append method is deprecated and will be removed from pandas in a future version. Use pandas.concat instead.\n",
      "  df6 = df6.append(response6['results'][i], ignore_index = True)\n",
      "/tmp/ipykernel_4148/498900861.py:5: FutureWarning: The frame.append method is deprecated and will be removed from pandas in a future version. Use pandas.concat instead.\n",
      "  df6 = df6.append(response6['results'][i], ignore_index = True)\n",
      "/tmp/ipykernel_4148/498900861.py:5: FutureWarning: The frame.append method is deprecated and will be removed from pandas in a future version. Use pandas.concat instead.\n",
      "  df6 = df6.append(response6['results'][i], ignore_index = True)\n",
      "/tmp/ipykernel_4148/498900861.py:5: FutureWarning: The frame.append method is deprecated and will be removed from pandas in a future version. Use pandas.concat instead.\n",
      "  df6 = df6.append(response6['results'][i], ignore_index = True)\n",
      "/tmp/ipykernel_4148/498900861.py:5: FutureWarning: The frame.append method is deprecated and will be removed from pandas in a future version. Use pandas.concat instead.\n",
      "  df6 = df6.append(response6['results'][i], ignore_index = True)\n",
      "/tmp/ipykernel_4148/498900861.py:5: FutureWarning: The frame.append method is deprecated and will be removed from pandas in a future version. Use pandas.concat instead.\n",
      "  df6 = df6.append(response6['results'][i], ignore_index = True)\n",
      "/tmp/ipykernel_4148/498900861.py:5: FutureWarning: The frame.append method is deprecated and will be removed from pandas in a future version. Use pandas.concat instead.\n",
      "  df6 = df6.append(response6['results'][i], ignore_index = True)\n",
      "/tmp/ipykernel_4148/498900861.py:5: FutureWarning: The frame.append method is deprecated and will be removed from pandas in a future version. Use pandas.concat instead.\n",
      "  df6 = df6.append(response6['results'][i], ignore_index = True)\n",
      "/tmp/ipykernel_4148/498900861.py:5: FutureWarning: The frame.append method is deprecated and will be removed from pandas in a future version. Use pandas.concat instead.\n",
      "  df6 = df6.append(response6['results'][i], ignore_index = True)\n",
      "/tmp/ipykernel_4148/498900861.py:5: FutureWarning: The frame.append method is deprecated and will be removed from pandas in a future version. Use pandas.concat instead.\n",
      "  df6 = df6.append(response6['results'][i], ignore_index = True)\n",
      "/tmp/ipykernel_4148/498900861.py:5: FutureWarning: The frame.append method is deprecated and will be removed from pandas in a future version. Use pandas.concat instead.\n",
      "  df6 = df6.append(response6['results'][i], ignore_index = True)\n"
     ]
    }
   ],
   "source": [
    "#create DataFrame out of all provieded info from API (url6)\n",
    "keys = response6['results'][0].keys()\n",
    "df6 = pd.DataFrame(columns = keys)\n",
    "for i in range(len(response6['results'])):\n",
    "    df6 = df6.append(response6['results'][i], ignore_index = True)"
   ]
  },
  {
   "cell_type": "code",
   "execution_count": 10,
   "id": "7fbd129a",
   "metadata": {},
   "outputs": [],
   "source": [
    "#combine all priorly created DataFrames\n",
    "frames = [df1, df2, df3, df4, df5, df6]\n",
    "green_df = pd.concat(frames)"
   ]
  },
  {
   "cell_type": "code",
   "execution_count": null,
   "id": "48e9a13a",
   "metadata": {},
   "outputs": [],
   "source": [
    "green_df\n",
    "green_df.keys()"
   ]
  },
  {
   "cell_type": "code",
   "execution_count": 11,
   "id": "03afa48e",
   "metadata": {},
   "outputs": [],
   "source": [
    "c = []\n",
    "for i in range(len(green_df)):\n",
    "    single_coor = re.findall('<coordinates>\\n\\t\\t\\t\\t\\t\\t\\t(.+?)\\n\\t\\t\\t\\t\\t\\t</coordinates>', green_df.iloc[i,22])\n",
    "    c.append(single_coor)"
   ]
  },
  {
   "cell_type": "code",
   "execution_count": 12,
   "id": "14714deb",
   "metadata": {},
   "outputs": [],
   "source": [
    "coor_df = pd.DataFrame(c)"
   ]
  },
  {
   "cell_type": "code",
   "execution_count": 13,
   "id": "96db872f",
   "metadata": {
    "scrolled": true
   },
   "outputs": [],
   "source": [
    "first_green = pd.DataFrame(coor_df[0]).T"
   ]
  },
  {
   "cell_type": "code",
   "execution_count": 14,
   "id": "b1c2b706",
   "metadata": {},
   "outputs": [
    {
     "data": {
      "text/plain": [
       "(array([177.,  53.,  24.,   9.,   7.,   7.,   1.,   1.,   2.,   3.]),\n",
       " array([ 0. ,  1.2,  2.4,  3.6,  4.8,  6. ,  7.2,  8.4,  9.6, 10.8, 12. ]),\n",
       " <BarContainer object of 10 artists>)"
      ]
     },
     "execution_count": 14,
     "metadata": {},
     "output_type": "execute_result"
    },
    {
     "data": {
      "image/png": "[encoded data removed]",
      "text/plain": [
       "<Figure size 432x288 with 1 Axes>"
      ]
     },
     "metadata": {
      "needs_background": "light"
     },
     "output_type": "display_data"
    }
   ],
   "source": [
    "#greenlane_parts = abs((coor_df.T.isnull().sum())-12)\n",
    "#plt.hist(greenlane_parts)"
   ]
  },
  {
   "cell_type": "code",
   "execution_count": 15,
   "id": "43e03c55",
   "metadata": {},
   "outputs": [],
   "source": [
    "first_green = first_green.fillna('0,0')"
   ]
  },
  {
   "cell_type": "code",
   "execution_count": null,
   "id": "278fe556",
   "metadata": {},
   "outputs": [],
   "source": [
    "first_green.isnull().sum().sum()"
   ]
  },
  {
   "cell_type": "markdown",
   "id": "c333897c",
   "metadata": {},
   "source": [
    "**Davy_BEGIN**"
   ]
  },
  {
   "cell_type": "code",
   "execution_count": 16,
   "id": "e9a3a6e1",
   "metadata": {},
   "outputs": [
    {
     "data": {
      "text/plain": [
       "str"
      ]
     },
     "execution_count": 16,
     "metadata": {},
     "output_type": "execute_result"
    }
   ],
   "source": [
    "davy = first_green.T\n",
    "type(davy[0][0])"
   ]
  },
  {
   "cell_type": "code",
   "execution_count": 17,
   "id": "8014ba4d",
   "metadata": {},
   "outputs": [],
   "source": [
    "def crazy(my_string):    \n",
    "    res = my_string.split(',0 ')\n",
    "    l = []\n",
    "    for i, element in enumerate(res):\n",
    "        res[i] = element.split(',')\n",
    "        temp_length = len(res[i])\n",
    "        res2 = []\n",
    "        for j in range(temp_length):\n",
    "            #res[i][j] = float(res[i][j])\n",
    "            res2.insert(0,float(res[i][j]))\n",
    "            \n",
    "        if temp_length == 2:    \n",
    "            l.append(tuple(res2))\n",
    "    pd.DataFrame(l)\n",
    "    return l\n"
   ]
  },
  {
   "cell_type": "code",
   "execution_count": 18,
   "id": "92067783",
   "metadata": {},
   "outputs": [
    {
     "data": {
      "text/plain": [
       "[(52.5454740742, 13.4279048614),\n",
       " (52.5454092918, 13.4280691935),\n",
       " (52.545303333, 13.4283096881),\n",
       " (52.545267584, 13.4283911491),\n",
       " (52.5452567017, 13.4284794112),\n",
       " (52.5451945018, 13.4286365085),\n",
       " (52.5451405216, 13.4287570647),\n",
       " (52.5450677859, 13.4289277204),\n",
       " (52.5449079393, 13.429295902),\n",
       " (52.5447668757, 13.4296161796),\n",
       " (52.5446856271, 13.4298014134),\n",
       " (52.5445894935, 13.4300256233),\n",
       " (52.5444918603, 13.4302378015),\n",
       " (52.5443879419, 13.4304809589),\n",
       " (52.5443094418, 13.4306715849),\n",
       " (52.5442307231, 13.4308457407),\n",
       " (52.5441392004, 13.4310642895),\n",
       " (52.544060612, 13.4312483244),\n",
       " (52.5439799575, 13.4314280406),\n",
       " (52.5439124566, 13.4315897127),\n",
       " (52.543788979, 13.4318731013),\n",
       " (52.5437266573, 13.4320214064),\n",
       " (52.5436635208, 13.4322092819),\n",
       " (52.5435702771, 13.4325003777),\n",
       " (52.5433823642, 13.432974977),\n",
       " (52.54329868, 13.4331789582),\n",
       " (52.5431457894, 13.4335677316),\n",
       " (52.5430124972, 13.4339195578),\n",
       " (52.5428683342, 13.4343102113),\n",
       " (52.5427944554, 13.4344962647),\n",
       " (52.5426885324, 13.4347910969),\n",
       " (52.5425145647, 13.4352574916),\n",
       " (52.5424071411, 13.4355402913),\n",
       " (52.542264065, 13.4359122229),\n",
       " (52.5422039207, 13.4360736202),\n",
       " (52.5420867307, 13.4363776311),\n",
       " (52.5419683468, 13.4366926661),\n",
       " (52.541877306, 13.4369485155),\n",
       " (52.5418293991, 13.437073231),\n",
       " (52.5415841131, 13.4377178718),\n",
       " (52.5414975811, 13.4379603778),\n",
       " (52.5414080268, 13.4381261079),\n",
       " (52.5412982233, 13.4384320412),\n",
       " (52.5412703691, 13.4385033217),\n",
       " (52.541069462, 13.4390426915),\n",
       " (52.5409210188, 13.4394714076),\n",
       " (52.5400212712, 13.4419645261),\n",
       " (52.5397421866, 13.4427210728),\n",
       " (52.5392463585, 13.4440494646),\n",
       " (52.5387788602, 13.445308351),\n",
       " (52.5383685026, 13.4464084577),\n",
       " (52.5376035922, 13.4484650167),\n",
       " (52.5374836392, 13.4486671026),\n",
       " (52.5372504045, 13.4491931959)]"
      ]
     },
     "execution_count": 18,
     "metadata": {},
     "output_type": "execute_result"
    }
   ],
   "source": [
    "crazy(davy[0][0])"
   ]
  },
  {
   "cell_type": "code",
   "execution_count": 19,
   "id": "b736582b",
   "metadata": {},
   "outputs": [
    {
     "data": {
      "text/plain": [
       "pandas.core.frame.DataFrame"
      ]
     },
     "execution_count": 19,
     "metadata": {},
     "output_type": "execute_result"
    }
   ],
   "source": [
    "type(first_green.T)"
   ]
  },
  {
   "cell_type": "code",
   "execution_count": 20,
   "id": "bed1ea9a",
   "metadata": {},
   "outputs": [
    {
     "data": {
      "text/plain": [
       "[(52.5454740742, 13.4279048614),\n",
       " (52.5454092918, 13.4280691935),\n",
       " (52.545303333, 13.4283096881),\n",
       " (52.545267584, 13.4283911491),\n",
       " (52.5452567017, 13.4284794112),\n",
       " (52.5451945018, 13.4286365085),\n",
       " (52.5451405216, 13.4287570647),\n",
       " (52.5450677859, 13.4289277204),\n",
       " (52.5449079393, 13.429295902),\n",
       " (52.5447668757, 13.4296161796),\n",
       " (52.5446856271, 13.4298014134),\n",
       " (52.5445894935, 13.4300256233),\n",
       " (52.5444918603, 13.4302378015),\n",
       " (52.5443879419, 13.4304809589),\n",
       " (52.5443094418, 13.4306715849),\n",
       " (52.5442307231, 13.4308457407),\n",
       " (52.5441392004, 13.4310642895),\n",
       " (52.544060612, 13.4312483244),\n",
       " (52.5439799575, 13.4314280406),\n",
       " (52.5439124566, 13.4315897127),\n",
       " (52.543788979, 13.4318731013),\n",
       " (52.5437266573, 13.4320214064),\n",
       " (52.5436635208, 13.4322092819),\n",
       " (52.5435702771, 13.4325003777),\n",
       " (52.5433823642, 13.432974977),\n",
       " (52.54329868, 13.4331789582),\n",
       " (52.5431457894, 13.4335677316),\n",
       " (52.5430124972, 13.4339195578),\n",
       " (52.5428683342, 13.4343102113),\n",
       " (52.5427944554, 13.4344962647),\n",
       " (52.5426885324, 13.4347910969),\n",
       " (52.5425145647, 13.4352574916),\n",
       " (52.5424071411, 13.4355402913),\n",
       " (52.542264065, 13.4359122229),\n",
       " (52.5422039207, 13.4360736202),\n",
       " (52.5420867307, 13.4363776311),\n",
       " (52.5419683468, 13.4366926661),\n",
       " (52.541877306, 13.4369485155),\n",
       " (52.5418293991, 13.437073231),\n",
       " (52.5415841131, 13.4377178718),\n",
       " (52.5414975811, 13.4379603778),\n",
       " (52.5414080268, 13.4381261079),\n",
       " (52.5412982233, 13.4384320412),\n",
       " (52.5412703691, 13.4385033217),\n",
       " (52.541069462, 13.4390426915),\n",
       " (52.5409210188, 13.4394714076),\n",
       " (52.5400212712, 13.4419645261),\n",
       " (52.5397421866, 13.4427210728),\n",
       " (52.5392463585, 13.4440494646),\n",
       " (52.5387788602, 13.445308351),\n",
       " (52.5383685026, 13.4464084577),\n",
       " (52.5376035922, 13.4484650167),\n",
       " (52.5374836392, 13.4486671026),\n",
       " (52.5372504045, 13.4491931959)]"
      ]
     },
     "execution_count": 20,
     "metadata": {},
     "output_type": "execute_result"
    }
   ],
   "source": [
    "crazy(first_green.T[0][0])"
   ]
  },
  {
   "cell_type": "code",
   "execution_count": 21,
   "id": "995b59b3",
   "metadata": {},
   "outputs": [],
   "source": [
    "final_coor = first_green.T[0].apply(lambda x: crazy(x))"
   ]
  },
  {
   "cell_type": "code",
   "execution_count": 22,
   "id": "997c4b2a",
   "metadata": {},
   "outputs": [],
   "source": [
    "green_df = green_df.reset_index(drop=True)"
   ]
  },
  {
   "cell_type": "code",
   "execution_count": 23,
   "id": "f7dd9a75",
   "metadata": {},
   "outputs": [],
   "source": [
    "final_df = pd.concat([green_df, final_coor], axis=1)"
   ]
  },
  {
   "cell_type": "code",
   "execution_count": 24,
   "id": "a5a4d86a",
   "metadata": {},
   "outputs": [],
   "source": [
    "final_df = final_df.drop(columns=[\n",
    "    'costs', 'link', 'companyConstruction', 'apiLink', 'owner',\n",
    "    'districts', 'milestones', 'types', 'categories', 'image', \n",
    "    'imagesCurrent', 'imagesBefore', 'kml', 'additionalInformation', \n",
    "    'additionalHtmlContent', ])"
   ]
  },
  {
   "cell_type": "code",
   "execution_count": null,
   "id": "e80f058e",
   "metadata": {},
   "outputs": [],
   "source": [
    "final_df.keys() ##check for features to include"
   ]
  },
  {
   "cell_type": "code",
   "execution_count": 25,
   "id": "08b190c9",
   "metadata": {},
   "outputs": [],
   "source": [
    "final_df = final_df.rename(columns={0: \"coordinates\"})"
   ]
  },
  {
   "cell_type": "code",
   "execution_count": 26,
   "id": "3b05faef",
   "metadata": {
    "scrolled": true
   },
   "outputs": [
    {
     "data": {
      "text/plain": [
       "array(['in Planung', 'Abgeschlossen', 'in Bau', 'Vorgesehen', None],\n",
       "      dtype=object)"
      ]
     },
     "execution_count": 26,
     "metadata": {},
     "output_type": "execute_result"
    }
   ],
   "source": [
    "final_df.status.unique()"
   ]
  },
  {
   "cell_type": "code",
   "execution_count": 27,
   "id": "5e1264f9",
   "metadata": {},
   "outputs": [],
   "source": [
    "final_df.status = final_df.status.replace({\n",
    "    'in Planung': 'in planning', 'Abgeschlossen': 'completed',\n",
    "    'in Bau': 'under construction', 'Vorgesehen': 'intended' })"
   ]
  },
  {
   "cell_type": "code",
   "execution_count": null,
   "id": "27b9c32d",
   "metadata": {},
   "outputs": [],
   "source": [
    "completed = final_df.coordinates[final_df.status == 'completed']\n",
    "under_construction = final_df.coordinates[final_df.status == 'under construction']\n",
    "in_planning = final_df.coordinates[final_df.status == 'in planning']\n",
    "intended = final_df.coordinates[final_df.status == 'intended']"
   ]
  },
  {
   "cell_type": "code",
   "execution_count": null,
   "id": "c392abf0",
   "metadata": {},
   "outputs": [],
   "source": [
    "m = folium.Map(location=[52.52000, 13.4050],tiles='openstreetmap', zoom_start=12)\n",
    "folium.PolyLine(locations=completed, color='green', weight=7, opacity=0.7, tooltip='completed').add_to(m)\n",
    "folium.PolyLine(locations=under_construction, color='yellow', weight=7, opacity=0.7, tooltip='under construction').add_to(m)\n",
    "folium.PolyLine(locations=in_planning, color='orange', weight=7, opacity=0.7, tooltip='in planning').add_to(m)\n",
    "folium.PolyLine(locations=intended, color='red', weight=7, opacity=0.7, tooltip='intended').add_to(m)\n",
    "\n",
    "m"
   ]
  },
  {
   "cell_type": "code",
   "execution_count": null,
   "id": "2699a597",
   "metadata": {},
   "outputs": [],
   "source": [
    "final_df"
   ]
  },
  {
   "cell_type": "code",
   "execution_count": null,
   "id": "147d09a2",
   "metadata": {},
   "outputs": [],
   "source": []
  },
  {
   "cell_type": "code",
   "execution_count": null,
   "id": "f13656fa",
   "metadata": {},
   "outputs": [],
   "source": []
  },
  {
   "cell_type": "code",
   "execution_count": null,
   "id": "0363c3f2",
   "metadata": {},
   "outputs": [],
   "source": []
  },
  {
   "cell_type": "code",
   "execution_count": null,
   "id": "f8cb7f11",
   "metadata": {},
   "outputs": [],
   "source": []
  },
  {
   "cell_type": "code",
   "execution_count": null,
   "id": "013c05d8",
   "metadata": {},
   "outputs": [],
   "source": [
    "filepath = Path('/Users/marlon/Downloads/greenlane_df4.pickle')  \n",
    "#final_df.to_csv(filepath)"
   ]
  },
  {
   "cell_type": "code",
   "execution_count": null,
   "id": "17b016d8",
   "metadata": {},
   "outputs": [],
   "source": [
    "test = pd.DataFrame(final_df.coordinates)"
   ]
  },
  {
   "cell_type": "code",
   "execution_count": null,
   "id": "27c9b46a",
   "metadata": {},
   "outputs": [],
   "source": [
    "test"
   ]
  },
  {
   "cell_type": "code",
   "execution_count": null,
   "id": "ac968d9d",
   "metadata": {},
   "outputs": [],
   "source": [
    "def convert_polygon(df):\n",
    "    '''\n",
    "    Take a DataFrame with POLYGON in UTM coordinates, convert them into WGS84 and\n",
    "    save it as GeoJSON file\n",
    "    '''\n",
    "    p = Proj(proj='utm', zone=33, ellps='WGS84', preserve_units=False)   \n",
    "    \n",
    "    for i in range(len(df)):\n",
    "        #Strip UTM coordinate from POLYGON data\n",
    "        poly = str(df.iloc[i, 2]).replace('((', '').replace('))','').replace(',','').split()\n",
    "        #poly.remove('POLYGON')\n",
    "        l = [float(st) for st in poly]\n",
    "        utm_len = int(len(l)/2)\n",
    "        l_utm = np.array(l).reshape((utm_len, 2))\n",
    "        \n",
    "        #Convert UTM to WGS84 for a row\n",
    "        l_wgs = []\n",
    "        for j in range(utm_len):\n",
    "            lon, lat = p(l_utm[j, 0], l_utm[j, 1], inverse=True)\n",
    "            l_wgs.append([lon, lat])\n",
    "        df.iloc[i, 2] = Multipoint(l_wgs)\n",
    "            \n",
    "    df.to_file('../data/plr.geojson', driver='GeoJSON')"
   ]
  },
  {
   "cell_type": "code",
   "execution_count": null,
   "id": "63862693",
   "metadata": {},
   "outputs": [],
   "source": [
    "convert_polygon(test)"
   ]
  },
  {
   "cell_type": "code",
   "execution_count": null,
   "id": "54f5a4c3",
   "metadata": {},
   "outputs": [],
   "source": [
    "final_df.to_pickle(filepath, protocol=4)"
   ]
  },
  {
   "cell_type": "code",
   "execution_count": null,
   "id": "3d6060ae",
   "metadata": {},
   "outputs": [],
   "source": [
    "test2 = pd.read_pickle('/Users/marlon/Downloads/greenlane_df.pickle')"
   ]
  },
  {
   "cell_type": "code",
   "execution_count": null,
   "id": "0132f6cf",
   "metadata": {},
   "outputs": [],
   "source": [
    "type(test2.coordinates[0][0][0])"
   ]
  },
  {
   "cell_type": "code",
   "execution_count": null,
   "id": "5dfc06a6",
   "metadata": {},
   "outputs": [],
   "source": [
    "pickle.dump(filepath, final_df, protocol=4)"
   ]
  },
  {
   "cell_type": "code",
   "execution_count": null,
   "id": "30379e33",
   "metadata": {},
   "outputs": [],
   "source": []
  }
 ],
 "metadata": {
  "kernelspec": {
   "display_name": "Python 3 (ipykernel)",
   "language": "python",
   "name": "python3"
  },
  "language_info": {
   "codemirror_mode": {
    "name": "ipython",
    "version": 3
   },
   "file_extension": ".py",
   "mimetype": "text/x-python",
   "name": "python",
   "nbconvert_exporter": "python",
   "pygments_lexer": "ipython3",
   "version": "3.8.12"
  },
  "toc": {
   "base_numbering": 1,
   "nav_menu": {},
   "number_sections": true,
   "sideBar": true,
   "skip_h1_title": false,
   "title_cell": "Table of Contents",
   "title_sidebar": "Contents",
   "toc_cell": false,
   "toc_position": {},
   "toc_section_display": true,
   "toc_window_display": false
  }
 },
 "nbformat": 4,
 "nbformat_minor": 5
}
