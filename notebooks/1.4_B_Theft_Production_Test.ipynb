{
 "cells": [
  {
   "cell_type": "code",
   "execution_count": 24,
   "id": "d4e8f427",
   "metadata": {},
   "outputs": [],
   "source": [
    "# URL Download\n",
    "import csv\n",
    "import io\n",
    "import urllib.request\n",
    "import requests\n",
    "\n",
    "import pandas as pd\n",
    "import numpy as np\n",
    "import joblib"
   ]
  },
  {
   "cell_type": "code",
   "execution_count": 2,
   "id": "736238aa",
   "metadata": {},
   "outputs": [],
   "source": [
    "# Read in data from the Berlin Polizei URL\n",
    "def load_data():\n",
    "    url = \"https://www.internetwache-polizei-berlin.de/vdb/Fahrraddiebstahl.csv\"\n",
    "    download = requests.get(url)\n",
    "    decoded_content = download.content.decode('ISO-8859-1')\n",
    "    file = decoded_content.splitlines()\n",
    "\n",
    "    cr = csv.DictReader(file, delimiter=',')\n",
    "    my_list = list(cr)\n",
    "    df  = pd.DataFrame(my_list)\n",
    "    return df"
   ]
  },
  {
   "cell_type": "code",
   "execution_count": 3,
   "id": "070adc5e",
   "metadata": {},
   "outputs": [],
   "source": [
    "###################################\n",
    "###  Clean data ######\n",
    "\n",
    "#dict to translate from German to English\n",
    "eng_col_names = {\n",
    "    \"ANGELEGT_AM\": \"date_reported\",\n",
    "    \"TATZEIT_ANFANG_DATUM\": \"date_theft_start\",\n",
    "    \"TATZEIT_ANFANG_STUNDE\": \"hour_theft_start\",\n",
    "    \"TATZEIT_ENDE_DATUM\": \"date_theft_end\",\n",
    "    \"TATZEIT_ENDE_STUNDE\": \"hour_theft_end\",\n",
    "    \"LOR\": \"LOR\",\n",
    "    \"SCHADENSHOEHE\": \"estimated_value\",\n",
    "    \"VERSUCH\": \"attempt\",\n",
    "    \"ART_DES_FAHRRADS\": \"type_bike\", \n",
    "    \"DELIKT\": \"theft_type\",\n",
    "    \"ERFASSUNGSGRUND\": \"theft_type_detail\"    \n",
    "}\n",
    "\n",
    "# define function for renaming the categories\n",
    "def rename_type_bike(x): \n",
    "    if x == \"Herrenfahrrad\": \n",
    "        return \"man's bike\"\n",
    "    if x == \"Damenfahrrad\":\n",
    "        return \"woman's bike\"\n",
    "    if x == \"Fahrrad\":\n",
    "        return \"bike\"\n",
    "    if x == \"Kinderfahrrad\":\n",
    "        return \"child's bike\"\n",
    "    else: \n",
    "        return \"other bike\"\n",
    "\n",
    "# dictionary for \"attempt\"\n",
    "attempt_dict = {\n",
    "    \"Ja\": \"Yes\", \n",
    "    \"Nein\": \"No\", \n",
    "    \"Unbekannt\": \"Unknown\"\n",
    "}"
   ]
  },
  {
   "cell_type": "code",
   "execution_count": 4,
   "id": "d09562f3",
   "metadata": {},
   "outputs": [],
   "source": [
    "# Concatenates translation of column and category names, \n",
    "#  conversion of dtypes, drop duplicates and create \n",
    "#  higher regional levels from LOR\n",
    "def clean_theft_data(d):\n",
    "    \"\"\"returns a clean dataframe\"\"\"\n",
    "    #translate columns to English\n",
    "    d.rename(columns= eng_col_names, inplace=True)\n",
    "    \n",
    "    #translate bike type to English\n",
    "    d[\"type_bike\"] = d[\"type_bike\"].apply(rename_type_bike)\n",
    "    \n",
    "    #translate attempt type to English\n",
    "    d[\"attempt\"] = d[\"attempt\"].map(attempt_dict)\n",
    "    \n",
    "    # convert the date columns to format='%d.%m.%Y\n",
    "    d[\"date_reported\"] = pd.to_datetime(d[\"date_reported\"], format='%d.%m.%Y')\n",
    "    d[\"date_theft_start\"] = pd.to_datetime(d[\"date_theft_start\"], format='%d.%m.%Y')\n",
    "    d[\"date_theft_end\"] = pd.to_datetime(d[\"date_theft_end\"], format='%d.%m.%Y')\n",
    "    \n",
    "    # convert the time columns to int\n",
    "    d[\"hour_theft_start\"] = d[\"hour_theft_start\"].astype(int)\n",
    "    d[\"hour_theft_end\"] = d[\"hour_theft_end\"].astype(int)\n",
    "    \n",
    "    #convert value column to float\n",
    "    d[\"estimated_value\"] = d[\"estimated_value\"].astype(float)\n",
    "    \n",
    "    #drop duplicates\n",
    "    d = d.drop_duplicates()\n",
    "    \n",
    "    # BZR (first six numbers)\n",
    "    d[\"BZR\"] = d[\"LOR\"].str[:6]\n",
    "    \n",
    "    # PGR (first four numbers)\n",
    "    d[\"PGR\"] = d[\"LOR\"].str[:4]\n",
    "    \n",
    "    # Bezirk (first four numbers)\n",
    "    d[\"Bezirk\"] = d[\"LOR\"].str[:2]\n",
    "    \n",
    "    return d"
   ]
  },
  {
   "cell_type": "code",
   "execution_count": 5,
   "id": "9bc64177",
   "metadata": {},
   "outputs": [],
   "source": [
    "# Group by bezirk and date reported sum up\n",
    "def pivot_theft_data(d):\n",
    "    d = d.pivot_table(index = \"date_reported\", columns = \"Bezirk\", values = \"type_bike\", aggfunc= \"count\")\n",
    "    d.fillna(value = 0, inplace=True)\n",
    "    return d"
   ]
  },
  {
   "cell_type": "code",
   "execution_count": 6,
   "id": "2db75507",
   "metadata": {},
   "outputs": [],
   "source": [
    "# Calculate percentage theft by Bezirk\n",
    "def perc_split_bezirk(d):\n",
    "    \"\"\"returns df showing % split of bikes stolen over the last 2 weeks per Bezirk in Berlin\"\"\"\n",
    "    d = d[-15:]\n",
    "    d.loc['perc_split']= d.sum()\n",
    "    d = d.div(d.sum(axis=1), axis=0)\n",
    "    d = d.iloc[-1]\n",
    "    return pd.DataFrame(d)"
   ]
  },
  {
   "cell_type": "code",
   "execution_count": 7,
   "id": "983e8aed",
   "metadata": {},
   "outputs": [],
   "source": [
    "def calculate_rolling_average(df, window_size):\n",
    "    fill_value = df[\"total\"][-window_size:].mean()\n",
    "    df[\"total_moving_average\"] = df[\"total\"].rolling(window = window_size, center = False).mean().fillna(fill_value)"
   ]
  },
  {
   "cell_type": "code",
   "execution_count": 8,
   "id": "1331122e",
   "metadata": {},
   "outputs": [],
   "source": [
    "# Create the dataframe for the modelling\n",
    "def create_modelling_dataframe():\n",
    "    df = load_data()\n",
    "    df = clean_theft_data(df)\n",
    "    df = pivot_theft_data(df)\n",
    "\n",
    "    # add \"total column\"\n",
    "    df[\"total\"] = df.sum(axis = 1)\n",
    "\n",
    "    # calculate rolling average\n",
    "    calculate_rolling_average(df, window_size = 3)\n",
    "    \n",
    "    # select relevant columns for modelling\n",
    "    cols_list =  [\"total\", \"total_moving_average\"]\n",
    "    df = df[cols_list]\n",
    "    \n",
    "    return df"
   ]
  },
  {
   "cell_type": "code",
   "execution_count": 9,
   "id": "bb1c0b99",
   "metadata": {},
   "outputs": [],
   "source": [
    "def bikes_stolen_365():\n",
    "    \"\"\"returns total bikes stolen in the last 365 days in Berlin\"\"\"\n",
    "    df = load_data()\n",
    "    df = clean_theft_data(df)\n",
    "    df = pivot_theft_data(df)\n",
    "    df['Total'] = df.sum(axis=1)\n",
    "    df = pd.DataFrame(df[\"Total\"])\n",
    "    df =df[-365:]\n",
    "    total_stolen_365=df.sum().values[0]\n",
    "    return int(total_stolen_365)"
   ]
  },
  {
   "cell_type": "code",
   "execution_count": 10,
   "id": "981dc8cb",
   "metadata": {},
   "outputs": [],
   "source": [
    "def theft_frequency():\n",
    "    \"\"\"returns frequency (in minutes) of bikes stolen in Berlin in the last 365 days\"\"\"\n",
    "    minutes_day=1440\n",
    "    minutes_year=1440*365\n",
    "    return round(minutes_year/bikes_stolen_365())"
   ]
  },
  {
   "cell_type": "code",
   "execution_count": 11,
   "id": "6e75c00b",
   "metadata": {},
   "outputs": [],
   "source": [
    "def get_X_y(dataset, window_size= 31, future_horizon =1):\n",
    "\n",
    "  X = []\n",
    "  y = []\n",
    "\n",
    "  for i in range(0, dataset.shape[0] - window_size - future_horizon):\n",
    "    X.append(dataset[i: i + window_size])\n",
    "    y.append(dataset[\"total\"][i + window_size: i + window_size + future_horizon])\n",
    "\n",
    "  return np.array(X), np.array(y)"
   ]
  },
  {
   "cell_type": "code",
   "execution_count": 12,
   "id": "73584d8e",
   "metadata": {},
   "outputs": [
    {
     "name": "stderr",
     "output_type": "stream",
     "text": [
      "2022-03-10 15:16:22.600577: W tensorflow/stream_executor/platform/default/dso_loader.cc:64] Could not load dynamic library 'libcudart.so.11.0'; dlerror: libcudart.so.11.0: cannot open shared object file: No such file or directory\n",
      "2022-03-10 15:16:22.600614: I tensorflow/stream_executor/cuda/cudart_stub.cc:29] Ignore above cudart dlerror if you do not have a GPU set up on your machine.\n"
     ]
    }
   ],
   "source": [
    "import numpy as np\n",
    "from keras.layers import Dense, LSTM, Dropout\n",
    "from tensorflow.keras import Sequential, callbacks\n",
    "\n",
    "def create_opt_model(): \n",
    "    \"\"\"\n",
    "    Creates the finetuned model selected in B_Theft_Modelling\n",
    "    Outputs models, that needs to be compiled and fit\"\"\"\n",
    "    model = Sequential()\n",
    "    # first LSTM layer\n",
    "    model.add(LSTM(units = 70, activation = \"tanh\", return_sequences = True))\n",
    "    model.add(Dropout(0.2))\n",
    "    # second LSTM layer\n",
    "    model.add(LSTM(units= 30, activation= \"tanh\", return_sequences= False))\n",
    "    model.add(Dropout(0.2))\n",
    "\n",
    "    # output layer to predict one value\n",
    "    model.add(Dense(1, activation= \"linear\"))\n",
    "    return model"
   ]
  },
  {
   "cell_type": "code",
   "execution_count": 13,
   "id": "d6902161",
   "metadata": {},
   "outputs": [],
   "source": [
    "def get_pred_array():\n",
    "    # read in dataset from URL\n",
    "    df = load_data()\n",
    "    # clean dataset\n",
    "    clean_theft_data(df)\n",
    "    # group by Bezirk and date reported\n",
    "    pivot_theft_data(df)\n",
    "    # add \"total column\"\n",
    "    df[\"total\"] = df.sum(axis = 1)\n",
    "    # calculate rolling average\n",
    "    calculate_rolling_average(df, window_size = 3)\n",
    "    # drop not-needed columns\n",
    "    cols_list =  [\"total\", \"total_moving_average\"]\n",
    "    df = df[cols_list]\n",
    "    # only keep last 31 days"
   ]
  },
  {
   "cell_type": "markdown",
   "id": "a40467e2",
   "metadata": {},
   "source": [
    "# Start work"
   ]
  },
  {
   "cell_type": "code",
   "execution_count": 16,
   "id": "61adfef7",
   "metadata": {},
   "outputs": [
    {
     "name": "stderr",
     "output_type": "stream",
     "text": [
      "/tmp/ipykernel_6645/2814565939.py:31: SettingWithCopyWarning: \n",
      "A value is trying to be set on a copy of a slice from a DataFrame.\n",
      "Try using .loc[row_indexer,col_indexer] = value instead\n",
      "\n",
      "See the caveats in the documentation: https://pandas.pydata.org/pandas-docs/stable/user_guide/indexing.html#returning-a-view-versus-a-copy\n",
      "  d[\"BZR\"] = d[\"LOR\"].str[:6]\n",
      "/tmp/ipykernel_6645/2814565939.py:34: SettingWithCopyWarning: \n",
      "A value is trying to be set on a copy of a slice from a DataFrame.\n",
      "Try using .loc[row_indexer,col_indexer] = value instead\n",
      "\n",
      "See the caveats in the documentation: https://pandas.pydata.org/pandas-docs/stable/user_guide/indexing.html#returning-a-view-versus-a-copy\n",
      "  d[\"PGR\"] = d[\"LOR\"].str[:4]\n",
      "/tmp/ipykernel_6645/2814565939.py:37: SettingWithCopyWarning: \n",
      "A value is trying to be set on a copy of a slice from a DataFrame.\n",
      "Try using .loc[row_indexer,col_indexer] = value instead\n",
      "\n",
      "See the caveats in the documentation: https://pandas.pydata.org/pandas-docs/stable/user_guide/indexing.html#returning-a-view-versus-a-copy\n",
      "  d[\"Bezirk\"] = d[\"LOR\"].str[:2]\n"
     ]
    }
   ],
   "source": [
    "df = create_modelling_dataframe()"
   ]
  },
  {
   "cell_type": "code",
   "execution_count": 18,
   "id": "bc447df6",
   "metadata": {},
   "outputs": [
    {
     "data": {
      "text/html": [
       "<div>\n",
       "<style scoped>\n",
       "    .dataframe tbody tr th:only-of-type {\n",
       "        vertical-align: middle;\n",
       "    }\n",
       "\n",
       "    .dataframe tbody tr th {\n",
       "        vertical-align: top;\n",
       "    }\n",
       "\n",
       "    .dataframe thead th {\n",
       "        text-align: right;\n",
       "    }\n",
       "</style>\n",
       "<table border=\"1\" class=\"dataframe\">\n",
       "  <thead>\n",
       "    <tr style=\"text-align: right;\">\n",
       "      <th>Bezirk</th>\n",
       "      <th>total</th>\n",
       "      <th>total_moving_average</th>\n",
       "    </tr>\n",
       "    <tr>\n",
       "      <th>date_reported</th>\n",
       "      <th></th>\n",
       "      <th></th>\n",
       "    </tr>\n",
       "  </thead>\n",
       "  <tbody>\n",
       "    <tr>\n",
       "      <th>2021-01-01</th>\n",
       "      <td>4.0</td>\n",
       "      <td>50.000000</td>\n",
       "    </tr>\n",
       "    <tr>\n",
       "      <th>2021-01-02</th>\n",
       "      <td>7.0</td>\n",
       "      <td>50.000000</td>\n",
       "    </tr>\n",
       "    <tr>\n",
       "      <th>2021-01-03</th>\n",
       "      <td>3.0</td>\n",
       "      <td>4.666667</td>\n",
       "    </tr>\n",
       "    <tr>\n",
       "      <th>2021-01-04</th>\n",
       "      <td>21.0</td>\n",
       "      <td>10.333333</td>\n",
       "    </tr>\n",
       "    <tr>\n",
       "      <th>2021-01-05</th>\n",
       "      <td>31.0</td>\n",
       "      <td>18.333333</td>\n",
       "    </tr>\n",
       "    <tr>\n",
       "      <th>...</th>\n",
       "      <td>...</td>\n",
       "      <td>...</td>\n",
       "    </tr>\n",
       "    <tr>\n",
       "      <th>2022-03-05</th>\n",
       "      <td>36.0</td>\n",
       "      <td>42.000000</td>\n",
       "    </tr>\n",
       "    <tr>\n",
       "      <th>2022-03-06</th>\n",
       "      <td>22.0</td>\n",
       "      <td>32.666667</td>\n",
       "    </tr>\n",
       "    <tr>\n",
       "      <th>2022-03-07</th>\n",
       "      <td>53.0</td>\n",
       "      <td>37.000000</td>\n",
       "    </tr>\n",
       "    <tr>\n",
       "      <th>2022-03-08</th>\n",
       "      <td>41.0</td>\n",
       "      <td>38.666667</td>\n",
       "    </tr>\n",
       "    <tr>\n",
       "      <th>2022-03-09</th>\n",
       "      <td>56.0</td>\n",
       "      <td>50.000000</td>\n",
       "    </tr>\n",
       "  </tbody>\n",
       "</table>\n",
       "<p>433 rows × 2 columns</p>\n",
       "</div>"
      ],
      "text/plain": [
       "Bezirk         total  total_moving_average\n",
       "date_reported                             \n",
       "2021-01-01       4.0             50.000000\n",
       "2021-01-02       7.0             50.000000\n",
       "2021-01-03       3.0              4.666667\n",
       "2021-01-04      21.0             10.333333\n",
       "2021-01-05      31.0             18.333333\n",
       "...              ...                   ...\n",
       "2022-03-05      36.0             42.000000\n",
       "2022-03-06      22.0             32.666667\n",
       "2022-03-07      53.0             37.000000\n",
       "2022-03-08      41.0             38.666667\n",
       "2022-03-09      56.0             50.000000\n",
       "\n",
       "[433 rows x 2 columns]"
      ]
     },
     "execution_count": 18,
     "metadata": {},
     "output_type": "execute_result"
    }
   ],
   "source": [
    "df"
   ]
  },
  {
   "cell_type": "code",
   "execution_count": null,
   "id": "b0370d3d",
   "metadata": {},
   "outputs": [],
   "source": []
  },
  {
   "cell_type": "code",
   "execution_count": null,
   "id": "1bc5314d",
   "metadata": {},
   "outputs": [],
   "source": [
    "\n",
    "window_size = 31\n",
    "future_horizon = 1\n",
    "\n",
    "X_train, y_train = get_X_y(window_size,future_horizon, df_train)\n",
    "X_test, y_test = get_X_y(window_size, future_horizon, df_test)\n",
    "\n",
    "X_test = np.expand_dims(X_test, 2)\n",
    "X_train = np.expand_dims(X_train, 2)"
   ]
  },
  {
   "cell_type": "code",
   "execution_count": null,
   "id": "08dfd09b",
   "metadata": {},
   "outputs": [],
   "source": []
  },
  {
   "cell_type": "code",
   "execution_count": null,
   "id": "0ef3acc2",
   "metadata": {},
   "outputs": [],
   "source": []
  },
  {
   "cell_type": "code",
   "execution_count": null,
   "id": "2bf5be91",
   "metadata": {},
   "outputs": [],
   "source": []
  },
  {
   "cell_type": "code",
   "execution_count": 19,
   "id": "71d707f1",
   "metadata": {},
   "outputs": [
    {
     "name": "stderr",
     "output_type": "stream",
     "text": [
      "2022-03-10 15:18:02.266852: W tensorflow/stream_executor/platform/default/dso_loader.cc:64] Could not load dynamic library 'libcuda.so.1'; dlerror: libcuda.so.1: cannot open shared object file: No such file or directory\n",
      "2022-03-10 15:18:02.266965: W tensorflow/stream_executor/cuda/cuda_driver.cc:269] failed call to cuInit: UNKNOWN ERROR (303)\n",
      "2022-03-10 15:18:02.267021: I tensorflow/stream_executor/cuda/cuda_diagnostics.cc:156] kernel driver does not appear to be running on this host (LAPTOP-C0GM00LC): /proc/driver/nvidia/version does not exist\n",
      "2022-03-10 15:18:02.268112: I tensorflow/core/platform/cpu_feature_guard.cc:151] This TensorFlow binary is optimized with oneAPI Deep Neural Network Library (oneDNN) to use the following CPU instructions in performance-critical operations:  AVX2 AVX512F FMA\n",
      "To enable them in other operations, rebuild TensorFlow with the appropriate compiler flags.\n"
     ]
    }
   ],
   "source": [
    "model = create_opt_model()"
   ]
  },
  {
   "cell_type": "markdown",
   "id": "2e47a046",
   "metadata": {},
   "source": [
    "## Predict on the last 31 days"
   ]
  },
  {
   "cell_type": "code",
   "execution_count": 20,
   "id": "4d9159e8",
   "metadata": {},
   "outputs": [],
   "source": [
    "pred_df = df[-31:]"
   ]
  },
  {
   "cell_type": "code",
   "execution_count": 21,
   "id": "e847ae95",
   "metadata": {},
   "outputs": [
    {
     "data": {
      "text/html": [
       "<div>\n",
       "<style scoped>\n",
       "    .dataframe tbody tr th:only-of-type {\n",
       "        vertical-align: middle;\n",
       "    }\n",
       "\n",
       "    .dataframe tbody tr th {\n",
       "        vertical-align: top;\n",
       "    }\n",
       "\n",
       "    .dataframe thead th {\n",
       "        text-align: right;\n",
       "    }\n",
       "</style>\n",
       "<table border=\"1\" class=\"dataframe\">\n",
       "  <thead>\n",
       "    <tr style=\"text-align: right;\">\n",
       "      <th>Bezirk</th>\n",
       "      <th>total</th>\n",
       "      <th>total_moving_average</th>\n",
       "    </tr>\n",
       "    <tr>\n",
       "      <th>date_reported</th>\n",
       "      <th></th>\n",
       "      <th></th>\n",
       "    </tr>\n",
       "  </thead>\n",
       "  <tbody>\n",
       "    <tr>\n",
       "      <th>2022-02-07</th>\n",
       "      <td>46.0</td>\n",
       "      <td>39.666667</td>\n",
       "    </tr>\n",
       "    <tr>\n",
       "      <th>2022-02-08</th>\n",
       "      <td>51.0</td>\n",
       "      <td>44.333333</td>\n",
       "    </tr>\n",
       "    <tr>\n",
       "      <th>2022-02-09</th>\n",
       "      <td>53.0</td>\n",
       "      <td>50.000000</td>\n",
       "    </tr>\n",
       "    <tr>\n",
       "      <th>2022-02-10</th>\n",
       "      <td>67.0</td>\n",
       "      <td>57.000000</td>\n",
       "    </tr>\n",
       "    <tr>\n",
       "      <th>2022-02-11</th>\n",
       "      <td>54.0</td>\n",
       "      <td>58.000000</td>\n",
       "    </tr>\n",
       "  </tbody>\n",
       "</table>\n",
       "</div>"
      ],
      "text/plain": [
       "Bezirk         total  total_moving_average\n",
       "date_reported                             \n",
       "2022-02-07      46.0             39.666667\n",
       "2022-02-08      51.0             44.333333\n",
       "2022-02-09      53.0             50.000000\n",
       "2022-02-10      67.0             57.000000\n",
       "2022-02-11      54.0             58.000000"
      ]
     },
     "execution_count": 21,
     "metadata": {},
     "output_type": "execute_result"
    }
   ],
   "source": [
    "pred_df.head()"
   ]
  },
  {
   "cell_type": "code",
   "execution_count": 23,
   "id": "b31514f6",
   "metadata": {},
   "outputs": [
    {
     "name": "stdout",
     "output_type": "stream",
     "text": [
      " 1.1_B_Theft_DataCleaning.ipynb\r\n",
      " 1.2_B_Theft_AllocationToBezirke.ipynb\r\n",
      " 1.2_B_Theft_EDA.ipynb\r\n",
      " 1.3.1_B_Theft_Modelling.ipynb\r\n",
      " 1.3.2_B_Theft_Modelling_Added_Features.ipynb\r\n",
      " 1.3.3_B_Theft_Modelling_Clean_Reported_Date.ipynb\r\n",
      " 1.4_B_Theft_Production_Test.ipynb\r\n",
      " 2_B_Sharing_Location_EDA.ipynb\r\n",
      " 4_B_Accident_EDA.ipynb\r\n",
      "'4 Bike Accident.ipynb'\r\n",
      " 5_Streamlit_mapping.ipynb\r\n",
      " B_Theft_Modelling_OLD_IterativeApproach.ipynb\r\n"
     ]
    }
   ],
   "source": []
  },
  {
   "cell_type": "code",
   "execution_count": 22,
   "id": "67a27bd7",
   "metadata": {
    "scrolled": true
   },
   "outputs": [
    {
     "ename": "TypeError",
     "evalue": "predict() missing 1 required positional argument: 'x'",
     "output_type": "error",
     "traceback": [
      "\u001b[0;31m---------------------------------------------------------------------------\u001b[0m",
      "\u001b[0;31mTypeError\u001b[0m                                 Traceback (most recent call last)",
      "Input \u001b[0;32mIn [22]\u001b[0m, in \u001b[0;36m<cell line: 1>\u001b[0;34m()\u001b[0m\n\u001b[0;32m----> 1\u001b[0m \u001b[43mmodel\u001b[49m\u001b[38;5;241;43m.\u001b[39;49m\u001b[43mpredict\u001b[49m\u001b[43m(\u001b[49m\u001b[43m)\u001b[49m\n",
      "File \u001b[0;32m~/.pyenv/versions/3.8.12/envs/berlin-bike-theft-forecasting/lib/python3.8/site-packages/keras/utils/traceback_utils.py:67\u001b[0m, in \u001b[0;36mfilter_traceback.<locals>.error_handler\u001b[0;34m(*args, **kwargs)\u001b[0m\n\u001b[1;32m     65\u001b[0m \u001b[38;5;28;01mexcept\u001b[39;00m \u001b[38;5;167;01mException\u001b[39;00m \u001b[38;5;28;01mas\u001b[39;00m e:  \u001b[38;5;66;03m# pylint: disable=broad-except\u001b[39;00m\n\u001b[1;32m     66\u001b[0m   filtered_tb \u001b[38;5;241m=\u001b[39m _process_traceback_frames(e\u001b[38;5;241m.\u001b[39m__traceback__)\n\u001b[0;32m---> 67\u001b[0m   \u001b[38;5;28;01mraise\u001b[39;00m e\u001b[38;5;241m.\u001b[39mwith_traceback(filtered_tb) \u001b[38;5;28;01mfrom\u001b[39;00m \u001b[38;5;28mNone\u001b[39m\n\u001b[1;32m     68\u001b[0m \u001b[38;5;28;01mfinally\u001b[39;00m:\n\u001b[1;32m     69\u001b[0m   \u001b[38;5;28;01mdel\u001b[39;00m filtered_tb\n",
      "File \u001b[0;32m~/.pyenv/versions/3.8.12/envs/berlin-bike-theft-forecasting/lib/python3.8/site-packages/keras/utils/traceback_utils.py:64\u001b[0m, in \u001b[0;36mfilter_traceback.<locals>.error_handler\u001b[0;34m(*args, **kwargs)\u001b[0m\n\u001b[1;32m     62\u001b[0m filtered_tb \u001b[38;5;241m=\u001b[39m \u001b[38;5;28;01mNone\u001b[39;00m\n\u001b[1;32m     63\u001b[0m \u001b[38;5;28;01mtry\u001b[39;00m:\n\u001b[0;32m---> 64\u001b[0m   \u001b[38;5;28;01mreturn\u001b[39;00m fn(\u001b[38;5;241m*\u001b[39margs, \u001b[38;5;241m*\u001b[39m\u001b[38;5;241m*\u001b[39mkwargs)\n\u001b[1;32m     65\u001b[0m \u001b[38;5;28;01mexcept\u001b[39;00m \u001b[38;5;167;01mException\u001b[39;00m \u001b[38;5;28;01mas\u001b[39;00m e:  \u001b[38;5;66;03m# pylint: disable=broad-except\u001b[39;00m\n\u001b[1;32m     66\u001b[0m   filtered_tb \u001b[38;5;241m=\u001b[39m _process_traceback_frames(e\u001b[38;5;241m.\u001b[39m__traceback__)\n",
      "\u001b[0;31mTypeError\u001b[0m: predict() missing 1 required positional argument: 'x'"
     ]
    }
   ],
   "source": [
    "model.predict()"
   ]
  },
  {
   "cell_type": "code",
   "execution_count": null,
   "id": "4cffd6ea",
   "metadata": {},
   "outputs": [],
   "source": []
  },
  {
   "cell_type": "code",
   "execution_count": null,
   "id": "b54343db",
   "metadata": {},
   "outputs": [],
   "source": []
  },
  {
   "cell_type": "code",
   "execution_count": null,
   "id": "eca2f0b5",
   "metadata": {},
   "outputs": [],
   "source": []
  },
  {
   "cell_type": "code",
   "execution_count": null,
   "id": "7f10e766",
   "metadata": {},
   "outputs": [],
   "source": []
  },
  {
   "cell_type": "code",
   "execution_count": 19,
   "id": "5d35a3d0",
   "metadata": {
    "scrolled": false
   },
   "outputs": [
    {
     "name": "stderr",
     "output_type": "stream",
     "text": [
      "/tmp/ipykernel_7448/2814565939.py:31: SettingWithCopyWarning: \n",
      "A value is trying to be set on a copy of a slice from a DataFrame.\n",
      "Try using .loc[row_indexer,col_indexer] = value instead\n",
      "\n",
      "See the caveats in the documentation: https://pandas.pydata.org/pandas-docs/stable/user_guide/indexing.html#returning-a-view-versus-a-copy\n",
      "  d[\"BZR\"] = d[\"LOR\"].str[:6]\n",
      "/tmp/ipykernel_7448/2814565939.py:34: SettingWithCopyWarning: \n",
      "A value is trying to be set on a copy of a slice from a DataFrame.\n",
      "Try using .loc[row_indexer,col_indexer] = value instead\n",
      "\n",
      "See the caveats in the documentation: https://pandas.pydata.org/pandas-docs/stable/user_guide/indexing.html#returning-a-view-versus-a-copy\n",
      "  d[\"PGR\"] = d[\"LOR\"].str[:4]\n",
      "/tmp/ipykernel_7448/2814565939.py:37: SettingWithCopyWarning: \n",
      "A value is trying to be set on a copy of a slice from a DataFrame.\n",
      "Try using .loc[row_indexer,col_indexer] = value instead\n",
      "\n",
      "See the caveats in the documentation: https://pandas.pydata.org/pandas-docs/stable/user_guide/indexing.html#returning-a-view-versus-a-copy\n",
      "  d[\"Bezirk\"] = d[\"LOR\"].str[:2]\n"
     ]
    }
   ],
   "source": [
    "test = create_modelling_dataframe()"
   ]
  },
  {
   "cell_type": "code",
   "execution_count": 21,
   "id": "de35bebf",
   "metadata": {},
   "outputs": [
    {
     "data": {
      "text/html": [
       "<div>\n",
       "<style scoped>\n",
       "    .dataframe tbody tr th:only-of-type {\n",
       "        vertical-align: middle;\n",
       "    }\n",
       "\n",
       "    .dataframe tbody tr th {\n",
       "        vertical-align: top;\n",
       "    }\n",
       "\n",
       "    .dataframe thead th {\n",
       "        text-align: right;\n",
       "    }\n",
       "</style>\n",
       "<table border=\"1\" class=\"dataframe\">\n",
       "  <thead>\n",
       "    <tr style=\"text-align: right;\">\n",
       "      <th>Bezirk</th>\n",
       "      <th>total</th>\n",
       "      <th>total_moving_average</th>\n",
       "    </tr>\n",
       "    <tr>\n",
       "      <th>date_reported</th>\n",
       "      <th></th>\n",
       "      <th></th>\n",
       "    </tr>\n",
       "  </thead>\n",
       "  <tbody>\n",
       "    <tr>\n",
       "      <th>2022-03-03</th>\n",
       "      <td>50.0</td>\n",
       "      <td>45.000000</td>\n",
       "    </tr>\n",
       "    <tr>\n",
       "      <th>2022-03-04</th>\n",
       "      <td>37.0</td>\n",
       "      <td>42.333333</td>\n",
       "    </tr>\n",
       "    <tr>\n",
       "      <th>2022-03-05</th>\n",
       "      <td>34.0</td>\n",
       "      <td>40.333333</td>\n",
       "    </tr>\n",
       "    <tr>\n",
       "      <th>2022-03-06</th>\n",
       "      <td>21.0</td>\n",
       "      <td>30.666667</td>\n",
       "    </tr>\n",
       "    <tr>\n",
       "      <th>2022-03-07</th>\n",
       "      <td>42.0</td>\n",
       "      <td>32.333333</td>\n",
       "    </tr>\n",
       "  </tbody>\n",
       "</table>\n",
       "</div>"
      ],
      "text/plain": [
       "Bezirk         total  total_moving_average\n",
       "date_reported                             \n",
       "2022-03-03      50.0             45.000000\n",
       "2022-03-04      37.0             42.333333\n",
       "2022-03-05      34.0             40.333333\n",
       "2022-03-06      21.0             30.666667\n",
       "2022-03-07      42.0             32.333333"
      ]
     },
     "execution_count": 21,
     "metadata": {},
     "output_type": "execute_result"
    }
   ],
   "source": [
    "test.tail()"
   ]
  },
  {
   "cell_type": "code",
   "execution_count": null,
   "id": "5c9e4fc5",
   "metadata": {},
   "outputs": [],
   "source": []
  },
  {
   "cell_type": "code",
   "execution_count": null,
   "id": "e4ec00a5",
   "metadata": {},
   "outputs": [],
   "source": []
  },
  {
   "cell_type": "code",
   "execution_count": null,
   "id": "3b0fc76e",
   "metadata": {},
   "outputs": [],
   "source": []
  },
  {
   "cell_type": "code",
   "execution_count": null,
   "id": "cc2c4605",
   "metadata": {},
   "outputs": [],
   "source": []
  },
  {
   "cell_type": "code",
   "execution_count": null,
   "id": "d1198e37",
   "metadata": {},
   "outputs": [],
   "source": []
  },
  {
   "cell_type": "code",
   "execution_count": null,
   "id": "8896cc4f",
   "metadata": {},
   "outputs": [],
   "source": []
  },
  {
   "cell_type": "code",
   "execution_count": 24,
   "id": "d149cfc0",
   "metadata": {
    "scrolled": true
   },
   "outputs": [
    {
     "name": "stderr",
     "output_type": "stream",
     "text": [
      "2022-03-09 10:50:56.336654: W tensorflow/stream_executor/platform/default/dso_loader.cc:64] Could not load dynamic library 'libcuda.so.1'; dlerror: libcuda.so.1: cannot open shared object file: No such file or directory\n",
      "2022-03-09 10:50:56.336713: W tensorflow/stream_executor/cuda/cuda_driver.cc:269] failed call to cuInit: UNKNOWN ERROR (303)\n",
      "2022-03-09 10:50:56.336729: I tensorflow/stream_executor/cuda/cuda_diagnostics.cc:156] kernel driver does not appear to be running on this host (LAPTOP-C0GM00LC): /proc/driver/nvidia/version does not exist\n",
      "2022-03-09 10:50:56.336937: I tensorflow/core/platform/cpu_feature_guard.cc:151] This TensorFlow binary is optimized with oneAPI Deep Neural Network Library (oneDNN) to use the following CPU instructions in performance-critical operations:  AVX2 AVX512F FMA\n",
      "To enable them in other operations, rebuild TensorFlow with the appropriate compiler flags.\n"
     ]
    }
   ],
   "source": [
    "model = create_opt_model()"
   ]
  },
  {
   "cell_type": "code",
   "execution_count": 27,
   "id": "cda647d2",
   "metadata": {},
   "outputs": [
    {
     "data": {
      "text/plain": [
       "<keras.engine.sequential.Sequential at 0x7fc8dd8a6c70>"
      ]
     },
     "execution_count": 27,
     "metadata": {},
     "output_type": "execute_result"
    }
   ],
   "source": [
    "model"
   ]
  },
  {
   "cell_type": "code",
   "execution_count": null,
   "id": "defc0f3d",
   "metadata": {},
   "outputs": [],
   "source": []
  },
  {
   "cell_type": "code",
   "execution_count": 135,
   "id": "6ab67141",
   "metadata": {},
   "outputs": [],
   "source": [
    "X, y = get_X_y(df)"
   ]
  },
  {
   "cell_type": "code",
   "execution_count": 137,
   "id": "48a561c9",
   "metadata": {},
   "outputs": [],
   "source": [
    "es = callbacks.EarlyStopping(patience = 5, restore_best_weights=True)"
   ]
  },
  {
   "cell_type": "code",
   "execution_count": 136,
   "id": "c738e33b",
   "metadata": {},
   "outputs": [
    {
     "data": {
      "text/plain": [
       "((395, 31, 2), (395, 1, 2))"
      ]
     },
     "execution_count": 136,
     "metadata": {},
     "output_type": "execute_result"
    }
   ],
   "source": [
    "X.shape, y.shape"
   ]
  },
  {
   "cell_type": "code",
   "execution_count": null,
   "id": "828e0844",
   "metadata": {},
   "outputs": [],
   "source": [
    "model.fit()"
   ]
  },
  {
   "cell_type": "code",
   "execution_count": null,
   "id": "e5fccf79",
   "metadata": {},
   "outputs": [],
   "source": []
  },
  {
   "cell_type": "code",
   "execution_count": null,
   "id": "b7063e0b",
   "metadata": {},
   "outputs": [],
   "source": []
  },
  {
   "cell_type": "code",
   "execution_count": null,
   "id": "abf0183f",
   "metadata": {},
   "outputs": [],
   "source": []
  },
  {
   "cell_type": "code",
   "execution_count": null,
   "id": "f733fc00",
   "metadata": {},
   "outputs": [],
   "source": []
  },
  {
   "cell_type": "code",
   "execution_count": 11,
   "id": "8be79944",
   "metadata": {},
   "outputs": [
    {
     "name": "stderr",
     "output_type": "stream",
     "text": [
      "/tmp/ipykernel_7448/2814565939.py:31: SettingWithCopyWarning: \n",
      "A value is trying to be set on a copy of a slice from a DataFrame.\n",
      "Try using .loc[row_indexer,col_indexer] = value instead\n",
      "\n",
      "See the caveats in the documentation: https://pandas.pydata.org/pandas-docs/stable/user_guide/indexing.html#returning-a-view-versus-a-copy\n",
      "  d[\"BZR\"] = d[\"LOR\"].str[:6]\n",
      "/tmp/ipykernel_7448/2814565939.py:34: SettingWithCopyWarning: \n",
      "A value is trying to be set on a copy of a slice from a DataFrame.\n",
      "Try using .loc[row_indexer,col_indexer] = value instead\n",
      "\n",
      "See the caveats in the documentation: https://pandas.pydata.org/pandas-docs/stable/user_guide/indexing.html#returning-a-view-versus-a-copy\n",
      "  d[\"PGR\"] = d[\"LOR\"].str[:4]\n",
      "/tmp/ipykernel_7448/2814565939.py:37: SettingWithCopyWarning: \n",
      "A value is trying to be set on a copy of a slice from a DataFrame.\n",
      "Try using .loc[row_indexer,col_indexer] = value instead\n",
      "\n",
      "See the caveats in the documentation: https://pandas.pydata.org/pandas-docs/stable/user_guide/indexing.html#returning-a-view-versus-a-copy\n",
      "  d[\"Bezirk\"] = d[\"LOR\"].str[:2]\n"
     ]
    }
   ],
   "source": [
    "df = create_modelling_dataframe()"
   ]
  },
  {
   "cell_type": "code",
   "execution_count": 13,
   "id": "93205fee",
   "metadata": {},
   "outputs": [
    {
     "data": {
      "text/html": [
       "<div>\n",
       "<style scoped>\n",
       "    .dataframe tbody tr th:only-of-type {\n",
       "        vertical-align: middle;\n",
       "    }\n",
       "\n",
       "    .dataframe tbody tr th {\n",
       "        vertical-align: top;\n",
       "    }\n",
       "\n",
       "    .dataframe thead th {\n",
       "        text-align: right;\n",
       "    }\n",
       "</style>\n",
       "<table border=\"1\" class=\"dataframe\">\n",
       "  <thead>\n",
       "    <tr style=\"text-align: right;\">\n",
       "      <th>Bezirk</th>\n",
       "      <th>total</th>\n",
       "      <th>total_moving_average</th>\n",
       "    </tr>\n",
       "    <tr>\n",
       "      <th>date_theft_start</th>\n",
       "      <th></th>\n",
       "      <th></th>\n",
       "    </tr>\n",
       "  </thead>\n",
       "  <tbody>\n",
       "    <tr>\n",
       "      <th>2022-02-28</th>\n",
       "      <td>30.0</td>\n",
       "      <td>32.333333</td>\n",
       "    </tr>\n",
       "    <tr>\n",
       "      <th>2022-03-01</th>\n",
       "      <td>40.0</td>\n",
       "      <td>36.000000</td>\n",
       "    </tr>\n",
       "    <tr>\n",
       "      <th>2022-03-02</th>\n",
       "      <td>38.0</td>\n",
       "      <td>37.000000</td>\n",
       "    </tr>\n",
       "    <tr>\n",
       "      <th>2022-03-03</th>\n",
       "      <td>33.0</td>\n",
       "      <td>35.666667</td>\n",
       "    </tr>\n",
       "    <tr>\n",
       "      <th>2022-03-04</th>\n",
       "      <td>36.0</td>\n",
       "      <td>35.666667</td>\n",
       "    </tr>\n",
       "  </tbody>\n",
       "</table>\n",
       "</div>"
      ],
      "text/plain": [
       "Bezirk            total  total_moving_average\n",
       "date_theft_start                             \n",
       "2022-02-28         30.0             32.333333\n",
       "2022-03-01         40.0             36.000000\n",
       "2022-03-02         38.0             37.000000\n",
       "2022-03-03         33.0             35.666667\n",
       "2022-03-04         36.0             35.666667"
      ]
     },
     "execution_count": 13,
     "metadata": {},
     "output_type": "execute_result"
    }
   ],
   "source": [
    "df.tail()"
   ]
  },
  {
   "cell_type": "code",
   "execution_count": 33,
   "id": "7e9f4184",
   "metadata": {},
   "outputs": [],
   "source": [
    "X, y = get_X_y(df, window_size=31, future_horizon=1)"
   ]
  },
  {
   "cell_type": "code",
   "execution_count": 34,
   "id": "d16864ee",
   "metadata": {},
   "outputs": [
    {
     "data": {
      "text/plain": [
       "(396, 31, 2)"
      ]
     },
     "execution_count": 34,
     "metadata": {},
     "output_type": "execute_result"
    }
   ],
   "source": [
    "X.shape"
   ]
  },
  {
   "cell_type": "code",
   "execution_count": 35,
   "id": "3a257efb",
   "metadata": {},
   "outputs": [
    {
     "data": {
      "text/plain": [
       "(396, 1)"
      ]
     },
     "execution_count": 35,
     "metadata": {},
     "output_type": "execute_result"
    }
   ],
   "source": [
    "y.shape"
   ]
  },
  {
   "cell_type": "code",
   "execution_count": null,
   "id": "1264b9ce",
   "metadata": {},
   "outputs": [],
   "source": []
  },
  {
   "cell_type": "code",
   "execution_count": null,
   "id": "0b2b4e26",
   "metadata": {},
   "outputs": [],
   "source": []
  },
  {
   "cell_type": "code",
   "execution_count": null,
   "id": "db9f83cd",
   "metadata": {},
   "outputs": [],
   "source": []
  },
  {
   "cell_type": "code",
   "execution_count": null,
   "id": "9f870c2a",
   "metadata": {},
   "outputs": [],
   "source": []
  },
  {
   "cell_type": "code",
   "execution_count": null,
   "id": "dff22309",
   "metadata": {},
   "outputs": [],
   "source": []
  },
  {
   "cell_type": "code",
   "execution_count": null,
   "id": "aca7e7e3",
   "metadata": {},
   "outputs": [],
   "source": []
  },
  {
   "cell_type": "code",
   "execution_count": null,
   "id": "df584e49",
   "metadata": {},
   "outputs": [],
   "source": []
  },
  {
   "cell_type": "code",
   "execution_count": null,
   "id": "b1c055e4",
   "metadata": {},
   "outputs": [],
   "source": []
  },
  {
   "cell_type": "code",
   "execution_count": null,
   "id": "441abd1d",
   "metadata": {},
   "outputs": [],
   "source": []
  },
  {
   "cell_type": "code",
   "execution_count": 50,
   "id": "f03164f5",
   "metadata": {},
   "outputs": [
    {
     "name": "stderr",
     "output_type": "stream",
     "text": [
      "/tmp/ipykernel_7448/2814565939.py:31: SettingWithCopyWarning: \n",
      "A value is trying to be set on a copy of a slice from a DataFrame.\n",
      "Try using .loc[row_indexer,col_indexer] = value instead\n",
      "\n",
      "See the caveats in the documentation: https://pandas.pydata.org/pandas-docs/stable/user_guide/indexing.html#returning-a-view-versus-a-copy\n",
      "  d[\"BZR\"] = d[\"LOR\"].str[:6]\n",
      "/tmp/ipykernel_7448/2814565939.py:34: SettingWithCopyWarning: \n",
      "A value is trying to be set on a copy of a slice from a DataFrame.\n",
      "Try using .loc[row_indexer,col_indexer] = value instead\n",
      "\n",
      "See the caveats in the documentation: https://pandas.pydata.org/pandas-docs/stable/user_guide/indexing.html#returning-a-view-versus-a-copy\n",
      "  d[\"PGR\"] = d[\"LOR\"].str[:4]\n",
      "/tmp/ipykernel_7448/2814565939.py:37: SettingWithCopyWarning: \n",
      "A value is trying to be set on a copy of a slice from a DataFrame.\n",
      "Try using .loc[row_indexer,col_indexer] = value instead\n",
      "\n",
      "See the caveats in the documentation: https://pandas.pydata.org/pandas-docs/stable/user_guide/indexing.html#returning-a-view-versus-a-copy\n",
      "  d[\"Bezirk\"] = d[\"LOR\"].str[:2]\n"
     ]
    }
   ],
   "source": [
    "# read in dataset from URL\n",
    "df = create_modelling_dataframe()\n",
    "#only keep the last 31 days\n",
    "df = df[-31:]\n",
    "# create input array\n",
    "X_input = np.expand_dims(df, axis = 0)"
   ]
  },
  {
   "cell_type": "code",
   "execution_count": 54,
   "id": "538b3da1",
   "metadata": {},
   "outputs": [
    {
     "data": {
      "text/plain": [
       "-0.0467952"
      ]
     },
     "execution_count": 54,
     "metadata": {},
     "output_type": "execute_result"
    }
   ],
   "source": [
    "model.predict(X_input)[0][0]"
   ]
  },
  {
   "cell_type": "code",
   "execution_count": 44,
   "id": "e4244467",
   "metadata": {},
   "outputs": [
    {
     "data": {
      "text/plain": [
       "(31, 2)"
      ]
     },
     "execution_count": 44,
     "metadata": {},
     "output_type": "execute_result"
    }
   ],
   "source": [
    "df.shape"
   ]
  },
  {
   "cell_type": "code",
   "execution_count": 46,
   "id": "9e5ebf1e",
   "metadata": {},
   "outputs": [
    {
     "data": {
      "text/plain": [
       "(31, 2)"
      ]
     },
     "execution_count": 46,
     "metadata": {},
     "output_type": "execute_result"
    }
   ],
   "source": [
    "df.shape"
   ]
  },
  {
   "cell_type": "code",
   "execution_count": 60,
   "id": "c116ef6b",
   "metadata": {},
   "outputs": [],
   "source": [
    "import datetime"
   ]
  },
  {
   "cell_type": "code",
   "execution_count": 66,
   "id": "d6e918e8",
   "metadata": {},
   "outputs": [
    {
     "name": "stdout",
     "output_type": "stream",
     "text": [
      "2022-03-08\n"
     ]
    }
   ],
   "source": [
    "date = df.index[-1] \n",
    "pred_date =  df.index[-1] +  datetime.timedelta(days = 1) \n",
    "print(pred_date.date())"
   ]
  },
  {
   "cell_type": "code",
   "execution_count": 59,
   "id": "f78171b2",
   "metadata": {
    "scrolled": true
   },
   "outputs": [
    {
     "data": {
      "text/plain": [
       "Timestamp('2022-03-07 00:00:00')"
      ]
     },
     "execution_count": 59,
     "metadata": {},
     "output_type": "execute_result"
    }
   ],
   "source": [
    "df.index[-1] "
   ]
  },
  {
   "cell_type": "code",
   "execution_count": 49,
   "id": "bd4db7f7",
   "metadata": {},
   "outputs": [
    {
     "data": {
      "text/plain": [
       "(1, 31, 2)"
      ]
     },
     "execution_count": 49,
     "metadata": {},
     "output_type": "execute_result"
    }
   ],
   "source": [
    "np.expand_dims(df, axis = 0).shape"
   ]
  },
  {
   "cell_type": "code",
   "execution_count": 69,
   "id": "1d5944c7",
   "metadata": {},
   "outputs": [],
   "source": [
    "d = {\"date\": [pred_date.date()], \"total\": [13]}"
   ]
  },
  {
   "cell_type": "code",
   "execution_count": 80,
   "id": "dcc77d15",
   "metadata": {
    "scrolled": true
   },
   "outputs": [
    {
     "data": {
      "text/html": [
       "<div>\n",
       "<style scoped>\n",
       "    .dataframe tbody tr th:only-of-type {\n",
       "        vertical-align: middle;\n",
       "    }\n",
       "\n",
       "    .dataframe tbody tr th {\n",
       "        vertical-align: top;\n",
       "    }\n",
       "\n",
       "    .dataframe thead th {\n",
       "        text-align: right;\n",
       "    }\n",
       "</style>\n",
       "<table border=\"1\" class=\"dataframe\">\n",
       "  <thead>\n",
       "    <tr style=\"text-align: right;\">\n",
       "      <th></th>\n",
       "      <th>total</th>\n",
       "    </tr>\n",
       "    <tr>\n",
       "      <th>date</th>\n",
       "      <th></th>\n",
       "    </tr>\n",
       "  </thead>\n",
       "  <tbody>\n",
       "    <tr>\n",
       "      <th>2022-03-08</th>\n",
       "      <td>13</td>\n",
       "    </tr>\n",
       "  </tbody>\n",
       "</table>\n",
       "</div>"
      ],
      "text/plain": [
       "            total\n",
       "date             \n",
       "2022-03-08     13"
      ]
     },
     "execution_count": 80,
     "metadata": {},
     "output_type": "execute_result"
    }
   ],
   "source": [
    "pd.DataFrame(d, index=[0]).set_index(\"date\")"
   ]
  },
  {
   "cell_type": "code",
   "execution_count": 78,
   "id": "bc6e1e7b",
   "metadata": {},
   "outputs": [
    {
     "data": {
      "text/html": [
       "<div>\n",
       "<style scoped>\n",
       "    .dataframe tbody tr th:only-of-type {\n",
       "        vertical-align: middle;\n",
       "    }\n",
       "\n",
       "    .dataframe tbody tr th {\n",
       "        vertical-align: top;\n",
       "    }\n",
       "\n",
       "    .dataframe thead th {\n",
       "        text-align: right;\n",
       "    }\n",
       "</style>\n",
       "<table border=\"1\" class=\"dataframe\">\n",
       "  <thead>\n",
       "    <tr style=\"text-align: right;\">\n",
       "      <th>Bezirk</th>\n",
       "      <th>total</th>\n",
       "      <th>total_moving_average</th>\n",
       "    </tr>\n",
       "    <tr>\n",
       "      <th>date_reported</th>\n",
       "      <th></th>\n",
       "      <th></th>\n",
       "    </tr>\n",
       "  </thead>\n",
       "  <tbody>\n",
       "    <tr>\n",
       "      <th>2022-02-05</th>\n",
       "      <td>37.0</td>\n",
       "      <td>37.000000</td>\n",
       "    </tr>\n",
       "    <tr>\n",
       "      <th>2022-02-06</th>\n",
       "      <td>36.0</td>\n",
       "      <td>35.666667</td>\n",
       "    </tr>\n",
       "    <tr>\n",
       "      <th>2022-02-07</th>\n",
       "      <td>46.0</td>\n",
       "      <td>39.666667</td>\n",
       "    </tr>\n",
       "    <tr>\n",
       "      <th>2022-02-08</th>\n",
       "      <td>51.0</td>\n",
       "      <td>44.333333</td>\n",
       "    </tr>\n",
       "    <tr>\n",
       "      <th>2022-02-09</th>\n",
       "      <td>53.0</td>\n",
       "      <td>50.000000</td>\n",
       "    </tr>\n",
       "    <tr>\n",
       "      <th>2022-02-10</th>\n",
       "      <td>67.0</td>\n",
       "      <td>57.000000</td>\n",
       "    </tr>\n",
       "    <tr>\n",
       "      <th>2022-02-11</th>\n",
       "      <td>54.0</td>\n",
       "      <td>58.000000</td>\n",
       "    </tr>\n",
       "    <tr>\n",
       "      <th>2022-02-12</th>\n",
       "      <td>41.0</td>\n",
       "      <td>54.000000</td>\n",
       "    </tr>\n",
       "    <tr>\n",
       "      <th>2022-02-13</th>\n",
       "      <td>50.0</td>\n",
       "      <td>48.333333</td>\n",
       "    </tr>\n",
       "    <tr>\n",
       "      <th>2022-02-14</th>\n",
       "      <td>53.0</td>\n",
       "      <td>48.000000</td>\n",
       "    </tr>\n",
       "    <tr>\n",
       "      <th>2022-02-15</th>\n",
       "      <td>53.0</td>\n",
       "      <td>52.000000</td>\n",
       "    </tr>\n",
       "    <tr>\n",
       "      <th>2022-02-16</th>\n",
       "      <td>48.0</td>\n",
       "      <td>51.333333</td>\n",
       "    </tr>\n",
       "    <tr>\n",
       "      <th>2022-02-17</th>\n",
       "      <td>47.0</td>\n",
       "      <td>49.333333</td>\n",
       "    </tr>\n",
       "    <tr>\n",
       "      <th>2022-02-18</th>\n",
       "      <td>53.0</td>\n",
       "      <td>49.333333</td>\n",
       "    </tr>\n",
       "    <tr>\n",
       "      <th>2022-02-19</th>\n",
       "      <td>49.0</td>\n",
       "      <td>49.666667</td>\n",
       "    </tr>\n",
       "    <tr>\n",
       "      <th>2022-02-20</th>\n",
       "      <td>40.0</td>\n",
       "      <td>47.333333</td>\n",
       "    </tr>\n",
       "    <tr>\n",
       "      <th>2022-02-21</th>\n",
       "      <td>64.0</td>\n",
       "      <td>51.000000</td>\n",
       "    </tr>\n",
       "    <tr>\n",
       "      <th>2022-02-22</th>\n",
       "      <td>51.0</td>\n",
       "      <td>51.666667</td>\n",
       "    </tr>\n",
       "    <tr>\n",
       "      <th>2022-02-23</th>\n",
       "      <td>66.0</td>\n",
       "      <td>60.333333</td>\n",
       "    </tr>\n",
       "    <tr>\n",
       "      <th>2022-02-24</th>\n",
       "      <td>46.0</td>\n",
       "      <td>54.333333</td>\n",
       "    </tr>\n",
       "    <tr>\n",
       "      <th>2022-02-25</th>\n",
       "      <td>62.0</td>\n",
       "      <td>58.000000</td>\n",
       "    </tr>\n",
       "    <tr>\n",
       "      <th>2022-02-26</th>\n",
       "      <td>26.0</td>\n",
       "      <td>44.666667</td>\n",
       "    </tr>\n",
       "    <tr>\n",
       "      <th>2022-02-27</th>\n",
       "      <td>32.0</td>\n",
       "      <td>40.000000</td>\n",
       "    </tr>\n",
       "    <tr>\n",
       "      <th>2022-02-28</th>\n",
       "      <td>45.0</td>\n",
       "      <td>34.333333</td>\n",
       "    </tr>\n",
       "    <tr>\n",
       "      <th>2022-03-01</th>\n",
       "      <td>45.0</td>\n",
       "      <td>40.666667</td>\n",
       "    </tr>\n",
       "    <tr>\n",
       "      <th>2022-03-02</th>\n",
       "      <td>40.0</td>\n",
       "      <td>43.333333</td>\n",
       "    </tr>\n",
       "    <tr>\n",
       "      <th>2022-03-03</th>\n",
       "      <td>50.0</td>\n",
       "      <td>45.000000</td>\n",
       "    </tr>\n",
       "    <tr>\n",
       "      <th>2022-03-04</th>\n",
       "      <td>37.0</td>\n",
       "      <td>42.333333</td>\n",
       "    </tr>\n",
       "    <tr>\n",
       "      <th>2022-03-05</th>\n",
       "      <td>34.0</td>\n",
       "      <td>40.333333</td>\n",
       "    </tr>\n",
       "    <tr>\n",
       "      <th>2022-03-06</th>\n",
       "      <td>21.0</td>\n",
       "      <td>30.666667</td>\n",
       "    </tr>\n",
       "    <tr>\n",
       "      <th>2022-03-07</th>\n",
       "      <td>42.0</td>\n",
       "      <td>32.333333</td>\n",
       "    </tr>\n",
       "  </tbody>\n",
       "</table>\n",
       "</div>"
      ],
      "text/plain": [
       "Bezirk         total  total_moving_average\n",
       "date_reported                             \n",
       "2022-02-05      37.0             37.000000\n",
       "2022-02-06      36.0             35.666667\n",
       "2022-02-07      46.0             39.666667\n",
       "2022-02-08      51.0             44.333333\n",
       "2022-02-09      53.0             50.000000\n",
       "2022-02-10      67.0             57.000000\n",
       "2022-02-11      54.0             58.000000\n",
       "2022-02-12      41.0             54.000000\n",
       "2022-02-13      50.0             48.333333\n",
       "2022-02-14      53.0             48.000000\n",
       "2022-02-15      53.0             52.000000\n",
       "2022-02-16      48.0             51.333333\n",
       "2022-02-17      47.0             49.333333\n",
       "2022-02-18      53.0             49.333333\n",
       "2022-02-19      49.0             49.666667\n",
       "2022-02-20      40.0             47.333333\n",
       "2022-02-21      64.0             51.000000\n",
       "2022-02-22      51.0             51.666667\n",
       "2022-02-23      66.0             60.333333\n",
       "2022-02-24      46.0             54.333333\n",
       "2022-02-25      62.0             58.000000\n",
       "2022-02-26      26.0             44.666667\n",
       "2022-02-27      32.0             40.000000\n",
       "2022-02-28      45.0             34.333333\n",
       "2022-03-01      45.0             40.666667\n",
       "2022-03-02      40.0             43.333333\n",
       "2022-03-03      50.0             45.000000\n",
       "2022-03-04      37.0             42.333333\n",
       "2022-03-05      34.0             40.333333\n",
       "2022-03-06      21.0             30.666667\n",
       "2022-03-07      42.0             32.333333"
      ]
     },
     "execution_count": 78,
     "metadata": {},
     "output_type": "execute_result"
    }
   ],
   "source": [
    "df"
   ]
  },
  {
   "cell_type": "code",
   "execution_count": null,
   "id": "0b680ef0",
   "metadata": {},
   "outputs": [],
   "source": []
  }
 ],
 "metadata": {
  "kernelspec": {
   "display_name": "Python 3 (ipykernel)",
   "language": "python",
   "name": "python3"
  },
  "language_info": {
   "codemirror_mode": {
    "name": "ipython",
    "version": 3
   },
   "file_extension": ".py",
   "mimetype": "text/x-python",
   "name": "python",
   "nbconvert_exporter": "python",
   "pygments_lexer": "ipython3",
   "version": "3.8.12"
  },
  "toc": {
   "base_numbering": 1,
   "nav_menu": {},
   "number_sections": true,
   "sideBar": true,
   "skip_h1_title": false,
   "title_cell": "Table of Contents",
   "title_sidebar": "Contents",
   "toc_cell": false,
   "toc_position": {},
   "toc_section_display": true,
   "toc_window_display": false
  }
 },
 "nbformat": 4,
 "nbformat_minor": 5
}
