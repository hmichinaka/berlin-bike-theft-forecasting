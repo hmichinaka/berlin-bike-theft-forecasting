{
 "cells": [
  {
   "cell_type": "code",
   "execution_count": 62,
   "id": "d4e8f427",
   "metadata": {},
   "outputs": [],
   "source": [
    "# URL Download\n",
    "import csv\n",
    "import io\n",
    "import urllib.request\n",
    "import requests\n",
    "\n",
    "import pandas as pd\n",
    "import numpy as np\n",
    "import joblib\n",
    "\n",
    "import matplotlib.pyplot as plt"
   ]
  },
  {
   "cell_type": "code",
   "execution_count": 2,
   "id": "736238aa",
   "metadata": {},
   "outputs": [],
   "source": [
    "# Read in data from the Berlin Polizei URL\n",
    "def load_data():\n",
    "    url = \"https://www.internetwache-polizei-berlin.de/vdb/Fahrraddiebstahl.csv\"\n",
    "    download = requests.get(url)\n",
    "    decoded_content = download.content.decode('ISO-8859-1')\n",
    "    file = decoded_content.splitlines()\n",
    "\n",
    "    cr = csv.DictReader(file, delimiter=',')\n",
    "    my_list = list(cr)\n",
    "    df  = pd.DataFrame(my_list)\n",
    "    return df"
   ]
  },
  {
   "cell_type": "code",
   "execution_count": 3,
   "id": "070adc5e",
   "metadata": {},
   "outputs": [],
   "source": [
    "###################################\n",
    "###  Clean data ######\n",
    "\n",
    "#dict to translate from German to English\n",
    "eng_col_names = {\n",
    "    \"ANGELEGT_AM\": \"date_reported\",\n",
    "    \"TATZEIT_ANFANG_DATUM\": \"date_theft_start\",\n",
    "    \"TATZEIT_ANFANG_STUNDE\": \"hour_theft_start\",\n",
    "    \"TATZEIT_ENDE_DATUM\": \"date_theft_end\",\n",
    "    \"TATZEIT_ENDE_STUNDE\": \"hour_theft_end\",\n",
    "    \"LOR\": \"LOR\",\n",
    "    \"SCHADENSHOEHE\": \"estimated_value\",\n",
    "    \"VERSUCH\": \"attempt\",\n",
    "    \"ART_DES_FAHRRADS\": \"type_bike\", \n",
    "    \"DELIKT\": \"theft_type\",\n",
    "    \"ERFASSUNGSGRUND\": \"theft_type_detail\"    \n",
    "}\n",
    "\n",
    "# define function for renaming the categories\n",
    "def rename_type_bike(x): \n",
    "    if x == \"Herrenfahrrad\": \n",
    "        return \"man's bike\"\n",
    "    if x == \"Damenfahrrad\":\n",
    "        return \"woman's bike\"\n",
    "    if x == \"Fahrrad\":\n",
    "        return \"bike\"\n",
    "    if x == \"Kinderfahrrad\":\n",
    "        return \"child's bike\"\n",
    "    else: \n",
    "        return \"other bike\"\n",
    "\n",
    "# dictionary for \"attempt\"\n",
    "attempt_dict = {\n",
    "    \"Ja\": \"Yes\", \n",
    "    \"Nein\": \"No\", \n",
    "    \"Unbekannt\": \"Unknown\"\n",
    "}"
   ]
  },
  {
   "cell_type": "code",
   "execution_count": 4,
   "id": "d09562f3",
   "metadata": {},
   "outputs": [],
   "source": [
    "# Concatenates translation of column and category names, \n",
    "#  conversion of dtypes, drop duplicates and create \n",
    "#  higher regional levels from LOR\n",
    "def clean_theft_data(d):\n",
    "    \"\"\"returns a clean dataframe\"\"\"\n",
    "    #translate columns to English\n",
    "    d.rename(columns= eng_col_names, inplace=True)\n",
    "    \n",
    "    #translate bike type to English\n",
    "    d[\"type_bike\"] = d[\"type_bike\"].apply(rename_type_bike)\n",
    "    \n",
    "    #translate attempt type to English\n",
    "    d[\"attempt\"] = d[\"attempt\"].map(attempt_dict)\n",
    "    \n",
    "    # convert the date columns to format='%d.%m.%Y\n",
    "    d[\"date_reported\"] = pd.to_datetime(d[\"date_reported\"], format='%d.%m.%Y')\n",
    "    d[\"date_theft_start\"] = pd.to_datetime(d[\"date_theft_start\"], format='%d.%m.%Y')\n",
    "    d[\"date_theft_end\"] = pd.to_datetime(d[\"date_theft_end\"], format='%d.%m.%Y')\n",
    "    \n",
    "    # convert the time columns to int\n",
    "    d[\"hour_theft_start\"] = d[\"hour_theft_start\"].astype(int)\n",
    "    d[\"hour_theft_end\"] = d[\"hour_theft_end\"].astype(int)\n",
    "    \n",
    "    #convert value column to float\n",
    "    d[\"estimated_value\"] = d[\"estimated_value\"].astype(float)\n",
    "    \n",
    "    #drop duplicates\n",
    "    d = d.drop_duplicates()\n",
    "    \n",
    "    # BZR (first six numbers)\n",
    "    d[\"BZR\"] = d[\"LOR\"].str[:6]\n",
    "    \n",
    "    # PGR (first four numbers)\n",
    "    d[\"PGR\"] = d[\"LOR\"].str[:4]\n",
    "    \n",
    "    # Bezirk (first four numbers)\n",
    "    d[\"Bezirk\"] = d[\"LOR\"].str[:2]\n",
    "    \n",
    "    return d"
   ]
  },
  {
   "cell_type": "code",
   "execution_count": 5,
   "id": "9bc64177",
   "metadata": {},
   "outputs": [],
   "source": [
    "# Group by bezirk and date reported sum up\n",
    "def pivot_theft_data(d):\n",
    "    d = d.pivot_table(index = \"date_reported\", columns = \"Bezirk\", values = \"type_bike\", aggfunc= \"count\")\n",
    "    d.fillna(value = 0, inplace=True)\n",
    "    return d"
   ]
  },
  {
   "cell_type": "code",
   "execution_count": 6,
   "id": "2db75507",
   "metadata": {},
   "outputs": [],
   "source": [
    "# Calculate percentage theft by Bezirk\n",
    "def perc_split_bezirk(d):\n",
    "    \"\"\"returns df showing % split of bikes stolen over the last 2 weeks per Bezirk in Berlin\"\"\"\n",
    "    d = d[-15:]\n",
    "    d.loc['perc_split']= d.sum()\n",
    "    d = d.div(d.sum(axis=1), axis=0)\n",
    "    d = d.iloc[-1]\n",
    "    return pd.DataFrame(d)"
   ]
  },
  {
   "cell_type": "code",
   "execution_count": 7,
   "id": "983e8aed",
   "metadata": {},
   "outputs": [],
   "source": [
    "def calculate_rolling_average(df, window_size):\n",
    "    fill_value = df[\"total\"][-window_size:].mean()\n",
    "    df[\"total_moving_average\"] = df[\"total\"].rolling(window = window_size, center = False).mean().fillna(fill_value)"
   ]
  },
  {
   "cell_type": "code",
   "execution_count": 8,
   "id": "1331122e",
   "metadata": {},
   "outputs": [],
   "source": [
    "# Create the dataframe for the modelling\n",
    "def create_modelling_dataframe():\n",
    "    df = load_data()\n",
    "    df = clean_theft_data(df)\n",
    "    df = pivot_theft_data(df)\n",
    "\n",
    "    # add \"total column\"\n",
    "    df[\"total\"] = df.sum(axis = 1)\n",
    "\n",
    "    # calculate rolling average\n",
    "    calculate_rolling_average(df, window_size = 3)\n",
    "    \n",
    "    # select relevant columns for modelling\n",
    "    cols_list =  [\"total\", \"total_moving_average\"]\n",
    "    df = df[cols_list]\n",
    "    \n",
    "    return df"
   ]
  },
  {
   "cell_type": "code",
   "execution_count": 9,
   "id": "bb1c0b99",
   "metadata": {},
   "outputs": [],
   "source": [
    "def bikes_stolen_365():\n",
    "    \"\"\"returns total bikes stolen in the last 365 days in Berlin\"\"\"\n",
    "    df = load_data()\n",
    "    df = clean_theft_data(df)\n",
    "    df = pivot_theft_data(df)\n",
    "    df['Total'] = df.sum(axis=1)\n",
    "    df = pd.DataFrame(df[\"Total\"])\n",
    "    df =df[-365:]\n",
    "    total_stolen_365=df.sum().values[0]\n",
    "    return int(total_stolen_365)"
   ]
  },
  {
   "cell_type": "code",
   "execution_count": 10,
   "id": "981dc8cb",
   "metadata": {},
   "outputs": [],
   "source": [
    "def theft_frequency():\n",
    "    \"\"\"returns frequency (in minutes) of bikes stolen in Berlin in the last 365 days\"\"\"\n",
    "    minutes_day=1440\n",
    "    minutes_year=1440*365\n",
    "    return round(minutes_year/bikes_stolen_365())"
   ]
  },
  {
   "cell_type": "code",
   "execution_count": 11,
   "id": "6e75c00b",
   "metadata": {},
   "outputs": [],
   "source": [
    "def get_X_y(dataset, window_size= 31, future_horizon =1):\n",
    "\n",
    "  X = []\n",
    "  y = []\n",
    "\n",
    "  for i in range(0, dataset.shape[0] - window_size - future_horizon):\n",
    "    X.append(dataset[i: i + window_size])\n",
    "    y.append(dataset[\"total\"][i + window_size: i + window_size + future_horizon])\n",
    "\n",
    "  return np.array(X), np.array(y)"
   ]
  },
  {
   "cell_type": "code",
   "execution_count": 12,
   "id": "73584d8e",
   "metadata": {},
   "outputs": [
    {
     "name": "stderr",
     "output_type": "stream",
     "text": [
      "2022-03-11 10:33:55.584323: W tensorflow/stream_executor/platform/default/dso_loader.cc:64] Could not load dynamic library 'libcudart.so.11.0'; dlerror: libcudart.so.11.0: cannot open shared object file: No such file or directory\n",
      "2022-03-11 10:33:55.584361: I tensorflow/stream_executor/cuda/cudart_stub.cc:29] Ignore above cudart dlerror if you do not have a GPU set up on your machine.\n"
     ]
    }
   ],
   "source": [
    "import numpy as np\n",
    "from keras.layers import Dense, LSTM, Dropout\n",
    "from tensorflow.keras import Sequential, callbacks\n",
    "\n",
    "def create_opt_model(): \n",
    "    \"\"\"\n",
    "    Creates the finetuned model selected in B_Theft_Modelling\n",
    "    Outputs models, that needs to be compiled and fit\"\"\"\n",
    "    model = Sequential()\n",
    "    # first LSTM layer\n",
    "    model.add(LSTM(units = 70, activation = \"tanh\", return_sequences = True))\n",
    "    model.add(Dropout(0.2))\n",
    "    # second LSTM layer\n",
    "    model.add(LSTM(units= 30, activation= \"tanh\", return_sequences= False))\n",
    "    model.add(Dropout(0.2))\n",
    "\n",
    "    # output layer to predict one value\n",
    "    model.add(Dense(1, activation= \"linear\"))\n",
    "    return model"
   ]
  },
  {
   "cell_type": "code",
   "execution_count": 13,
   "id": "d6902161",
   "metadata": {},
   "outputs": [],
   "source": [
    "def get_pred_array():\n",
    "    # read in dataset from URL\n",
    "    df = load_data()\n",
    "    # clean dataset\n",
    "    clean_theft_data(df)\n",
    "    # group by Bezirk and date reported\n",
    "    pivot_theft_data(df)\n",
    "    # add \"total column\"\n",
    "    df[\"total\"] = df.sum(axis = 1)\n",
    "    # calculate rolling average\n",
    "    calculate_rolling_average(df, window_size = 3)\n",
    "    # drop not-needed columns\n",
    "    cols_list =  [\"total\", \"total_moving_average\"]\n",
    "    df = df[cols_list]\n",
    "    # only keep last 31 days"
   ]
  },
  {
   "cell_type": "code",
   "execution_count": null,
   "id": "e54a67b5",
   "metadata": {},
   "outputs": [],
   "source": []
  },
  {
   "cell_type": "code",
   "execution_count": 19,
   "id": "90b46619",
   "metadata": {},
   "outputs": [],
   "source": [
    "from json import load\n",
    "from webbrowser import get\n",
    "import joblib\n",
    "import numpy as np\n",
    "import pandas as pd\n",
    "import datetime\n",
    "import plotly.express as px\n",
    "from apps.theft_data import *\n",
    "\n",
    "import warnings\n",
    "warnings.filterwarnings(\"ignore\")\n",
    "\n",
    "\n",
    "# load model from joblib file\n",
    "def load_joblib_model():\n",
    "    \"\"\"Read in the fitted model from the locally saved joblib.file\n",
    "    \"\"\"\n",
    "    model = joblib.load(\"../data/model.joblib\")\n",
    "    return model\n",
    "\n",
    "\n",
    "# read in X_array for prediction\n",
    "def get_pred_array():\n",
    "    \"\"\"\"Create the input array X to predict for the next day\n",
    "    \"\"\"\n",
    "    # read in newest dataset from the URL\n",
    "    df = create_modelling_dataframe()\n",
    "    # only keep last 31 days\n",
    "    df = df[-31:]\n",
    "    #create input array\n",
    "    X_input = np.expand_dims(df, axis = 0)\n",
    "    pred_date =  df.index[-1] +  datetime.timedelta(days = 1)\n",
    "\n",
    "    return X_input, pred_date.date()\n",
    "\n",
    "def predict_next_day():\n",
    "    \"\"\"Given an input array X of shape (1, 31, 2) predict a total value\n",
    "    for the next day.\n",
    "    Output: Predicted value and date the prediction refers to\"\"\"\n",
    "    X_input, pred_date = get_pred_array()\n",
    "\n",
    "    # load model and predict\n",
    "    model = load_joblib_model()\n",
    "    y_pred = model.predict(X_input)\n",
    "    d = {\"date_reported\": pred_date,\n",
    "         \"total\": round(y_pred[0][0], 0)}\n",
    "    return pd.DataFrame(d, index = [0])\n",
    "\n",
    "\n",
    "\n",
    "def prediction_by_Bezirk():\n",
    "    \"\"\"Allocates the predicted total for the next day on the 12 Bezirke\n",
    "    based on the mean percentage split for the last 14 days.\n",
    "    \"\"\"\n",
    "    # load data, clean it and group by Bezirke\n",
    "    df = load_data()\n",
    "    df= clean_theft_data(df)\n",
    "    df = pivot_theft_data(df)\n",
    "\n",
    "    # create dataframe with the mean percentage split of the last 14 days\n",
    "    df= perc_split_bezirk(df)\n",
    "\n",
    "    # call the prediction for the next day and assign it as a new column to the dataframe\n",
    "    df[\"pred_total\"] = predict_next_day().iloc[0,1]\n",
    "\n",
    "    # create dataframe with just the split up values\n",
    "    df  = pd.DataFrame(round(df[\"perc_split\"] * df[\"pred_total\"], 0)).rename(columns={0: \"Prediction_total\"})\n",
    "\n",
    "    return df"
   ]
  },
  {
   "cell_type": "code",
   "execution_count": null,
   "id": "a55a887f",
   "metadata": {},
   "outputs": [],
   "source": []
  },
  {
   "cell_type": "code",
   "execution_count": null,
   "id": "74bbbdd8",
   "metadata": {},
   "outputs": [],
   "source": []
  },
  {
   "cell_type": "code",
   "execution_count": null,
   "id": "364df1fc",
   "metadata": {},
   "outputs": [],
   "source": []
  },
  {
   "cell_type": "code",
   "execution_count": null,
   "id": "a99e6124",
   "metadata": {},
   "outputs": [],
   "source": []
  },
  {
   "cell_type": "markdown",
   "id": "a40467e2",
   "metadata": {},
   "source": [
    "# Model fit graph"
   ]
  },
  {
   "cell_type": "code",
   "execution_count": 14,
   "id": "61adfef7",
   "metadata": {},
   "outputs": [
    {
     "name": "stderr",
     "output_type": "stream",
     "text": [
      "/tmp/ipykernel_2887/2814565939.py:31: SettingWithCopyWarning: \n",
      "A value is trying to be set on a copy of a slice from a DataFrame.\n",
      "Try using .loc[row_indexer,col_indexer] = value instead\n",
      "\n",
      "See the caveats in the documentation: https://pandas.pydata.org/pandas-docs/stable/user_guide/indexing.html#returning-a-view-versus-a-copy\n",
      "  d[\"BZR\"] = d[\"LOR\"].str[:6]\n",
      "/tmp/ipykernel_2887/2814565939.py:34: SettingWithCopyWarning: \n",
      "A value is trying to be set on a copy of a slice from a DataFrame.\n",
      "Try using .loc[row_indexer,col_indexer] = value instead\n",
      "\n",
      "See the caveats in the documentation: https://pandas.pydata.org/pandas-docs/stable/user_guide/indexing.html#returning-a-view-versus-a-copy\n",
      "  d[\"PGR\"] = d[\"LOR\"].str[:4]\n",
      "/tmp/ipykernel_2887/2814565939.py:37: SettingWithCopyWarning: \n",
      "A value is trying to be set on a copy of a slice from a DataFrame.\n",
      "Try using .loc[row_indexer,col_indexer] = value instead\n",
      "\n",
      "See the caveats in the documentation: https://pandas.pydata.org/pandas-docs/stable/user_guide/indexing.html#returning-a-view-versus-a-copy\n",
      "  d[\"Bezirk\"] = d[\"LOR\"].str[:2]\n"
     ]
    }
   ],
   "source": [
    "df = create_modelling_dataframe()"
   ]
  },
  {
   "cell_type": "code",
   "execution_count": 15,
   "id": "bc447df6",
   "metadata": {},
   "outputs": [
    {
     "data": {
      "text/html": [
       "<div>\n",
       "<style scoped>\n",
       "    .dataframe tbody tr th:only-of-type {\n",
       "        vertical-align: middle;\n",
       "    }\n",
       "\n",
       "    .dataframe tbody tr th {\n",
       "        vertical-align: top;\n",
       "    }\n",
       "\n",
       "    .dataframe thead th {\n",
       "        text-align: right;\n",
       "    }\n",
       "</style>\n",
       "<table border=\"1\" class=\"dataframe\">\n",
       "  <thead>\n",
       "    <tr style=\"text-align: right;\">\n",
       "      <th>Bezirk</th>\n",
       "      <th>total</th>\n",
       "      <th>total_moving_average</th>\n",
       "    </tr>\n",
       "    <tr>\n",
       "      <th>date_reported</th>\n",
       "      <th></th>\n",
       "      <th></th>\n",
       "    </tr>\n",
       "  </thead>\n",
       "  <tbody>\n",
       "    <tr>\n",
       "      <th>2021-01-01</th>\n",
       "      <td>4.0</td>\n",
       "      <td>50.000000</td>\n",
       "    </tr>\n",
       "    <tr>\n",
       "      <th>2021-01-02</th>\n",
       "      <td>7.0</td>\n",
       "      <td>50.000000</td>\n",
       "    </tr>\n",
       "    <tr>\n",
       "      <th>2021-01-03</th>\n",
       "      <td>3.0</td>\n",
       "      <td>4.666667</td>\n",
       "    </tr>\n",
       "    <tr>\n",
       "      <th>2021-01-04</th>\n",
       "      <td>21.0</td>\n",
       "      <td>10.333333</td>\n",
       "    </tr>\n",
       "    <tr>\n",
       "      <th>2021-01-05</th>\n",
       "      <td>31.0</td>\n",
       "      <td>18.333333</td>\n",
       "    </tr>\n",
       "    <tr>\n",
       "      <th>...</th>\n",
       "      <td>...</td>\n",
       "      <td>...</td>\n",
       "    </tr>\n",
       "    <tr>\n",
       "      <th>2022-03-05</th>\n",
       "      <td>36.0</td>\n",
       "      <td>42.000000</td>\n",
       "    </tr>\n",
       "    <tr>\n",
       "      <th>2022-03-06</th>\n",
       "      <td>22.0</td>\n",
       "      <td>32.666667</td>\n",
       "    </tr>\n",
       "    <tr>\n",
       "      <th>2022-03-07</th>\n",
       "      <td>53.0</td>\n",
       "      <td>37.000000</td>\n",
       "    </tr>\n",
       "    <tr>\n",
       "      <th>2022-03-08</th>\n",
       "      <td>41.0</td>\n",
       "      <td>38.666667</td>\n",
       "    </tr>\n",
       "    <tr>\n",
       "      <th>2022-03-09</th>\n",
       "      <td>56.0</td>\n",
       "      <td>50.000000</td>\n",
       "    </tr>\n",
       "  </tbody>\n",
       "</table>\n",
       "<p>433 rows × 2 columns</p>\n",
       "</div>"
      ],
      "text/plain": [
       "Bezirk         total  total_moving_average\n",
       "date_reported                             \n",
       "2021-01-01       4.0             50.000000\n",
       "2021-01-02       7.0             50.000000\n",
       "2021-01-03       3.0              4.666667\n",
       "2021-01-04      21.0             10.333333\n",
       "2021-01-05      31.0             18.333333\n",
       "...              ...                   ...\n",
       "2022-03-05      36.0             42.000000\n",
       "2022-03-06      22.0             32.666667\n",
       "2022-03-07      53.0             37.000000\n",
       "2022-03-08      41.0             38.666667\n",
       "2022-03-09      56.0             50.000000\n",
       "\n",
       "[433 rows x 2 columns]"
      ]
     },
     "execution_count": 15,
     "metadata": {},
     "output_type": "execute_result"
    }
   ],
   "source": [
    "df"
   ]
  },
  {
   "cell_type": "code",
   "execution_count": null,
   "id": "970f6e56",
   "metadata": {},
   "outputs": [],
   "source": []
  },
  {
   "cell_type": "code",
   "execution_count": null,
   "id": "deab9144",
   "metadata": {},
   "outputs": [],
   "source": []
  },
  {
   "cell_type": "code",
   "execution_count": null,
   "id": "267dc6e5",
   "metadata": {},
   "outputs": [],
   "source": []
  },
  {
   "cell_type": "code",
   "execution_count": null,
   "id": "1bc5314d",
   "metadata": {},
   "outputs": [],
   "source": [
    "window_size = 31\n",
    "future_horizon = 1\n",
    "\n",
    "X_train, y_train = get_X_y(window_size,future_horizon, df_train)\n",
    "X_test, y_test = get_X_y(window_size, future_horizon, df_test)\n",
    "\n",
    "X_test = np.expand_dims(X_test, 2)\n",
    "X_train = np.expand_dims(X_train, 2)"
   ]
  },
  {
   "cell_type": "code",
   "execution_count": null,
   "id": "08dfd09b",
   "metadata": {},
   "outputs": [],
   "source": []
  },
  {
   "cell_type": "code",
   "execution_count": null,
   "id": "0ef3acc2",
   "metadata": {},
   "outputs": [],
   "source": []
  },
  {
   "cell_type": "code",
   "execution_count": null,
   "id": "2bf5be91",
   "metadata": {},
   "outputs": [],
   "source": []
  },
  {
   "cell_type": "code",
   "execution_count": 19,
   "id": "71d707f1",
   "metadata": {},
   "outputs": [
    {
     "name": "stderr",
     "output_type": "stream",
     "text": [
      "2022-03-10 15:18:02.266852: W tensorflow/stream_executor/platform/default/dso_loader.cc:64] Could not load dynamic library 'libcuda.so.1'; dlerror: libcuda.so.1: cannot open shared object file: No such file or directory\n",
      "2022-03-10 15:18:02.266965: W tensorflow/stream_executor/cuda/cuda_driver.cc:269] failed call to cuInit: UNKNOWN ERROR (303)\n",
      "2022-03-10 15:18:02.267021: I tensorflow/stream_executor/cuda/cuda_diagnostics.cc:156] kernel driver does not appear to be running on this host (LAPTOP-C0GM00LC): /proc/driver/nvidia/version does not exist\n",
      "2022-03-10 15:18:02.268112: I tensorflow/core/platform/cpu_feature_guard.cc:151] This TensorFlow binary is optimized with oneAPI Deep Neural Network Library (oneDNN) to use the following CPU instructions in performance-critical operations:  AVX2 AVX512F FMA\n",
      "To enable them in other operations, rebuild TensorFlow with the appropriate compiler flags.\n"
     ]
    }
   ],
   "source": [
    "model = create_opt_model()"
   ]
  },
  {
   "cell_type": "markdown",
   "id": "2e47a046",
   "metadata": {},
   "source": [
    "## Predict on the last 31 days"
   ]
  },
  {
   "cell_type": "code",
   "execution_count": 20,
   "id": "4d9159e8",
   "metadata": {},
   "outputs": [],
   "source": [
    "pred_df = df[-31:]"
   ]
  },
  {
   "cell_type": "code",
   "execution_count": 21,
   "id": "e847ae95",
   "metadata": {},
   "outputs": [
    {
     "data": {
      "text/html": [
       "<div>\n",
       "<style scoped>\n",
       "    .dataframe tbody tr th:only-of-type {\n",
       "        vertical-align: middle;\n",
       "    }\n",
       "\n",
       "    .dataframe tbody tr th {\n",
       "        vertical-align: top;\n",
       "    }\n",
       "\n",
       "    .dataframe thead th {\n",
       "        text-align: right;\n",
       "    }\n",
       "</style>\n",
       "<table border=\"1\" class=\"dataframe\">\n",
       "  <thead>\n",
       "    <tr style=\"text-align: right;\">\n",
       "      <th>Bezirk</th>\n",
       "      <th>total</th>\n",
       "      <th>total_moving_average</th>\n",
       "    </tr>\n",
       "    <tr>\n",
       "      <th>date_reported</th>\n",
       "      <th></th>\n",
       "      <th></th>\n",
       "    </tr>\n",
       "  </thead>\n",
       "  <tbody>\n",
       "    <tr>\n",
       "      <th>2022-02-07</th>\n",
       "      <td>46.0</td>\n",
       "      <td>39.666667</td>\n",
       "    </tr>\n",
       "    <tr>\n",
       "      <th>2022-02-08</th>\n",
       "      <td>51.0</td>\n",
       "      <td>44.333333</td>\n",
       "    </tr>\n",
       "    <tr>\n",
       "      <th>2022-02-09</th>\n",
       "      <td>53.0</td>\n",
       "      <td>50.000000</td>\n",
       "    </tr>\n",
       "    <tr>\n",
       "      <th>2022-02-10</th>\n",
       "      <td>67.0</td>\n",
       "      <td>57.000000</td>\n",
       "    </tr>\n",
       "    <tr>\n",
       "      <th>2022-02-11</th>\n",
       "      <td>54.0</td>\n",
       "      <td>58.000000</td>\n",
       "    </tr>\n",
       "  </tbody>\n",
       "</table>\n",
       "</div>"
      ],
      "text/plain": [
       "Bezirk         total  total_moving_average\n",
       "date_reported                             \n",
       "2022-02-07      46.0             39.666667\n",
       "2022-02-08      51.0             44.333333\n",
       "2022-02-09      53.0             50.000000\n",
       "2022-02-10      67.0             57.000000\n",
       "2022-02-11      54.0             58.000000"
      ]
     },
     "execution_count": 21,
     "metadata": {},
     "output_type": "execute_result"
    }
   ],
   "source": [
    "pred_df.head()"
   ]
  },
  {
   "cell_type": "code",
   "execution_count": 35,
   "id": "b31514f6",
   "metadata": {},
   "outputs": [],
   "source": [
    "# Load static model from joblib file\n",
    "model = joblib.load(\"../data/model.joblib\")"
   ]
  },
  {
   "cell_type": "code",
   "execution_count": 38,
   "id": "cc2c4605",
   "metadata": {},
   "outputs": [],
   "source": [
    "df = df[-31 - 31:] "
   ]
  },
  {
   "cell_type": "code",
   "execution_count": 39,
   "id": "d1198e37",
   "metadata": {},
   "outputs": [],
   "source": [
    "X, y = get_X_y(df)"
   ]
  },
  {
   "cell_type": "code",
   "execution_count": 40,
   "id": "8896cc4f",
   "metadata": {},
   "outputs": [
    {
     "data": {
      "text/plain": [
       "((30, 31, 2), (30, 1))"
      ]
     },
     "execution_count": 40,
     "metadata": {},
     "output_type": "execute_result"
    }
   ],
   "source": [
    "X.shape, y.shape"
   ]
  },
  {
   "cell_type": "code",
   "execution_count": 49,
   "id": "f9b4eb48",
   "metadata": {},
   "outputs": [
    {
     "data": {
      "text/plain": [
       "array([[37.        , 37.        ],\n",
       "       [36.        , 35.66666667],\n",
       "       [46.        , 39.66666667],\n",
       "       [51.        , 44.33333333],\n",
       "       [53.        , 50.        ],\n",
       "       [67.        , 57.        ],\n",
       "       [54.        , 58.        ],\n",
       "       [41.        , 54.        ],\n",
       "       [50.        , 48.33333333],\n",
       "       [53.        , 48.        ],\n",
       "       [53.        , 52.        ],\n",
       "       [48.        , 51.33333333],\n",
       "       [47.        , 49.33333333],\n",
       "       [53.        , 49.33333333],\n",
       "       [49.        , 49.66666667],\n",
       "       [40.        , 47.33333333],\n",
       "       [64.        , 51.        ],\n",
       "       [51.        , 51.66666667],\n",
       "       [66.        , 60.33333333],\n",
       "       [46.        , 54.33333333],\n",
       "       [62.        , 58.        ],\n",
       "       [26.        , 44.66666667],\n",
       "       [32.        , 40.        ],\n",
       "       [46.        , 34.66666667],\n",
       "       [45.        , 41.        ],\n",
       "       [40.        , 43.66666667],\n",
       "       [50.        , 45.        ],\n",
       "       [40.        , 43.33333333],\n",
       "       [36.        , 42.        ],\n",
       "       [22.        , 32.66666667],\n",
       "       [53.        , 37.        ]])"
      ]
     },
     "execution_count": 49,
     "metadata": {},
     "output_type": "execute_result"
    }
   ],
   "source": [
    "X[29]"
   ]
  },
  {
   "cell_type": "code",
   "execution_count": 43,
   "id": "6e6e9af3",
   "metadata": {},
   "outputs": [
    {
     "data": {
      "text/plain": [
       "array([[46.],\n",
       "       [51.],\n",
       "       [53.],\n",
       "       [67.],\n",
       "       [54.],\n",
       "       [41.],\n",
       "       [50.],\n",
       "       [53.],\n",
       "       [53.],\n",
       "       [48.],\n",
       "       [47.],\n",
       "       [53.],\n",
       "       [49.],\n",
       "       [40.],\n",
       "       [64.],\n",
       "       [51.],\n",
       "       [66.],\n",
       "       [46.],\n",
       "       [62.],\n",
       "       [26.],\n",
       "       [32.],\n",
       "       [46.],\n",
       "       [45.],\n",
       "       [40.],\n",
       "       [50.],\n",
       "       [40.],\n",
       "       [36.],\n",
       "       [22.],\n",
       "       [53.],\n",
       "       [41.]])"
      ]
     },
     "execution_count": 43,
     "metadata": {},
     "output_type": "execute_result"
    }
   ],
   "source": [
    "y"
   ]
  },
  {
   "cell_type": "code",
   "execution_count": 58,
   "id": "defc0f3d",
   "metadata": {
    "scrolled": true
   },
   "outputs": [],
   "source": [
    "y_pred = model.predict(X)"
   ]
  },
  {
   "cell_type": "code",
   "execution_count": 54,
   "id": "3b7db2ac",
   "metadata": {},
   "outputs": [],
   "source": [
    "y_true = X[:, -1, 0]"
   ]
  },
  {
   "cell_type": "code",
   "execution_count": 55,
   "id": "1264b9ce",
   "metadata": {},
   "outputs": [
    {
     "data": {
      "text/plain": [
       "(30,)"
      ]
     },
     "execution_count": 55,
     "metadata": {},
     "output_type": "execute_result"
    }
   ],
   "source": [
    "y_true.shape"
   ]
  },
  {
   "cell_type": "code",
   "execution_count": 56,
   "id": "0b2b4e26",
   "metadata": {},
   "outputs": [
    {
     "data": {
      "text/plain": [
       "(30, 1)"
      ]
     },
     "execution_count": 56,
     "metadata": {},
     "output_type": "execute_result"
    }
   ],
   "source": [
    "np.expand_dims(y_true, 1).shape"
   ]
  },
  {
   "cell_type": "code",
   "execution_count": 59,
   "id": "db9f83cd",
   "metadata": {},
   "outputs": [
    {
     "data": {
      "text/plain": [
       "array([[46.],\n",
       "       [51.],\n",
       "       [53.],\n",
       "       [67.],\n",
       "       [54.],\n",
       "       [41.],\n",
       "       [50.],\n",
       "       [53.],\n",
       "       [53.],\n",
       "       [48.],\n",
       "       [47.],\n",
       "       [53.],\n",
       "       [49.],\n",
       "       [40.],\n",
       "       [64.],\n",
       "       [51.],\n",
       "       [66.],\n",
       "       [46.],\n",
       "       [62.],\n",
       "       [26.],\n",
       "       [32.],\n",
       "       [46.],\n",
       "       [45.],\n",
       "       [40.],\n",
       "       [50.],\n",
       "       [40.],\n",
       "       [36.],\n",
       "       [22.],\n",
       "       [53.],\n",
       "       [41.]])"
      ]
     },
     "execution_count": 59,
     "metadata": {},
     "output_type": "execute_result"
    }
   ],
   "source": [
    "y"
   ]
  },
  {
   "cell_type": "code",
   "execution_count": 60,
   "id": "9f870c2a",
   "metadata": {},
   "outputs": [
    {
     "data": {
      "text/plain": [
       "array([36., 46., 51., 53., 67., 54., 41., 50., 53., 53., 48., 47., 53.,\n",
       "       49., 40., 64., 51., 66., 46., 62., 26., 32., 46., 45., 40., 50.,\n",
       "       40., 36., 22., 53.])"
      ]
     },
     "execution_count": 60,
     "metadata": {},
     "output_type": "execute_result"
    }
   ],
   "source": [
    "y_true"
   ]
  },
  {
   "cell_type": "code",
   "execution_count": 64,
   "id": "dff22309",
   "metadata": {},
   "outputs": [
    {
     "data": {
      "text/plain": [
       "[<matplotlib.lines.Line2D at 0x7f85d0a57430>]"
      ]
     },
     "execution_count": 64,
     "metadata": {},
     "output_type": "execute_result"
    },
    {
     "data": {
      "image/png": "[encoded data removed]",
      "text/plain": [
       "<Figure size 432x288 with 1 Axes>"
      ]
     },
     "metadata": {
      "needs_background": "light"
     },
     "output_type": "display_data"
    }
   ],
   "source": [
    "plt.plot(y)\n",
    "plt.plot(y_pred)"
   ]
  },
  {
   "cell_type": "code",
   "execution_count": null,
   "id": "aca7e7e3",
   "metadata": {},
   "outputs": [],
   "source": []
  },
  {
   "cell_type": "code",
   "execution_count": null,
   "id": "df584e49",
   "metadata": {},
   "outputs": [],
   "source": []
  },
  {
   "cell_type": "code",
   "execution_count": null,
   "id": "b1c055e4",
   "metadata": {},
   "outputs": [],
   "source": []
  },
  {
   "cell_type": "code",
   "execution_count": null,
   "id": "441abd1d",
   "metadata": {},
   "outputs": [],
   "source": []
  },
  {
   "cell_type": "markdown",
   "id": "5acc58d9",
   "metadata": {},
   "source": [
    "# Prediction chart"
   ]
  },
  {
   "cell_type": "code",
   "execution_count": 25,
   "id": "921d5578",
   "metadata": {},
   "outputs": [],
   "source": [
    "    \"\"\"Create dataframe necessary to show a time series chart (total of reported stolen\n",
    "    bikes in the last 31 days plus prediction for day 32)\"\"\"\n",
    "    # read in data for the last 31 days and date of prediction\n",
    "    X_input, pred_date = get_pred_array()\n",
    "\n",
    "    # we only need the \"total\" column of X_input\n",
    "    X_input = X_input[0][:,0]\n",
    "    X_input = pd.Series(X_input)\n",
    "\n",
    "    # get the predicted value for day 32 and the corresponding date\n",
    "    pred_df = predict_next_day()\n",
    "\n",
    "    # create empty dataframe starting 31 days before prediction date to prediction date\n",
    "    pred_date = pred_df[\"date_reported\"][0]\n",
    "    chart_df = pd.DataFrame({'date':pd.date_range(start = pred_date - datetime.timedelta(days=31), end = pred_df[\"date_reported\"][0])})\n",
    "\n",
    "    # concatenate the values from X_input to the empty dataframe\n",
    "    chart_df = pd.concat([chart_df, X_input], axis = 1)\n",
    "    chart_df.rename(columns={0:\"total\"}, inplace=True)\n",
    "\n",
    "    # add the predicted value as the last value\n",
    "    chart_df.iloc[-1, 1] = pred_df[\"total\"][0]\n",
    "    \n",
    "    chart_df[\"date\"] = pd.to_datetime(chart_df[\"date\"])\n",
    "\n",
    "    fig = px.line(chart_df, x=\"date\", y=\"total\",\n",
    "             labels = {\"date\": \"date\", \n",
    "                      \"total\": \"Number of reported stolen bikes\"})\n",
    "    fig.add_scattergl(x=chart_df[\"date\"].where(chart_df[\"date\"] >=chart_df.iloc[-2,0]), y=chart_df[\"total\"], line={\"color\": \"red\"},\n",
    "                      showlegend=False)\n",
    "\n",
    "    fig.update_layout({\n",
    "    \"plot_bgcolor\": \"rgba(0, 0, 0, 0)\",\n",
    "    \"paper_bgcolor\": \"rgba(0, 0, 0, 0)\",\n",
    "    })\n",
    "    \n",
    "    return fig\n",
    "    "
   ]
  },
  {
   "cell_type": "markdown",
   "id": "2a78775d",
   "metadata": {},
   "source": []
  }
 ],
 "metadata": {
  "kernelspec": {
   "display_name": "Python 3 (ipykernel)",
   "language": "python",
   "name": "python3"
  },
  "language_info": {
   "codemirror_mode": {
    "name": "ipython",
    "version": 3
   },
   "file_extension": ".py",
   "mimetype": "text/x-python",
   "name": "python",
   "nbconvert_exporter": "python",
   "pygments_lexer": "ipython3",
   "version": "3.8.12"
  },
  "toc": {
   "base_numbering": 1,
   "nav_menu": {},
   "number_sections": true,
   "sideBar": true,
   "skip_h1_title": false,
   "title_cell": "Table of Contents",
   "title_sidebar": "Contents",
   "toc_cell": false,
   "toc_position": {},
   "toc_section_display": true,
   "toc_window_display": true
  }
 },
 "nbformat": 4,
 "nbformat_minor": 5
}
