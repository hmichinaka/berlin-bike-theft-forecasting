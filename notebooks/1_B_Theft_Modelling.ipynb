{
 "cells": [
  {
   "cell_type": "code",
   "execution_count": 117,
   "id": "78854e09",
   "metadata": {},
   "outputs": [],
   "source": [
    "import pandas as pd\n",
    "import numpy as np\n",
    "import matplotlib.pyplot as plt\n",
    "import seaborn as sns\n",
    "from tensorflow.keras import Sequential\n",
    "from tensorflow.keras import layers\n",
    "from sklearn.metrics import mean_squared_error\n",
    "from tensorflow.keras.layers import Masking\n",
    "from tensorflow.keras.metrics import RootMeanSquaredError\n",
    "from keras.models import Sequential\n",
    "from keras.layers import Dense, SimpleRNN, Flatten\n",
    "from tensorflow.keras.layers import SimpleRNN, LSTM, GRU\n",
    "from keras import layers\n",
    "from tensorflow.keras import callbacks"
   ]
  },
  {
   "cell_type": "markdown",
   "id": "a99497ae",
   "metadata": {},
   "source": [
    "# Read in cleaned data"
   ]
  },
  {
   "cell_type": "code",
   "execution_count": 42,
   "id": "22560fa6",
   "metadata": {},
   "outputs": [
    {
     "name": "stdout",
     "output_type": "stream",
     "text": [
      "/home/jakob/code/hmichinaka/berlin-bike-theft-forecasting/notebooks\r\n"
     ]
    }
   ],
   "source": [
    "!pwd"
   ]
  },
  {
   "cell_type": "code",
   "execution_count": 43,
   "id": "f75322ac",
   "metadata": {
    "scrolled": true
   },
   "outputs": [],
   "source": [
    "df = pd.read_csv(\"../raw_data/bike_theft_cleaned.csv\")"
   ]
  },
  {
   "cell_type": "markdown",
   "id": "f0b2cc08",
   "metadata": {},
   "source": [
    "# Group Dataframe by date and LOR"
   ]
  },
  {
   "cell_type": "code",
   "execution_count": 44,
   "id": "3fe5581e",
   "metadata": {},
   "outputs": [
    {
     "data": {
      "text/html": [
       "<div>\n",
       "<style scoped>\n",
       "    .dataframe tbody tr th:only-of-type {\n",
       "        vertical-align: middle;\n",
       "    }\n",
       "\n",
       "    .dataframe tbody tr th {\n",
       "        vertical-align: top;\n",
       "    }\n",
       "\n",
       "    .dataframe thead th {\n",
       "        text-align: right;\n",
       "    }\n",
       "</style>\n",
       "<table border=\"1\" class=\"dataframe\">\n",
       "  <thead>\n",
       "    <tr style=\"text-align: right;\">\n",
       "      <th></th>\n",
       "      <th>Unnamed: 0</th>\n",
       "      <th>date_reported</th>\n",
       "      <th>date_theft_start</th>\n",
       "      <th>hour_theft_start</th>\n",
       "      <th>date_theft_end</th>\n",
       "      <th>hour_theft_end</th>\n",
       "      <th>LOR</th>\n",
       "      <th>estimated_value</th>\n",
       "      <th>attempt</th>\n",
       "      <th>type_bike</th>\n",
       "      <th>theft_type</th>\n",
       "      <th>theft_type_detail</th>\n",
       "      <th>datetime_theft_start</th>\n",
       "      <th>datetime_theft_end</th>\n",
       "      <th>Timedelta_theft_end_start</th>\n",
       "      <th>BZR</th>\n",
       "      <th>PGR</th>\n",
       "      <th>Bezirk</th>\n",
       "    </tr>\n",
       "  </thead>\n",
       "  <tbody>\n",
       "    <tr>\n",
       "      <th>0</th>\n",
       "      <td>0</td>\n",
       "      <td>2022-02-28</td>\n",
       "      <td>2022-02-26</td>\n",
       "      <td>14:00:00</td>\n",
       "      <td>2022-02-26</td>\n",
       "      <td>14:00:00</td>\n",
       "      <td>7100103</td>\n",
       "      <td>580.0</td>\n",
       "      <td>No</td>\n",
       "      <td>bike</td>\n",
       "      <td>Fahrraddiebstahl</td>\n",
       "      <td>Sonstiger schwerer Diebstahl von Fahrrädern</td>\n",
       "      <td>2022-02-26 14:00:00</td>\n",
       "      <td>2022-02-26 14:00:00</td>\n",
       "      <td>0.0</td>\n",
       "      <td>71001</td>\n",
       "      <td>710</td>\n",
       "      <td>7</td>\n",
       "    </tr>\n",
       "    <tr>\n",
       "      <th>1</th>\n",
       "      <td>1</td>\n",
       "      <td>2022-02-28</td>\n",
       "      <td>2022-02-28</td>\n",
       "      <td>16:00:00</td>\n",
       "      <td>2022-02-28</td>\n",
       "      <td>16:00:00</td>\n",
       "      <td>2100106</td>\n",
       "      <td>0.0</td>\n",
       "      <td>No</td>\n",
       "      <td>man's bike</td>\n",
       "      <td>Fahrraddiebstahl</td>\n",
       "      <td>Sonstiger schwerer Diebstahl von Fahrrädern</td>\n",
       "      <td>2022-02-28 16:00:00</td>\n",
       "      <td>2022-02-28 16:00:00</td>\n",
       "      <td>0.0</td>\n",
       "      <td>21001</td>\n",
       "      <td>210</td>\n",
       "      <td>2</td>\n",
       "    </tr>\n",
       "    <tr>\n",
       "      <th>2</th>\n",
       "      <td>2</td>\n",
       "      <td>2022-02-28</td>\n",
       "      <td>2022-02-28</td>\n",
       "      <td>20:00:00</td>\n",
       "      <td>2022-02-28</td>\n",
       "      <td>20:00:00</td>\n",
       "      <td>8300935</td>\n",
       "      <td>0.0</td>\n",
       "      <td>No</td>\n",
       "      <td>other bike</td>\n",
       "      <td>Fahrraddiebstahl</td>\n",
       "      <td>Einfacher Diebstahl von Fahrrädern</td>\n",
       "      <td>2022-02-28 20:00:00</td>\n",
       "      <td>2022-02-28 20:00:00</td>\n",
       "      <td>0.0</td>\n",
       "      <td>83009</td>\n",
       "      <td>830</td>\n",
       "      <td>8</td>\n",
       "    </tr>\n",
       "    <tr>\n",
       "      <th>3</th>\n",
       "      <td>3</td>\n",
       "      <td>2022-02-28</td>\n",
       "      <td>2022-02-28</td>\n",
       "      <td>8:00:00</td>\n",
       "      <td>2022-02-28</td>\n",
       "      <td>8:00:00</td>\n",
       "      <td>4400727</td>\n",
       "      <td>1000.0</td>\n",
       "      <td>No</td>\n",
       "      <td>other bike</td>\n",
       "      <td>Fahrraddiebstahl</td>\n",
       "      <td>Sonstiger schwerer Diebstahl von Fahrrädern</td>\n",
       "      <td>2022-02-28 08:00:00</td>\n",
       "      <td>2022-02-28 08:00:00</td>\n",
       "      <td>0.0</td>\n",
       "      <td>44007</td>\n",
       "      <td>440</td>\n",
       "      <td>4</td>\n",
       "    </tr>\n",
       "    <tr>\n",
       "      <th>4</th>\n",
       "      <td>4</td>\n",
       "      <td>2022-02-28</td>\n",
       "      <td>2022-02-25</td>\n",
       "      <td>5:00:00</td>\n",
       "      <td>2022-02-25</td>\n",
       "      <td>17:00:00</td>\n",
       "      <td>9100305</td>\n",
       "      <td>499.0</td>\n",
       "      <td>No</td>\n",
       "      <td>man's bike</td>\n",
       "      <td>Fahrraddiebstahl</td>\n",
       "      <td>Sonstiger schwerer Diebstahl von Fahrrädern</td>\n",
       "      <td>2022-02-25 05:00:00</td>\n",
       "      <td>2022-02-25 17:00:00</td>\n",
       "      <td>12.0</td>\n",
       "      <td>91003</td>\n",
       "      <td>910</td>\n",
       "      <td>9</td>\n",
       "    </tr>\n",
       "  </tbody>\n",
       "</table>\n",
       "</div>"
      ],
      "text/plain": [
       "   Unnamed: 0 date_reported date_theft_start hour_theft_start date_theft_end  \\\n",
       "0           0    2022-02-28       2022-02-26         14:00:00     2022-02-26   \n",
       "1           1    2022-02-28       2022-02-28         16:00:00     2022-02-28   \n",
       "2           2    2022-02-28       2022-02-28         20:00:00     2022-02-28   \n",
       "3           3    2022-02-28       2022-02-28          8:00:00     2022-02-28   \n",
       "4           4    2022-02-28       2022-02-25          5:00:00     2022-02-25   \n",
       "\n",
       "  hour_theft_end      LOR  estimated_value attempt   type_bike  \\\n",
       "0       14:00:00  7100103            580.0      No        bike   \n",
       "1       16:00:00  2100106              0.0      No  man's bike   \n",
       "2       20:00:00  8300935              0.0      No  other bike   \n",
       "3        8:00:00  4400727           1000.0      No  other bike   \n",
       "4       17:00:00  9100305            499.0      No  man's bike   \n",
       "\n",
       "         theft_type                            theft_type_detail  \\\n",
       "0  Fahrraddiebstahl  Sonstiger schwerer Diebstahl von Fahrrädern   \n",
       "1  Fahrraddiebstahl  Sonstiger schwerer Diebstahl von Fahrrädern   \n",
       "2  Fahrraddiebstahl           Einfacher Diebstahl von Fahrrädern   \n",
       "3  Fahrraddiebstahl  Sonstiger schwerer Diebstahl von Fahrrädern   \n",
       "4  Fahrraddiebstahl  Sonstiger schwerer Diebstahl von Fahrrädern   \n",
       "\n",
       "  datetime_theft_start   datetime_theft_end  Timedelta_theft_end_start    BZR  \\\n",
       "0  2022-02-26 14:00:00  2022-02-26 14:00:00                        0.0  71001   \n",
       "1  2022-02-28 16:00:00  2022-02-28 16:00:00                        0.0  21001   \n",
       "2  2022-02-28 20:00:00  2022-02-28 20:00:00                        0.0  83009   \n",
       "3  2022-02-28 08:00:00  2022-02-28 08:00:00                        0.0  44007   \n",
       "4  2022-02-25 05:00:00  2022-02-25 17:00:00                       12.0  91003   \n",
       "\n",
       "   PGR  Bezirk  \n",
       "0  710       7  \n",
       "1  210       2  \n",
       "2  830       8  \n",
       "3  440       4  \n",
       "4  910       9  "
      ]
     },
     "execution_count": 44,
     "metadata": {},
     "output_type": "execute_result"
    }
   ],
   "source": [
    "df.head()"
   ]
  },
  {
   "cell_type": "code",
   "execution_count": 45,
   "id": "54665a1f",
   "metadata": {},
   "outputs": [],
   "source": [
    "# Group dataframe by date and LOR\n",
    "df_theft_model = df.pivot_table(index = \"date_theft_start\", columns = \"Bezirk\", values = \"type_bike\", aggfunc= \"count\")\n",
    "\n",
    "df_theft_model.fillna(value = 0, inplace=True)"
   ]
  },
  {
   "cell_type": "code",
   "execution_count": 46,
   "id": "271ff961",
   "metadata": {},
   "outputs": [
    {
     "data": {
      "text/html": [
       "<div>\n",
       "<style scoped>\n",
       "    .dataframe tbody tr th:only-of-type {\n",
       "        vertical-align: middle;\n",
       "    }\n",
       "\n",
       "    .dataframe tbody tr th {\n",
       "        vertical-align: top;\n",
       "    }\n",
       "\n",
       "    .dataframe thead th {\n",
       "        text-align: right;\n",
       "    }\n",
       "</style>\n",
       "<table border=\"1\" class=\"dataframe\">\n",
       "  <thead>\n",
       "    <tr style=\"text-align: right;\">\n",
       "      <th>Bezirk</th>\n",
       "      <th>1</th>\n",
       "      <th>2</th>\n",
       "      <th>3</th>\n",
       "      <th>4</th>\n",
       "      <th>5</th>\n",
       "      <th>6</th>\n",
       "      <th>7</th>\n",
       "      <th>8</th>\n",
       "      <th>9</th>\n",
       "      <th>10</th>\n",
       "      <th>11</th>\n",
       "      <th>12</th>\n",
       "    </tr>\n",
       "    <tr>\n",
       "      <th>date_theft_start</th>\n",
       "      <th></th>\n",
       "      <th></th>\n",
       "      <th></th>\n",
       "      <th></th>\n",
       "      <th></th>\n",
       "      <th></th>\n",
       "      <th></th>\n",
       "      <th></th>\n",
       "      <th></th>\n",
       "      <th></th>\n",
       "      <th></th>\n",
       "      <th></th>\n",
       "    </tr>\n",
       "  </thead>\n",
       "  <tbody>\n",
       "    <tr>\n",
       "      <th>2021-01-01</th>\n",
       "      <td>1.0</td>\n",
       "      <td>4.0</td>\n",
       "      <td>1.0</td>\n",
       "      <td>4.0</td>\n",
       "      <td>1.0</td>\n",
       "      <td>0.0</td>\n",
       "      <td>0.0</td>\n",
       "      <td>1.0</td>\n",
       "      <td>1.0</td>\n",
       "      <td>2.0</td>\n",
       "      <td>1.0</td>\n",
       "      <td>0.0</td>\n",
       "    </tr>\n",
       "    <tr>\n",
       "      <th>2021-01-02</th>\n",
       "      <td>0.0</td>\n",
       "      <td>0.0</td>\n",
       "      <td>5.0</td>\n",
       "      <td>3.0</td>\n",
       "      <td>0.0</td>\n",
       "      <td>1.0</td>\n",
       "      <td>1.0</td>\n",
       "      <td>2.0</td>\n",
       "      <td>2.0</td>\n",
       "      <td>0.0</td>\n",
       "      <td>1.0</td>\n",
       "      <td>1.0</td>\n",
       "    </tr>\n",
       "    <tr>\n",
       "      <th>2021-01-03</th>\n",
       "      <td>1.0</td>\n",
       "      <td>1.0</td>\n",
       "      <td>3.0</td>\n",
       "      <td>2.0</td>\n",
       "      <td>0.0</td>\n",
       "      <td>2.0</td>\n",
       "      <td>3.0</td>\n",
       "      <td>0.0</td>\n",
       "      <td>2.0</td>\n",
       "      <td>3.0</td>\n",
       "      <td>0.0</td>\n",
       "      <td>0.0</td>\n",
       "    </tr>\n",
       "    <tr>\n",
       "      <th>2021-01-04</th>\n",
       "      <td>6.0</td>\n",
       "      <td>7.0</td>\n",
       "      <td>3.0</td>\n",
       "      <td>4.0</td>\n",
       "      <td>0.0</td>\n",
       "      <td>2.0</td>\n",
       "      <td>4.0</td>\n",
       "      <td>3.0</td>\n",
       "      <td>1.0</td>\n",
       "      <td>0.0</td>\n",
       "      <td>1.0</td>\n",
       "      <td>2.0</td>\n",
       "    </tr>\n",
       "    <tr>\n",
       "      <th>2021-01-05</th>\n",
       "      <td>7.0</td>\n",
       "      <td>2.0</td>\n",
       "      <td>2.0</td>\n",
       "      <td>5.0</td>\n",
       "      <td>2.0</td>\n",
       "      <td>1.0</td>\n",
       "      <td>5.0</td>\n",
       "      <td>0.0</td>\n",
       "      <td>4.0</td>\n",
       "      <td>0.0</td>\n",
       "      <td>0.0</td>\n",
       "      <td>1.0</td>\n",
       "    </tr>\n",
       "    <tr>\n",
       "      <th>...</th>\n",
       "      <td>...</td>\n",
       "      <td>...</td>\n",
       "      <td>...</td>\n",
       "      <td>...</td>\n",
       "      <td>...</td>\n",
       "      <td>...</td>\n",
       "      <td>...</td>\n",
       "      <td>...</td>\n",
       "      <td>...</td>\n",
       "      <td>...</td>\n",
       "      <td>...</td>\n",
       "      <td>...</td>\n",
       "    </tr>\n",
       "    <tr>\n",
       "      <th>2022-02-24</th>\n",
       "      <td>3.0</td>\n",
       "      <td>10.0</td>\n",
       "      <td>14.0</td>\n",
       "      <td>3.0</td>\n",
       "      <td>0.0</td>\n",
       "      <td>4.0</td>\n",
       "      <td>7.0</td>\n",
       "      <td>4.0</td>\n",
       "      <td>5.0</td>\n",
       "      <td>0.0</td>\n",
       "      <td>1.0</td>\n",
       "      <td>1.0</td>\n",
       "    </tr>\n",
       "    <tr>\n",
       "      <th>2022-02-25</th>\n",
       "      <td>3.0</td>\n",
       "      <td>6.0</td>\n",
       "      <td>6.0</td>\n",
       "      <td>5.0</td>\n",
       "      <td>2.0</td>\n",
       "      <td>3.0</td>\n",
       "      <td>5.0</td>\n",
       "      <td>1.0</td>\n",
       "      <td>5.0</td>\n",
       "      <td>3.0</td>\n",
       "      <td>2.0</td>\n",
       "      <td>1.0</td>\n",
       "    </tr>\n",
       "    <tr>\n",
       "      <th>2022-02-26</th>\n",
       "      <td>4.0</td>\n",
       "      <td>2.0</td>\n",
       "      <td>3.0</td>\n",
       "      <td>1.0</td>\n",
       "      <td>1.0</td>\n",
       "      <td>3.0</td>\n",
       "      <td>4.0</td>\n",
       "      <td>2.0</td>\n",
       "      <td>0.0</td>\n",
       "      <td>0.0</td>\n",
       "      <td>1.0</td>\n",
       "      <td>0.0</td>\n",
       "    </tr>\n",
       "    <tr>\n",
       "      <th>2022-02-27</th>\n",
       "      <td>2.0</td>\n",
       "      <td>3.0</td>\n",
       "      <td>5.0</td>\n",
       "      <td>0.0</td>\n",
       "      <td>1.0</td>\n",
       "      <td>0.0</td>\n",
       "      <td>1.0</td>\n",
       "      <td>4.0</td>\n",
       "      <td>0.0</td>\n",
       "      <td>0.0</td>\n",
       "      <td>0.0</td>\n",
       "      <td>1.0</td>\n",
       "    </tr>\n",
       "    <tr>\n",
       "      <th>2022-02-28</th>\n",
       "      <td>0.0</td>\n",
       "      <td>1.0</td>\n",
       "      <td>0.0</td>\n",
       "      <td>1.0</td>\n",
       "      <td>0.0</td>\n",
       "      <td>0.0</td>\n",
       "      <td>0.0</td>\n",
       "      <td>1.0</td>\n",
       "      <td>1.0</td>\n",
       "      <td>1.0</td>\n",
       "      <td>1.0</td>\n",
       "      <td>1.0</td>\n",
       "    </tr>\n",
       "  </tbody>\n",
       "</table>\n",
       "<p>424 rows × 12 columns</p>\n",
       "</div>"
      ],
      "text/plain": [
       "Bezirk             1     2     3    4    5    6    7    8    9    10   11   12\n",
       "date_theft_start                                                              \n",
       "2021-01-01        1.0   4.0   1.0  4.0  1.0  0.0  0.0  1.0  1.0  2.0  1.0  0.0\n",
       "2021-01-02        0.0   0.0   5.0  3.0  0.0  1.0  1.0  2.0  2.0  0.0  1.0  1.0\n",
       "2021-01-03        1.0   1.0   3.0  2.0  0.0  2.0  3.0  0.0  2.0  3.0  0.0  0.0\n",
       "2021-01-04        6.0   7.0   3.0  4.0  0.0  2.0  4.0  3.0  1.0  0.0  1.0  2.0\n",
       "2021-01-05        7.0   2.0   2.0  5.0  2.0  1.0  5.0  0.0  4.0  0.0  0.0  1.0\n",
       "...               ...   ...   ...  ...  ...  ...  ...  ...  ...  ...  ...  ...\n",
       "2022-02-24        3.0  10.0  14.0  3.0  0.0  4.0  7.0  4.0  5.0  0.0  1.0  1.0\n",
       "2022-02-25        3.0   6.0   6.0  5.0  2.0  3.0  5.0  1.0  5.0  3.0  2.0  1.0\n",
       "2022-02-26        4.0   2.0   3.0  1.0  1.0  3.0  4.0  2.0  0.0  0.0  1.0  0.0\n",
       "2022-02-27        2.0   3.0   5.0  0.0  1.0  0.0  1.0  4.0  0.0  0.0  0.0  1.0\n",
       "2022-02-28        0.0   1.0   0.0  1.0  0.0  0.0  0.0  1.0  1.0  1.0  1.0  1.0\n",
       "\n",
       "[424 rows x 12 columns]"
      ]
     },
     "execution_count": 46,
     "metadata": {},
     "output_type": "execute_result"
    }
   ],
   "source": [
    "df_theft_model"
   ]
  },
  {
   "cell_type": "code",
   "execution_count": 47,
   "id": "6786aef3",
   "metadata": {},
   "outputs": [
    {
     "data": {
      "text/plain": [
       "(424, 13)"
      ]
     },
     "execution_count": 47,
     "metadata": {},
     "output_type": "execute_result"
    }
   ],
   "source": [
    "# create \"total\" column which sums up data for each day\n",
    "df_theft_model[\"total\"] = df_theft_model.sum(axis=1)\n",
    "\n",
    "df_theft_model.shape"
   ]
  },
  {
   "cell_type": "code",
   "execution_count": 48,
   "id": "1deb561e",
   "metadata": {
    "scrolled": false
   },
   "outputs": [
    {
     "data": {
      "text/html": [
       "<div>\n",
       "<style scoped>\n",
       "    .dataframe tbody tr th:only-of-type {\n",
       "        vertical-align: middle;\n",
       "    }\n",
       "\n",
       "    .dataframe tbody tr th {\n",
       "        vertical-align: top;\n",
       "    }\n",
       "\n",
       "    .dataframe thead th {\n",
       "        text-align: right;\n",
       "    }\n",
       "</style>\n",
       "<table border=\"1\" class=\"dataframe\">\n",
       "  <thead>\n",
       "    <tr style=\"text-align: right;\">\n",
       "      <th>Bezirk</th>\n",
       "      <th>1</th>\n",
       "      <th>2</th>\n",
       "      <th>3</th>\n",
       "      <th>4</th>\n",
       "      <th>5</th>\n",
       "      <th>6</th>\n",
       "      <th>7</th>\n",
       "      <th>8</th>\n",
       "      <th>9</th>\n",
       "      <th>10</th>\n",
       "      <th>11</th>\n",
       "      <th>12</th>\n",
       "      <th>total</th>\n",
       "    </tr>\n",
       "    <tr>\n",
       "      <th>date_theft_start</th>\n",
       "      <th></th>\n",
       "      <th></th>\n",
       "      <th></th>\n",
       "      <th></th>\n",
       "      <th></th>\n",
       "      <th></th>\n",
       "      <th></th>\n",
       "      <th></th>\n",
       "      <th></th>\n",
       "      <th></th>\n",
       "      <th></th>\n",
       "      <th></th>\n",
       "      <th></th>\n",
       "    </tr>\n",
       "  </thead>\n",
       "  <tbody>\n",
       "    <tr>\n",
       "      <th>2021-01-01</th>\n",
       "      <td>1.0</td>\n",
       "      <td>4.0</td>\n",
       "      <td>1.0</td>\n",
       "      <td>4.0</td>\n",
       "      <td>1.0</td>\n",
       "      <td>0.0</td>\n",
       "      <td>0.0</td>\n",
       "      <td>1.0</td>\n",
       "      <td>1.0</td>\n",
       "      <td>2.0</td>\n",
       "      <td>1.0</td>\n",
       "      <td>0.0</td>\n",
       "      <td>16.0</td>\n",
       "    </tr>\n",
       "    <tr>\n",
       "      <th>2021-01-02</th>\n",
       "      <td>0.0</td>\n",
       "      <td>0.0</td>\n",
       "      <td>5.0</td>\n",
       "      <td>3.0</td>\n",
       "      <td>0.0</td>\n",
       "      <td>1.0</td>\n",
       "      <td>1.0</td>\n",
       "      <td>2.0</td>\n",
       "      <td>2.0</td>\n",
       "      <td>0.0</td>\n",
       "      <td>1.0</td>\n",
       "      <td>1.0</td>\n",
       "      <td>16.0</td>\n",
       "    </tr>\n",
       "    <tr>\n",
       "      <th>2021-01-03</th>\n",
       "      <td>1.0</td>\n",
       "      <td>1.0</td>\n",
       "      <td>3.0</td>\n",
       "      <td>2.0</td>\n",
       "      <td>0.0</td>\n",
       "      <td>2.0</td>\n",
       "      <td>3.0</td>\n",
       "      <td>0.0</td>\n",
       "      <td>2.0</td>\n",
       "      <td>3.0</td>\n",
       "      <td>0.0</td>\n",
       "      <td>0.0</td>\n",
       "      <td>17.0</td>\n",
       "    </tr>\n",
       "    <tr>\n",
       "      <th>2021-01-04</th>\n",
       "      <td>6.0</td>\n",
       "      <td>7.0</td>\n",
       "      <td>3.0</td>\n",
       "      <td>4.0</td>\n",
       "      <td>0.0</td>\n",
       "      <td>2.0</td>\n",
       "      <td>4.0</td>\n",
       "      <td>3.0</td>\n",
       "      <td>1.0</td>\n",
       "      <td>0.0</td>\n",
       "      <td>1.0</td>\n",
       "      <td>2.0</td>\n",
       "      <td>33.0</td>\n",
       "    </tr>\n",
       "    <tr>\n",
       "      <th>2021-01-05</th>\n",
       "      <td>7.0</td>\n",
       "      <td>2.0</td>\n",
       "      <td>2.0</td>\n",
       "      <td>5.0</td>\n",
       "      <td>2.0</td>\n",
       "      <td>1.0</td>\n",
       "      <td>5.0</td>\n",
       "      <td>0.0</td>\n",
       "      <td>4.0</td>\n",
       "      <td>0.0</td>\n",
       "      <td>0.0</td>\n",
       "      <td>1.0</td>\n",
       "      <td>29.0</td>\n",
       "    </tr>\n",
       "  </tbody>\n",
       "</table>\n",
       "</div>"
      ],
      "text/plain": [
       "Bezirk              1    2    3    4    5    6    7    8    9   10   11   12  \\\n",
       "date_theft_start                                                               \n",
       "2021-01-01        1.0  4.0  1.0  4.0  1.0  0.0  0.0  1.0  1.0  2.0  1.0  0.0   \n",
       "2021-01-02        0.0  0.0  5.0  3.0  0.0  1.0  1.0  2.0  2.0  0.0  1.0  1.0   \n",
       "2021-01-03        1.0  1.0  3.0  2.0  0.0  2.0  3.0  0.0  2.0  3.0  0.0  0.0   \n",
       "2021-01-04        6.0  7.0  3.0  4.0  0.0  2.0  4.0  3.0  1.0  0.0  1.0  2.0   \n",
       "2021-01-05        7.0  2.0  2.0  5.0  2.0  1.0  5.0  0.0  4.0  0.0  0.0  1.0   \n",
       "\n",
       "Bezirk            total  \n",
       "date_theft_start         \n",
       "2021-01-01         16.0  \n",
       "2021-01-02         16.0  \n",
       "2021-01-03         17.0  \n",
       "2021-01-04         33.0  \n",
       "2021-01-05         29.0  "
      ]
     },
     "execution_count": 48,
     "metadata": {},
     "output_type": "execute_result"
    }
   ],
   "source": [
    "df_theft_model.head()"
   ]
  },
  {
   "cell_type": "code",
   "execution_count": 37,
   "id": "3307d9c3",
   "metadata": {},
   "outputs": [
    {
     "data": {
      "text/plain": [
       "date_theft_start\n",
       "2021-01-01    16.0\n",
       "2021-01-02    16.0\n",
       "2021-01-03    17.0\n",
       "2021-01-04    33.0\n",
       "2021-01-05    29.0\n",
       "              ... \n",
       "2022-02-23    32.0\n",
       "2022-02-24    27.0\n",
       "2022-02-25    27.0\n",
       "2022-02-26    12.0\n",
       "2022-02-27     5.0\n",
       "Name: total, Length: 423, dtype: float64"
      ]
     },
     "execution_count": 37,
     "metadata": {},
     "output_type": "execute_result"
    }
   ],
   "source": [
    "df_theft_model[\"total\"]"
   ]
  },
  {
   "cell_type": "code",
   "execution_count": 49,
   "id": "281c5064",
   "metadata": {},
   "outputs": [
    {
     "data": {
      "text/plain": [
       "DatetimeIndex([], dtype='datetime64[ns]', freq=None)"
      ]
     },
     "execution_count": 49,
     "metadata": {},
     "output_type": "execute_result"
    }
   ],
   "source": [
    "pd.date_range(start = df[\"date_theft_start\"].min(), end = df[\"date_theft_start\"].max()).difference(df_theft_model.index)"
   ]
  },
  {
   "cell_type": "markdown",
   "id": "ec07ccf2",
   "metadata": {},
   "source": [
    "# Build a baseline model predicting total of stolen bikes"
   ]
  },
  {
   "cell_type": "code",
   "execution_count": 54,
   "id": "52a54fbd",
   "metadata": {
    "scrolled": true
   },
   "outputs": [
    {
     "data": {
      "image/png": "[encoded data removed]",
      "text/plain": [
       "<Figure size 432x288 with 1 Axes>"
      ]
     },
     "metadata": {
      "needs_background": "light"
     },
     "output_type": "display_data"
    }
   ],
   "source": [
    "plt.plot(df_theft_model[\"total\"]);"
   ]
  },
  {
   "cell_type": "markdown",
   "id": "e4ba77bd",
   "metadata": {},
   "source": [
    "## Train-Test-Split"
   ]
  },
  {
   "cell_type": "code",
   "execution_count": 77,
   "id": "3dc1ba87",
   "metadata": {},
   "outputs": [
    {
     "data": {
      "text/plain": [
       "424"
      ]
     },
     "execution_count": 77,
     "metadata": {},
     "output_type": "execute_result"
    }
   ],
   "source": [
    "len(df_theft_model)"
   ]
  },
  {
   "cell_type": "code",
   "execution_count": 80,
   "id": "d9102db9",
   "metadata": {},
   "outputs": [
    {
     "data": {
      "text/plain": [
       "339"
      ]
     },
     "execution_count": 80,
     "metadata": {},
     "output_type": "execute_result"
    }
   ],
   "source": [
    "len_ = int(len(df_theft_model)*0.8)\n",
    "len_"
   ]
  },
  {
   "cell_type": "code",
   "execution_count": 81,
   "id": "ecccc583",
   "metadata": {},
   "outputs": [],
   "source": [
    "df_train = df_theft_model[\"total\"][:len_]"
   ]
  },
  {
   "cell_type": "code",
   "execution_count": 82,
   "id": "de6cc975",
   "metadata": {},
   "outputs": [],
   "source": [
    "df_test = df_theft_model[\"total\"][len_:]"
   ]
  },
  {
   "cell_type": "code",
   "execution_count": 83,
   "id": "d1c13e7d",
   "metadata": {},
   "outputs": [
    {
     "data": {
      "text/plain": [
       "date_theft_start\n",
       "2021-12-06    38.0\n",
       "2021-12-07    60.0\n",
       "2021-12-08    42.0\n",
       "2021-12-09    30.0\n",
       "2021-12-10    43.0\n",
       "Name: total, dtype: float64"
      ]
     },
     "execution_count": 83,
     "metadata": {},
     "output_type": "execute_result"
    }
   ],
   "source": [
    "df_test.head()"
   ]
  },
  {
   "cell_type": "code",
   "execution_count": 84,
   "id": "0b9757df",
   "metadata": {},
   "outputs": [
    {
     "data": {
      "text/plain": [
       "date_theft_start\n",
       "2021-01-01    16.0\n",
       "2021-01-02    16.0\n",
       "2021-01-03    17.0\n",
       "2021-01-04    33.0\n",
       "2021-01-05    29.0\n",
       "              ... \n",
       "2021-12-01    53.0\n",
       "2021-12-02    48.0\n",
       "2021-12-03    57.0\n",
       "2021-12-04    35.0\n",
       "2021-12-05    29.0\n",
       "Name: total, Length: 339, dtype: float64"
      ]
     },
     "execution_count": 84,
     "metadata": {},
     "output_type": "execute_result"
    }
   ],
   "source": [
    "df_train"
   ]
  },
  {
   "cell_type": "markdown",
   "id": "6879643e",
   "metadata": {},
   "source": [
    "## Baseline model"
   ]
  },
  {
   "cell_type": "markdown",
   "id": "8eca5ea1",
   "metadata": {},
   "source": [
    "As a baseline model we just predict the mean of the train set. "
   ]
  },
  {
   "cell_type": "code",
   "execution_count": 97,
   "id": "6109745b",
   "metadata": {},
   "outputs": [],
   "source": [
    "y_pred_base = [df_train.mean()] * len(df_test)"
   ]
  },
  {
   "cell_type": "code",
   "execution_count": 105,
   "id": "79d0ce0b",
   "metadata": {
    "scrolled": true
   },
   "outputs": [
    {
     "data": {
      "text/plain": [
       "18.892062626042613"
      ]
     },
     "execution_count": 105,
     "metadata": {},
     "output_type": "execute_result"
    }
   ],
   "source": [
    "mean_squared_error(df_test, y_pred_base, squared = False)\n",
    "# "
   ]
  },
  {
   "cell_type": "markdown",
   "id": "5966d329",
   "metadata": {},
   "source": [
    "## Build a RNN model"
   ]
  },
  {
   "cell_type": "code",
   "execution_count": 125,
   "id": "03280392",
   "metadata": {},
   "outputs": [],
   "source": [
    "window_size = 7\n",
    "future_horizon = 2\n",
    "\n",
    "def get_X_y(window_size, future_horizon, dataset):\n",
    "\n",
    "  X = []\n",
    "  y = []\n",
    "\n",
    "  for i in range(0, dataset.shape[0] - window_size - future_horizon):\n",
    "    X.append(dataset[i: i + window_size])\n",
    "    y.append(dataset[i + window_size: i + window_size + future_horizon])\n",
    "\n",
    "  return np.array(X), np.array(y)"
   ]
  },
  {
   "cell_type": "code",
   "execution_count": 129,
   "id": "a759be36",
   "metadata": {},
   "outputs": [],
   "source": [
    "X_train, y_train = get_X_y(7,1, df_train)"
   ]
  },
  {
   "cell_type": "code",
   "execution_count": 132,
   "id": "37f6e603",
   "metadata": {},
   "outputs": [
    {
     "data": {
      "text/plain": [
       "(331, 7)"
      ]
     },
     "execution_count": 132,
     "metadata": {},
     "output_type": "execute_result"
    }
   ],
   "source": [
    "X_train.shape"
   ]
  },
  {
   "cell_type": "code",
   "execution_count": 141,
   "id": "87b9a1eb",
   "metadata": {},
   "outputs": [],
   "source": [
    "X_train = np.expand_dims(X_train, 2)"
   ]
  },
  {
   "cell_type": "code",
   "execution_count": 143,
   "id": "b98f0ed3",
   "metadata": {},
   "outputs": [
    {
     "data": {
      "text/plain": [
       "(7, 1)"
      ]
     },
     "execution_count": 143,
     "metadata": {},
     "output_type": "execute_result"
    }
   ],
   "source": [
    "X_train.shape[1:]"
   ]
  },
  {
   "cell_type": "code",
   "execution_count": 144,
   "id": "52ae2862",
   "metadata": {},
   "outputs": [],
   "source": [
    "rnn_model = Sequential()\n",
    "rnn_model.add(LSTM(units=10, activation='tanh', input_shape = X_train.shape[1:]))\n",
    "rnn_model.add(Dense(1, activation=\"linear\"))"
   ]
  },
  {
   "cell_type": "code",
   "execution_count": 145,
   "id": "3b82bd2b",
   "metadata": {},
   "outputs": [],
   "source": [
    "rnn_model.compile(loss = \"mse\", \n",
    "                 optimizer = \"rmsprop\", \n",
    "                 metrics = RootMeanSquaredError())"
   ]
  },
  {
   "cell_type": "code",
   "execution_count": 147,
   "id": "39fa56a9",
   "metadata": {},
   "outputs": [
    {
     "name": "stdout",
     "output_type": "stream",
     "text": [
      "Epoch 1/50\n",
      "33/33 [==============================] - 1s 5ms/step - loss: 3038.7742 - root_mean_squared_error: 55.1251 - val_loss: 4123.1470 - val_root_mean_squared_error: 64.2117\n",
      "Epoch 2/50\n",
      "33/33 [==============================] - 0s 4ms/step - loss: 3017.0183 - root_mean_squared_error: 54.9274 - val_loss: 4091.6362 - val_root_mean_squared_error: 63.9659\n",
      "Epoch 3/50\n",
      "33/33 [==============================] - 0s 4ms/step - loss: 2977.2534 - root_mean_squared_error: 54.5642 - val_loss: 4033.4478 - val_root_mean_squared_error: 63.5094\n",
      "Epoch 4/50\n",
      "33/33 [==============================] - 0s 4ms/step - loss: 2943.0134 - root_mean_squared_error: 54.2495 - val_loss: 4003.1255 - val_root_mean_squared_error: 63.2703\n",
      "Epoch 5/50\n",
      "33/33 [==============================] - 0s 5ms/step - loss: 2921.5945 - root_mean_squared_error: 54.0518 - val_loss: 3980.7546 - val_root_mean_squared_error: 63.0932\n",
      "Epoch 6/50\n",
      "33/33 [==============================] - 0s 5ms/step - loss: 2902.9609 - root_mean_squared_error: 53.8791 - val_loss: 3959.2383 - val_root_mean_squared_error: 62.9225\n",
      "Epoch 7/50\n",
      "33/33 [==============================] - 0s 4ms/step - loss: 2877.5898 - root_mean_squared_error: 53.6432 - val_loss: 3915.7366 - val_root_mean_squared_error: 62.5758\n",
      "Epoch 8/50\n",
      "33/33 [==============================] - 0s 4ms/step - loss: 2841.8391 - root_mean_squared_error: 53.3089 - val_loss: 3878.7375 - val_root_mean_squared_error: 62.2795\n",
      "Epoch 9/50\n",
      "33/33 [==============================] - 0s 4ms/step - loss: 2817.4812 - root_mean_squared_error: 53.0800 - val_loss: 3852.3047 - val_root_mean_squared_error: 62.0669\n",
      "Epoch 10/50\n",
      "33/33 [==============================] - 0s 4ms/step - loss: 2796.6104 - root_mean_squared_error: 52.8830 - val_loss: 3827.6846 - val_root_mean_squared_error: 61.8683\n",
      "Epoch 11/50\n",
      "33/33 [==============================] - 0s 4ms/step - loss: 2776.6658 - root_mean_squared_error: 52.6941 - val_loss: 3803.7202 - val_root_mean_squared_error: 61.6743\n",
      "Epoch 12/50\n",
      "33/33 [==============================] - 0s 4ms/step - loss: 2756.8535 - root_mean_squared_error: 52.5057 - val_loss: 3779.7698 - val_root_mean_squared_error: 61.4798\n",
      "Epoch 13/50\n",
      "33/33 [==============================] - 0s 4ms/step - loss: 2737.1370 - root_mean_squared_error: 52.3177 - val_loss: 3756.1689 - val_root_mean_squared_error: 61.2876\n",
      "Epoch 14/50\n",
      "33/33 [==============================] - 0s 3ms/step - loss: 2716.7593 - root_mean_squared_error: 52.1225 - val_loss: 3731.1797 - val_root_mean_squared_error: 61.0834\n",
      "Epoch 15/50\n",
      "33/33 [==============================] - 0s 4ms/step - loss: 2687.1145 - root_mean_squared_error: 51.8374 - val_loss: 3680.1094 - val_root_mean_squared_error: 60.6639\n",
      "Epoch 16/50\n",
      "33/33 [==============================] - 0s 4ms/step - loss: 2627.8416 - root_mean_squared_error: 51.2625 - val_loss: 3602.4834 - val_root_mean_squared_error: 60.0207\n",
      "Epoch 17/50\n",
      "33/33 [==============================] - 0s 4ms/step - loss: 2585.9917 - root_mean_squared_error: 50.8526 - val_loss: 3564.3347 - val_root_mean_squared_error: 59.7020\n",
      "Epoch 18/50\n",
      "33/33 [==============================] - 0s 4ms/step - loss: 2554.2471 - root_mean_squared_error: 50.5396 - val_loss: 3521.8245 - val_root_mean_squared_error: 59.3450\n",
      "Epoch 19/50\n",
      "33/33 [==============================] - 0s 4ms/step - loss: 2511.1748 - root_mean_squared_error: 50.1116 - val_loss: 3465.1404 - val_root_mean_squared_error: 58.8654\n",
      "Epoch 20/50\n",
      "33/33 [==============================] - 0s 4ms/step - loss: 2476.7944 - root_mean_squared_error: 49.7674 - val_loss: 3429.4165 - val_root_mean_squared_error: 58.5612\n",
      "Epoch 21/50\n",
      "33/33 [==============================] - 0s 4ms/step - loss: 2450.7871 - root_mean_squared_error: 49.5054 - val_loss: 3398.6758 - val_root_mean_squared_error: 58.2982\n",
      "Epoch 22/50\n",
      "33/33 [==============================] - 0s 4ms/step - loss: 2426.1094 - root_mean_squared_error: 49.2556 - val_loss: 3368.4524 - val_root_mean_squared_error: 58.0384\n",
      "Epoch 23/50\n",
      "33/33 [==============================] - 0s 4ms/step - loss: 2402.3108 - root_mean_squared_error: 49.0134 - val_loss: 3339.1833 - val_root_mean_squared_error: 57.7857\n",
      "Epoch 24/50\n",
      "33/33 [==============================] - 0s 4ms/step - loss: 2378.7212 - root_mean_squared_error: 48.7721 - val_loss: 3309.9326 - val_root_mean_squared_error: 57.5320\n",
      "Epoch 25/50\n",
      "33/33 [==============================] - 0s 4ms/step - loss: 2355.0696 - root_mean_squared_error: 48.5291 - val_loss: 3280.4402 - val_root_mean_squared_error: 57.2751\n",
      "Epoch 26/50\n",
      "33/33 [==============================] - 0s 4ms/step - loss: 2331.5735 - root_mean_squared_error: 48.2864 - val_loss: 3251.3816 - val_root_mean_squared_error: 57.0209\n",
      "Epoch 27/50\n",
      "33/33 [==============================] - 0s 4ms/step - loss: 2308.1780 - root_mean_squared_error: 48.0435 - val_loss: 3222.1433 - val_root_mean_squared_error: 56.7639\n",
      "Epoch 28/50\n",
      "33/33 [==============================] - 0s 4ms/step - loss: 2285.2852 - root_mean_squared_error: 47.8047 - val_loss: 3193.9771 - val_root_mean_squared_error: 56.5153\n",
      "Epoch 29/50\n",
      "33/33 [==============================] - 0s 4ms/step - loss: 2262.1987 - root_mean_squared_error: 47.5626 - val_loss: 3164.6741 - val_root_mean_squared_error: 56.2554\n",
      "Epoch 30/50\n",
      "33/33 [==============================] - 0s 4ms/step - loss: 2239.4534 - root_mean_squared_error: 47.3229 - val_loss: 3136.5464 - val_root_mean_squared_error: 56.0049\n",
      "Epoch 31/50\n",
      "33/33 [==============================] - 0s 4ms/step - loss: 2216.8076 - root_mean_squared_error: 47.0830 - val_loss: 3108.1797 - val_root_mean_squared_error: 55.7511\n",
      "Epoch 32/50\n",
      "33/33 [==============================] - 0s 5ms/step - loss: 2194.1704 - root_mean_squared_error: 46.8420 - val_loss: 3079.7808 - val_root_mean_squared_error: 55.4958\n",
      "Epoch 33/50\n",
      "33/33 [==============================] - 0s 4ms/step - loss: 2171.7310 - root_mean_squared_error: 46.6018 - val_loss: 3051.5520 - val_root_mean_squared_error: 55.2409\n",
      "Epoch 34/50\n",
      "33/33 [==============================] - 0s 4ms/step - loss: 2149.2385 - root_mean_squared_error: 46.3599 - val_loss: 3023.4595 - val_root_mean_squared_error: 54.9860\n",
      "Epoch 35/50\n",
      "33/33 [==============================] - 0s 4ms/step - loss: 2127.4507 - root_mean_squared_error: 46.1243 - val_loss: 2995.9241 - val_root_mean_squared_error: 54.7350\n",
      "Epoch 36/50\n",
      "33/33 [==============================] - 0s 4ms/step - loss: 2105.2556 - root_mean_squared_error: 45.8831 - val_loss: 2968.0825 - val_root_mean_squared_error: 54.4801\n",
      "Epoch 37/50\n",
      "33/33 [==============================] - 0s 4ms/step - loss: 2083.4421 - root_mean_squared_error: 45.6447 - val_loss: 2940.6006 - val_root_mean_squared_error: 54.2273\n",
      "Epoch 38/50\n",
      "33/33 [==============================] - 0s 4ms/step - loss: 2061.8040 - root_mean_squared_error: 45.4071 - val_loss: 2913.0635 - val_root_mean_squared_error: 53.9728\n",
      "Epoch 39/50\n",
      "33/33 [==============================] - 0s 3ms/step - loss: 2040.1494 - root_mean_squared_error: 45.1680 - val_loss: 2885.8889 - val_root_mean_squared_error: 53.7205\n",
      "Epoch 40/50\n",
      "33/33 [==============================] - 0s 4ms/step - loss: 2018.3856 - root_mean_squared_error: 44.9264 - val_loss: 2858.3411 - val_root_mean_squared_error: 53.4635\n",
      "Epoch 41/50\n",
      "33/33 [==============================] - 0s 4ms/step - loss: 1997.3271 - root_mean_squared_error: 44.6915 - val_loss: 2831.9624 - val_root_mean_squared_error: 53.2162\n",
      "Epoch 42/50\n",
      "33/33 [==============================] - 0s 4ms/step - loss: 1976.1368 - root_mean_squared_error: 44.4538 - val_loss: 2804.6892 - val_root_mean_squared_error: 52.9593\n",
      "Epoch 43/50\n",
      "33/33 [==============================] - 0s 4ms/step - loss: 1954.1470 - root_mean_squared_error: 44.2057 - val_loss: 2777.3667 - val_root_mean_squared_error: 52.7007\n",
      "Epoch 44/50\n",
      "33/33 [==============================] - 0s 4ms/step - loss: 1930.3494 - root_mean_squared_error: 43.9357 - val_loss: 2746.6638 - val_root_mean_squared_error: 52.4086\n",
      "Epoch 45/50\n",
      "33/33 [==============================] - 0s 4ms/step - loss: 1893.6815 - root_mean_squared_error: 43.5165 - val_loss: 2683.7219 - val_root_mean_squared_error: 51.8047\n",
      "Epoch 46/50\n",
      "33/33 [==============================] - 0s 4ms/step - loss: 1855.2612 - root_mean_squared_error: 43.0727 - val_loss: 2647.7253 - val_root_mean_squared_error: 51.4561\n"
     ]
    },
    {
     "name": "stdout",
     "output_type": "stream",
     "text": [
      "Epoch 47/50\n",
      "33/33 [==============================] - 0s 4ms/step - loss: 1831.2334 - root_mean_squared_error: 42.7929 - val_loss: 2617.9797 - val_root_mean_squared_error: 51.1662\n",
      "Epoch 48/50\n",
      "33/33 [==============================] - 0s 4ms/step - loss: 1808.9473 - root_mean_squared_error: 42.5317 - val_loss: 2589.8279 - val_root_mean_squared_error: 50.8904\n",
      "Epoch 49/50\n",
      "33/33 [==============================] - 0s 4ms/step - loss: 1786.5575 - root_mean_squared_error: 42.2677 - val_loss: 2560.6992 - val_root_mean_squared_error: 50.6034\n",
      "Epoch 50/50\n",
      "33/33 [==============================] - 0s 4ms/step - loss: 1764.6376 - root_mean_squared_error: 42.0076 - val_loss: 2532.5754 - val_root_mean_squared_error: 50.3247\n"
     ]
    }
   ],
   "source": [
    "es = callbacks.EarlyStopping(patience=3, restore_best_weights=True)\n",
    "\n",
    "history = rnn_model.fit(X_train, \n",
    "                        y_train,\n",
    "          batch_size=8, \n",
    "          epochs=50,\n",
    "          validation_split=0.2,\n",
    "          callbacks=[es], verbose = 1)"
   ]
  },
  {
   "cell_type": "code",
   "execution_count": null,
   "id": "87ce9cd9",
   "metadata": {},
   "outputs": [],
   "source": [
    "rnn_model"
   ]
  },
  {
   "cell_type": "code",
   "execution_count": null,
   "id": "ea024e56",
   "metadata": {},
   "outputs": [],
   "source": []
  },
  {
   "cell_type": "code",
   "execution_count": null,
   "id": "3df2d087",
   "metadata": {},
   "outputs": [],
   "source": []
  },
  {
   "cell_type": "code",
   "execution_count": null,
   "id": "4d427f3d",
   "metadata": {},
   "outputs": [],
   "source": []
  },
  {
   "cell_type": "code",
   "execution_count": null,
   "id": "f31c0b16",
   "metadata": {},
   "outputs": [],
   "source": []
  },
  {
   "cell_type": "code",
   "execution_count": 35,
   "id": "c4159025",
   "metadata": {},
   "outputs": [
    {
     "data": {
      "text/plain": [
       "(423, 539)"
      ]
     },
     "execution_count": 35,
     "metadata": {},
     "output_type": "execute_result"
    }
   ],
   "source": [
    "df_theft_model.shape"
   ]
  },
  {
   "cell_type": "code",
   "execution_count": null,
   "id": "b7de5ad5",
   "metadata": {},
   "outputs": [],
   "source": [
    "df[\"date_theft_start\"].min(), df[\"date_theft_start\"].max()"
   ]
  },
  {
   "cell_type": "code",
   "execution_count": null,
   "id": "261c90b8",
   "metadata": {},
   "outputs": [],
   "source": []
  }
 ],
 "metadata": {
  "kernelspec": {
   "display_name": "Python 3 (ipykernel)",
   "language": "python",
   "name": "python3"
  },
  "language_info": {
   "codemirror_mode": {
    "name": "ipython",
    "version": 3
   },
   "file_extension": ".py",
   "mimetype": "text/x-python",
   "name": "python",
   "nbconvert_exporter": "python",
   "pygments_lexer": "ipython3",
   "version": "3.8.12"
  },
  "toc": {
   "base_numbering": 1,
   "nav_menu": {},
   "number_sections": true,
   "sideBar": true,
   "skip_h1_title": false,
   "title_cell": "Table of Contents",
   "title_sidebar": "Contents",
   "toc_cell": false,
   "toc_position": {},
   "toc_section_display": true,
   "toc_window_display": false
  }
 },
 "nbformat": 4,
 "nbformat_minor": 5
}
