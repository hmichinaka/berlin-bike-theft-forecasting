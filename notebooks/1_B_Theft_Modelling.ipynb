{
 "cells": [
  {
   "cell_type": "code",
   "execution_count": null,
   "id": "1088dffd",
   "metadata": {},
   "outputs": [],
   "source": []
  },
  {
   "cell_type": "code",
   "execution_count": null,
   "id": "f9ea1514",
   "metadata": {},
   "outputs": [],
   "source": []
  },
  {
   "cell_type": "code",
   "execution_count": null,
   "id": "e18a21a6",
   "metadata": {},
   "outputs": [],
   "source": []
  },
  {
   "cell_type": "code",
   "execution_count": null,
   "id": "4a5dc295",
   "metadata": {},
   "outputs": [],
   "source": []
  },
  {
   "cell_type": "code",
   "execution_count": null,
   "id": "4415810e",
   "metadata": {},
   "outputs": [],
   "source": [
    "# Group dataframe by date and LOR\n",
    "\n",
    "df_theft_model = df.pivot_table(index = \"date_theft_start\", columns = \"LOR\", values = \"type_bike\", aggfunc= \"count\")\n",
    "\n",
    "df_theft_model.fillna(value = 0, inplace=True)\n",
    "\n",
    "df_theft_model[\"total\"] = df_theft_model.sum(axis=1)\n",
    "\n",
    "df_theft_model.shape\n",
    "\n",
    "df[\"LOR\"].nunique()\n",
    "\n",
    "df[\"date_reported\"].nunique()\n",
    "\n",
    "df[\"date_theft_start\"].min(), df[\"date_theft_start\"].max()\n",
    "\n",
    "pd.date_range(start = df[\"date_theft_start\"].min(), end = df[\"date_theft_start\"].max()).difference(df_theft_model.index)"
   ]
  }
 ],
 "metadata": {
  "kernelspec": {
   "display_name": "Python 3 (ipykernel)",
   "language": "python",
   "name": "python3"
  },
  "language_info": {
   "codemirror_mode": {
    "name": "ipython",
    "version": 3
   },
   "file_extension": ".py",
   "mimetype": "text/x-python",
   "name": "python",
   "nbconvert_exporter": "python",
   "pygments_lexer": "ipython3",
   "version": "3.8.12"
  },
  "toc": {
   "base_numbering": 1,
   "nav_menu": {},
   "number_sections": true,
   "sideBar": true,
   "skip_h1_title": false,
   "title_cell": "Table of Contents",
   "title_sidebar": "Contents",
   "toc_cell": false,
   "toc_position": {},
   "toc_section_display": true,
   "toc_window_display": false
  }
 },
 "nbformat": 4,
 "nbformat_minor": 5
}
